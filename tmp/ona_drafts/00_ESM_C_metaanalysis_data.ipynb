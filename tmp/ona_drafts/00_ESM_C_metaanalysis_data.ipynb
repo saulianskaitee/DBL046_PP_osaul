{
 "cells": [
  {
   "cell_type": "code",
   "execution_count": null,
   "id": "7cdf9abd",
   "metadata": {},
   "outputs": [],
   "source": [
    "import sys, os\n",
    "print(\"Kernel Python:\", sys.executable)\n",
    "\n",
    "import pandas as pd\n",
    "import numpy as np\n",
    "import seaborn as sns\n",
    "import matplotlib.pyplot as plt\n",
    "\n",
    "import torch\n",
    "print(\"PyTorch:\", torch.__version__)\n",
    "\n",
    "from tqdm import tqdm\n",
    "# setting device on GPU if available, else CPU\n",
    "device = torch.device('cuda' if torch.cuda.is_available() else 'cpu')\n",
    "print('Using device:', device)\n",
    "print(\"Current location:\", os.getcwd())\n",
    "\n",
    "from esm.models.esmc import ESMC\n",
    "from esm.sdk.api import ESMProtein, LogitsConfig"
   ]
  },
  {
   "cell_type": "code",
   "execution_count": null,
   "id": "29258512-fa7f-459d-961b-fa7d18c32331",
   "metadata": {},
   "outputs": [],
   "source": [
    "import torch\n",
    "print(torch.version.cuda)   # shows the CUDA version PyTorch was built against\n",
    "print(torch.backends.cudnn.version())  # cuDNN version\n",
    "print(torch.cuda.is_available())"
   ]
  },
  {
   "cell_type": "code",
   "execution_count": null,
   "id": "4d9e67d8",
   "metadata": {},
   "outputs": [],
   "source": [
    "# Load metaanalayis data\n",
    "interaction_df = pd.read_csv(\"../data/meta_analysis/source_data.csv\")\n",
    "interaction_df = interaction_df[(interaction_df[\"A_seq\"].notna())& (interaction_df[\"B_seq\"].notna())].reset_index(drop=True)\n",
    "interaction_df = interaction_df[interaction_df[\"target_chains\"] == \"[\\\"B\\\"]\"]\n",
    "interaction_df = interaction_df[interaction_df[\"B_seq\"].notna()].reset_index(drop=True)\n",
    "cols_remain = [\"binder_id\", \"target_id\", \"binder_chain\", \"target_chains\", \"binder\", \"A_seq\", \"B_seq\"]\n",
    "interaction_df = interaction_df[cols_remain]\n",
    "# interaction_df = interaction_df.drop(columns=[\"binder_chain\", \"target_chains\"])\n",
    "\n",
    "interaction_df"
   ]
  },
  {
   "cell_type": "code",
   "execution_count": null,
   "id": "e1e07e5b-391b-4c3f-bc4b-a4cfe30b818f",
   "metadata": {},
   "outputs": [],
   "source": [
    "# No NaN target_id rows\n",
    "print(f\"{len(interaction_df[interaction_df.target_id.isna() == True])} entries with 'target_id' nan\")\n",
    "interaction_df[interaction_df.target_id.isna() == True]\n",
    "\n",
    "x = interaction_df[\"target_id\"].unique()\n",
    "print(f\"{len(x)} different targets, which are: {x}\")\n",
    "\n",
    "x = interaction_df[interaction_df[\"target_id\"] == \"EGFR\"][\"B_seq\"].unique()\n",
    "print(f\"Target 'EGFR' has {len(x)} unique sequences.\")"
   ]
  },
  {
   "cell_type": "code",
   "execution_count": null,
   "id": "8f18e9a7-3dd5-4902-92d2-4d3eefa888c2",
   "metadata": {},
   "outputs": [],
   "source": [
    "print(f\"Tagets and number of diff sequences for each:\")\n",
    "for i in interaction_df[\"target_id\"].unique():\n",
    "    x = interaction_df[interaction_df[\"target_id\"] == i][\"B_seq\"].unique()\n",
    "    print(i, len(x))"
   ]
  },
  {
   "cell_type": "code",
   "execution_count": null,
   "id": "3c273219-51bb-4477-9d12-adc8c930f69b",
   "metadata": {},
   "outputs": [],
   "source": [
    "dfu = interaction_df.drop_duplicates([\"target_id\", \"B_seq\"])\n",
    "dfu[dfu.target_id == \"EGFR\"].B_seq.tolist()\n",
    "targets_Dict, target_tracking = {}, {target:int(2) for target in dfu.target_id.unique()}\n",
    "target_tracking"
   ]
  },
  {
   "cell_type": "code",
   "execution_count": null,
   "id": "7165d7a8",
   "metadata": {},
   "outputs": [],
   "source": [
    "for idx, target_id in enumerate(dfu.target_id):\n",
    "    if target_id not in targets_Dict.keys():\n",
    "        targets_Dict[target_id] = dfu.iloc[idx][\"B_seq\"]\n",
    "        print(target_id)\n",
    "    else:\n",
    "        target_id_new = f\"{target_id}_{target_tracking[target_id]}\"\n",
    "        targets_Dict[target_id_new] = dfu.iloc[idx][\"B_seq\"]\n",
    "        count = target_tracking[target_id]\n",
    "        target_tracking[target_id] = count + 1\n",
    "        print(target_id_new)"
   ]
  },
  {
   "cell_type": "code",
   "execution_count": null,
   "id": "4ff925bf-8cca-4f91-8752-c377a03ae83f",
   "metadata": {},
   "outputs": [],
   "source": [
    "interaction_df['target_id_mod'] = interaction_df['B_seq'].map({b:a for a, b in targets_Dict.items()})\n",
    "interaction_df['B_seq'].map({b:a for a, b in targets_Dict.items()})\n",
    "print(targets_Dict.keys())\n",
    "print(f\"Entries wheere 'target_id_mod' is NA: {len(interaction_df[interaction_df.target_id_mod.isna() == True])}\")"
   ]
  },
  {
   "cell_type": "code",
   "execution_count": null,
   "id": "32e18612-bc7e-4fcb-8d12-dfc4f0948046",
   "metadata": {},
   "outputs": [],
   "source": [
    "interaction_df[interaction_df.target_id_mod == \"EGFR_3\"]"
   ]
  },
  {
   "cell_type": "code",
   "execution_count": null,
   "id": "d21a9872-9dd3-478b-9942-aa77db4da8eb",
   "metadata": {},
   "outputs": [],
   "source": [
    "cnt = interaction_df.groupby('target_id_mod').cumcount() + 1\n",
    "interaction_df['target_binder_ID'] = interaction_df['target_id_mod'].astype(str) + '_' + cnt.astype(str)\n",
    "interaction_df"
   ]
  },
  {
   "cell_type": "code",
   "execution_count": null,
   "id": "c5a27b1b-e222-43e3-8e3e-34f0d1c1080f",
   "metadata": {},
   "outputs": [],
   "source": [
    "binders_Dict = {}\n",
    "for idx, binder_id in enumerate(interaction_df.target_binder_ID):\n",
    "    if binder_id not in binders_Dict.keys():\n",
    "        binders_Dict[binder_id] = interaction_df.iloc[idx][\"A_seq\"]\n",
    "    else:\n",
    "        print(\"Something is off..\")\n",
    "        print(binder_id, interaction_df.iloc[idx][\"A_seq\"])\n",
    "binders_Dict"
   ]
  },
  {
   "cell_type": "code",
   "execution_count": null,
   "id": "e7d3bb3b",
   "metadata": {},
   "outputs": [],
   "source": [
    "# Save modified interaction_df\n",
    "interaction_df.to_csv(\"/zhome/c9/0/203261/DBL046_PP_osaul/DBL046_PP_osaul/tmp/data/meta_analysis/interaction_df_metaanal.csv\")"
   ]
  },
  {
   "cell_type": "code",
   "execution_count": null,
   "id": "e16c5bc2-eb09-4ed9-b921-41a54191280b",
   "metadata": {},
   "outputs": [],
   "source": [
    "# device = \"cuda\" if torch.cuda.is_available() else \"cpu\"\n",
    "# Using CPU for downloading/ loading the model\n",
    "# device = \"cpu\"\n",
    "client = ESMC.from_pretrained(\"esmc_600m\", device=torch.device(\"cpu\")).to(\"cpu\")\n",
    "\n",
    "# if device == \"cuda\":\n",
    "#     client = client.to(\"cuda\").half()              # FP16 fallback\n",
    "# else:\n",
    "#     client = client.to(\"cpu\")\n",
    "\n",
    "# protein = ESMProtein(sequence=\"AAAAAAA\")\n",
    "# pt = client.encode(protein)                 # usually returns a CPU tensor\n",
    "# pt = pt.to(next(client.parameters()).device)\n",
    "\n",
    "# out = client.logits(pt, LogitsConfig(sequence=True, return_embeddings=True))\n",
    "\n",
    "# Moving model to cuda\n",
    "client_gpu = client.to(\"cuda\")"
   ]
  },
  {
   "cell_type": "code",
   "execution_count": null,
   "id": "96c90b6c-38b8-4d6d-a040-15ad9ccc71f9",
   "metadata": {},
   "outputs": [],
   "source": [
    "def calculate_ESM_pr_res_embeddings(sequence):\n",
    "    protein = ESMProtein(sequence=sequence)\n",
    "    protein_tensor = client_gpu.encode(protein)\n",
    "    logits_output = client_gpu.logits(\n",
    "    protein_tensor, LogitsConfig(sequence=True, return_embeddings=True)\n",
    "    )\n",
    "    return logits_output.embeddings.detach().cpu().numpy()\n",
    "\n",
    "# Test run\n",
    "sequence = \"AAAAAAA\"\n",
    "embedding = calculate_ESM_pr_res_embeddings(sequence)\n",
    "embedding.shape"
   ]
  },
  {
   "cell_type": "code",
   "execution_count": null,
   "id": "ee02bd6c-e604-4e53-b98e-b27949eab4c6",
   "metadata": {},
   "outputs": [],
   "source": [
    "# where to save\n",
    "path_to_output_embeddings = \"/zhome/c9/0/203261/DBL046_PP_osaul/DBL046_PP_osaul/tmp/data/meta_analysis/targets_embeddings\"\n",
    "os.makedirs(path_to_output_embeddings, exist_ok=True)\n",
    "\n",
    "# helper: convert torch tensor to numpy\n",
    "def to_numpy(x):\n",
    "    try:\n",
    "        return x.detach().cpu().numpy()\n",
    "    except AttributeError:\n",
    "        return np.asarray(x)\n",
    "\n",
    "# iterate targets\n",
    "for name, seqs in tqdm(targets_Dict.items(), total=len(targets_Dict), desc=\"Embedding targets\"):\n",
    "    emb = calculate_ESM_pr_res_embeddings(seqs)\n",
    "    emb_np = to_numpy(emb)\n",
    "    out_path = os.path.join(path_to_output_embeddings, f\"{name}.npy\")\n",
    "    np.save(out_path, emb_np)\n",
    "    print(f\"Target {name} embedded and saved to {out_path}\")\n",
    "\n",
    "# Count files in the \n",
    "# path_to_output_embeddings = \"/zhome/c9/0/203261/DBL046_PP_osaul/DBL046_PP_osaul/tmp/data/meta_analysis/targets_embeddings\"\n",
    "if len(os.listdir(path_to_output_embeddings)) == len(targets_Dict.keys()):\n",
    "    print(\"All targets!\")"
   ]
  },
  {
   "cell_type": "code",
   "execution_count": null,
   "id": "c5af89d0-7a89-47d5-a140-679481f09143",
   "metadata": {},
   "outputs": [],
   "source": [
    "# where to save\n",
    "path_to_output_embeddings = \"/zhome/c9/0/203261/DBL046_PP_osaul/DBL046_PP_osaul/tmp/data/meta_analysis/binders_embeddings\"\n",
    "os.makedirs(path_to_output_embeddings, exist_ok=True)\n",
    "\n",
    "# iterate targets\n",
    "for name, seqs in tqdm(binders_Dict.items(), total=len(binders_Dict), desc=\"Embedding binders\"):\n",
    "    emb = calculate_ESM_pr_res_embeddings(seqs)\n",
    "    emb_np = to_numpy(emb)\n",
    "    out_path = os.path.join(path_to_output_embeddings, f\"{name}.npy\")\n",
    "    np.save(out_path, emb_np)\n",
    "    print(f\"Binder {name} embedded and saved to {out_path}\")\n",
    "\n",
    "# Count files in the \n",
    "# path_to_output_embeddings = \"/zhome/c9/0/203261/DBL046_PP_osaul/DBL046_PP_osaul/tmp/data/meta_analysis/binders_embeddings\"\n",
    "if len(os.listdir(path_to_output_embeddings)) == len(binders_Dict.keys()):\n",
    "    print(\"All binders!\")"
   ]
  },
  {
   "cell_type": "code",
   "execution_count": null,
   "id": "577b5ced-8da3-47a0-886f-88b3e55caf83",
   "metadata": {},
   "outputs": [],
   "source": [
    "path_to_output_embeddings = \"/zhome/c9/0/203261/DBL046_PP_osaul/DBL046_PP_osaul/tmp/data/meta_analysis/binders_embeddings\"\n",
    "name = \"EGFR_18\"\n",
    "path_to_output_file = os.path.join(path_to_output_embeddings,f\"{name}.npy\")\n",
    "random_embedding = np.load(path_to_output_file)\n",
    "random_embedding.shape"
   ]
  },
  {
   "cell_type": "code",
   "execution_count": null,
   "id": "c9bc5130-3a2a-4d08-b65a-f3eed1278ffc",
   "metadata": {},
   "outputs": [],
   "source": [
    "print(binders_Dict[\"EGFR_18\"])\n",
    "print(len(binders_Dict[\"EGFR_18\"]))"
   ]
  },
  {
   "cell_type": "code",
   "execution_count": null,
   "id": "33ff1ba8-8271-45f8-9458-a4fde3bf0d46",
   "metadata": {},
   "outputs": [],
   "source": [
    "interaction_df[\"A_seq\"].apply(lambda x: len(x)).max()\n",
    "interaction_df[\"B_seq\"].apply(lambda x: len(x)).max()"
   ]
  },
  {
   "cell_type": "code",
   "execution_count": null,
   "id": "4d868b4b",
   "metadata": {},
   "outputs": [],
   "source": [
    "path_to_output_embeddings = \"/zhome/c9/0/203261/DBL046_PP_osaul/DBL046_PP_osaul/tmp/data/meta_analysis/binders_embeddings\"\n",
    "name = \"EGFR_18\"\n",
    "path_to_output_file = os.path.join(path_to_output_embeddings,f\"{name}.npy\")\n",
    "random_embedding = np.load(path_to_output_file)\n",
    "random_embedding.shape"
   ]
  },
  {
   "cell_type": "code",
   "execution_count": null,
   "id": "8ffbe845",
   "metadata": {},
   "outputs": [],
   "source": [
    "seq = binders_Dict[\"EGFR_18\"]\n",
    "len(seq)"
   ]
  },
  {
   "cell_type": "code",
   "execution_count": null,
   "id": "5c4acd89-38ca-410f-a3e6-79e7002806c8",
   "metadata": {},
   "outputs": [],
   "source": [
    "os.listdir(\"/zhome/c9/0/203261/DBL046_PP_osaul/DBL046_PP_osaul/tmp/data/meta_analysis/\")"
   ]
  }
 ],
 "metadata": {
  "kernelspec": {
   "display_name": "Python 3 (ipykernel)",
   "language": "python",
   "name": "python3"
  },
  "language_info": {
   "codemirror_mode": {
    "name": "ipython",
    "version": 3
   },
   "file_extension": ".py",
   "mimetype": "text/x-python",
   "name": "python",
   "nbconvert_exporter": "python",
   "pygments_lexer": "ipython3",
   "version": "3.10.13"
  }
 },
 "nbformat": 4,
 "nbformat_minor": 5
}
