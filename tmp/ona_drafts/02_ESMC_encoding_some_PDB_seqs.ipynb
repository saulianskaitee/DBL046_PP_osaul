{
 "cells": [
  {
   "cell_type": "code",
   "execution_count": 1,
   "id": "1ede7ea8",
   "metadata": {},
   "outputs": [
    {
     "name": "stdout",
     "output_type": "stream",
     "text": [
      "Kernel Python: /zhome/c9/0/203261/miniconda3/envs/esm_gpu/bin/python\n",
      "PyTorch: 2.5.1\n",
      "Using device: cuda\n",
      "Current location: /zhome/c9/0/203261/DBL046_PP_osaul/DBL046_PP_osaul/tmp/ona_drafts\n"
     ]
    },
    {
     "name": "stderr",
     "output_type": "stream",
     "text": [
      "/zhome/c9/0/203261/miniconda3/envs/esm_gpu/lib/python3.10/site-packages/tqdm/auto.py:21: TqdmWarning: IProgress not found. Please update jupyter and ipywidgets. See https://ipywidgets.readthedocs.io/en/stable/user_install.html\n",
      "  from .autonotebook import tqdm as notebook_tqdm\n"
     ]
    },
    {
     "name": "stdout",
     "output_type": "stream",
     "text": [
      "12.1\n",
      "90100\n",
      "True\n"
     ]
    }
   ],
   "source": [
    "import sys, os\n",
    "print(\"Kernel Python:\", sys.executable)\n",
    "\n",
    "import pandas as pd\n",
    "import numpy as np\n",
    "import seaborn as sns\n",
    "import matplotlib.pyplot as plt\n",
    "\n",
    "import torch\n",
    "print(\"PyTorch:\", torch.__version__)\n",
    "\n",
    "from tqdm import tqdm\n",
    "# setting device on GPU if available, else CPU\n",
    "device = torch.device('cuda' if torch.cuda.is_available() else 'cpu')\n",
    "print('Using device:', device)\n",
    "print(\"Current location:\", os.getcwd())\n",
    "\n",
    "from esm.models.esmc import ESMC\n",
    "from esm.sdk.api import ESMProtein, LogitsConfig\n",
    "\n",
    "import torch\n",
    "print(torch.version.cuda)   # shows the CUDA version PyTorch was built against\n",
    "print(torch.backends.cudnn.version())  # cuDNN version\n",
    "print(torch.cuda.is_available())"
   ]
  },
  {
   "cell_type": "code",
   "execution_count": 13,
   "id": "3de22cad",
   "metadata": {},
   "outputs": [
    {
     "data": {
      "text/html": [
       "<div>\n",
       "<style scoped>\n",
       "    .dataframe tbody tr th:only-of-type {\n",
       "        vertical-align: middle;\n",
       "    }\n",
       "\n",
       "    .dataframe tbody tr th {\n",
       "        vertical-align: top;\n",
       "    }\n",
       "\n",
       "    .dataframe thead th {\n",
       "        text-align: right;\n",
       "    }\n",
       "</style>\n",
       "<table border=\"1\" class=\"dataframe\">\n",
       "  <thead>\n",
       "    <tr style=\"text-align: right;\">\n",
       "      <th></th>\n",
       "      <th>PDB</th>\n",
       "      <th>interface_index</th>\n",
       "      <th>chainname</th>\n",
       "      <th>sequence</th>\n",
       "      <th>interface_residues</th>\n",
       "      <th>disorderscore_predictions</th>\n",
       "      <th>mean disorder interface</th>\n",
       "      <th>seq. len</th>\n",
       "      <th>PDB_interface_name</th>\n",
       "      <th>protien_interface_sequences</th>\n",
       "      <th>interacting_seq_aa</th>\n",
       "      <th>inter_chain_hamming</th>\n",
       "    </tr>\n",
       "  </thead>\n",
       "  <tbody>\n",
       "    <tr>\n",
       "      <th>0</th>\n",
       "      <td>6NZA</td>\n",
       "      <td>0</td>\n",
       "      <td>A</td>\n",
       "      <td>MNTVRSEKDSMGAIDVPADKLWGAQTQRSLEHFRISTEKMPTSLIH...</td>\n",
       "      <td>[184, 185, 186, 187, 188, 191, 192, 194, 198, ...</td>\n",
       "      <td>[0.7864, 0.7974, 0.7796, 0.7675, 0.7414, 0.720...</td>\n",
       "      <td>0.038646</td>\n",
       "      <td>461</td>\n",
       "      <td>6NZA_0</td>\n",
       "      <td>MNTVRSEKDSMGAIDVPADKLWGAQTQRSLEHFRISTEKMPTSLIH...</td>\n",
       "      <td>GRTHLATLQESGWAMHYAVTGLNFEDVQGAGASMKNDMVNGASGNF...</td>\n",
       "      <td>0.995662</td>\n",
       "    </tr>\n",
       "    <tr>\n",
       "      <th>1</th>\n",
       "      <td>6NZA</td>\n",
       "      <td>0</td>\n",
       "      <td>B</td>\n",
       "      <td>TVRSEKDSMGAIDVPADKLWGAQTQRSLEHFRISTEKMPTSLIHAL...</td>\n",
       "      <td>[182, 183, 184, 185, 186, 190, 192, 196, 197, ...</td>\n",
       "      <td>[0.6701, 0.7181, 0.6893, 0.671, 0.6561, 0.6428...</td>\n",
       "      <td>0.037456</td>\n",
       "      <td>459</td>\n",
       "      <td>6NZA_0</td>\n",
       "      <td>MNTVRSEKDSMGAIDVPADKLWGAQTQRSLEHFRISTEKMPTSLIH...</td>\n",
       "      <td>GRTHLATLQESGWAMHYAVTGLNFEDVQGAGASMKNDMVNGASGNF...</td>\n",
       "      <td>0.995662</td>\n",
       "    </tr>\n",
       "    <tr>\n",
       "      <th>2</th>\n",
       "      <td>9JKA</td>\n",
       "      <td>1</td>\n",
       "      <td>B</td>\n",
       "      <td>VAAGATLALLSFLTPLAFLLLPPLLWREELEPCGTACEGLFISVAF...</td>\n",
       "      <td>[34, 35, 38, 39, 42, 45, 46, 49, 53, 56, 57, 6...</td>\n",
       "      <td>[0.3113, 0.3238, 0.2933, 0.2873, 0.2903, 0.289...</td>\n",
       "      <td>0.071228</td>\n",
       "      <td>362</td>\n",
       "      <td>9JKA_1</td>\n",
       "      <td>VAAGATLALLSFLTPLAFLLLPPLLWREELEPCGTACEGLFISVAF...</td>\n",
       "      <td>TAGLSFKIGALKASLPVEHHERKARVASMHDMTKAFLEAKQWTLVS...</td>\n",
       "      <td>1.000000</td>\n",
       "    </tr>\n",
       "    <tr>\n",
       "      <th>3</th>\n",
       "      <td>9JKA</td>\n",
       "      <td>1</td>\n",
       "      <td>C</td>\n",
       "      <td>VAAGATLALLSFLTPLAFLLLPPLLWREELEPCGTACEGLFISVAF...</td>\n",
       "      <td>[83, 94, 105, 106, 108, 109, 112, 113, 116, 11...</td>\n",
       "      <td>[0.3113, 0.3238, 0.2933, 0.2873, 0.2903, 0.289...</td>\n",
       "      <td>0.097310</td>\n",
       "      <td>362</td>\n",
       "      <td>9JKA_1</td>\n",
       "      <td>VAAGATLALLSFLTPLAFLLLPPLLWREELEPCGTACEGLFISVAF...</td>\n",
       "      <td>TAGLSFKIGALKASLPVEHHERKARVASMHDMTKAFLEAKQWTLVS...</td>\n",
       "      <td>1.000000</td>\n",
       "    </tr>\n",
       "    <tr>\n",
       "      <th>4</th>\n",
       "      <td>8DQ6</td>\n",
       "      <td>1</td>\n",
       "      <td>B</td>\n",
       "      <td>PTLNLFTNIPVDAVTCSDILKDATKAVAKIIGKPESYVMILLNSGV...</td>\n",
       "      <td>[15, 19, 20, 23, 34, 35, 36, 37, 38, 39, 40, 4...</td>\n",
       "      <td>[0.1487, 0.1646, 0.1496, 0.1519, 0.1521, 0.155...</td>\n",
       "      <td>0.037771</td>\n",
       "      <td>109</td>\n",
       "      <td>8DQ6_1</td>\n",
       "      <td>PTLNLFTNIPVDAVTCSDILKDATKAVAKIIGKPESYVMILLNSGV...</td>\n",
       "      <td>CLKTESYVMILLNFFGY-VPIAFAGGSESSSRFY</td>\n",
       "      <td>0.889908</td>\n",
       "    </tr>\n",
       "    <tr>\n",
       "      <th>...</th>\n",
       "      <td>...</td>\n",
       "      <td>...</td>\n",
       "      <td>...</td>\n",
       "      <td>...</td>\n",
       "      <td>...</td>\n",
       "      <td>...</td>\n",
       "      <td>...</td>\n",
       "      <td>...</td>\n",
       "      <td>...</td>\n",
       "      <td>...</td>\n",
       "      <td>...</td>\n",
       "      <td>...</td>\n",
       "    </tr>\n",
       "    <tr>\n",
       "      <th>995</th>\n",
       "      <td>3BJS</td>\n",
       "      <td>0</td>\n",
       "      <td>B</td>\n",
       "      <td>MKITKINAIPLSYRLPTVTMGVGSTIKRDAIIIRVETSEGITGYGE...</td>\n",
       "      <td>[21, 49, 50, 51, 53, 54, 55, 57, 58, 61, 62, 8...</td>\n",
       "      <td>[0.2012, 0.1686, 0.1525, 0.1547, 0.1553, 0.152...</td>\n",
       "      <td>0.033079</td>\n",
       "      <td>376</td>\n",
       "      <td>3BJS_0</td>\n",
       "      <td>MKITKINAIPLSYRLPTVTMGVGSTIKRDAIIIRVETSEGITGYGE...</td>\n",
       "      <td>VGRSGAISLNTQSSHGLGAGTACNDFNFEQD-VGRSGAISLNTQSS...</td>\n",
       "      <td>0.984043</td>\n",
       "    </tr>\n",
       "    <tr>\n",
       "      <th>996</th>\n",
       "      <td>5TEK</td>\n",
       "      <td>0</td>\n",
       "      <td>A</td>\n",
       "      <td>QSGSGMRVGVLGAKGKVGATMVRAVAAADDLTLSAELDAGDPLSLL...</td>\n",
       "      <td>[112, 115, 119, 122, 123, 205, 206, 207, 208, ...</td>\n",
       "      <td>[0.4394, 0.4497, 0.4355, 0.4476, 0.4491, 0.455...</td>\n",
       "      <td>0.060871</td>\n",
       "      <td>249</td>\n",
       "      <td>5TEK_0</td>\n",
       "      <td>QSGSGMRVGVLGAKGKVGATMVRAVAAADDLTLSAELDAGDPLSLL...</td>\n",
       "      <td>GLFQAEGETLTIRHDSLDTSL-GLFQAEGETLTIRHDSLDTSL</td>\n",
       "      <td>0.983936</td>\n",
       "    </tr>\n",
       "    <tr>\n",
       "      <th>997</th>\n",
       "      <td>5TEK</td>\n",
       "      <td>0</td>\n",
       "      <td>B</td>\n",
       "      <td>SGMRVGVLGAKGKVGATMVRAVAAADDLTLSAELDAGDPLSLLTDG...</td>\n",
       "      <td>[109, 112, 116, 119, 120, 202, 203, 204, 205, ...</td>\n",
       "      <td>[0.2711, 0.2496, 0.2602, 0.2619, 0.2656, 0.273...</td>\n",
       "      <td>0.059238</td>\n",
       "      <td>247</td>\n",
       "      <td>5TEK_0</td>\n",
       "      <td>QSGSGMRVGVLGAKGKVGATMVRAVAAADDLTLSAELDAGDPLSLL...</td>\n",
       "      <td>GLFQAEGETLTIRHDSLDTSL-GLFQAEGETLTIRHDSLDTSL</td>\n",
       "      <td>0.983936</td>\n",
       "    </tr>\n",
       "    <tr>\n",
       "      <th>998</th>\n",
       "      <td>4L8W</td>\n",
       "      <td>1</td>\n",
       "      <td>I</td>\n",
       "      <td>KTNERPIIGVLAQDVFDPKPDRNSYIAASYVKFLESAGARVVPVMI...</td>\n",
       "      <td>[3, 31, 34, 35, 36, 37, 38, 217, 218, 219, 228...</td>\n",
       "      <td>[0.191, 0.1953, 0.2019, 0.1993, 0.1874, 0.1976...</td>\n",
       "      <td>0.031285</td>\n",
       "      <td>287</td>\n",
       "      <td>4L8W_1</td>\n",
       "      <td>KTNERPIIGVLAQDVFDPKPDRNSYIAASYVKFLESAGARVVPVMI...</td>\n",
       "      <td>EKESAGANAFHTPIYNKPYQ-EKESAGANAFHTINYNKPYQ</td>\n",
       "      <td>1.000000</td>\n",
       "    </tr>\n",
       "    <tr>\n",
       "      <th>999</th>\n",
       "      <td>4L8W</td>\n",
       "      <td>1</td>\n",
       "      <td>E</td>\n",
       "      <td>KTNERPIIGVLAQDVFDPKPDRNSYIAASYVKFLESAGARVVPVMI...</td>\n",
       "      <td>[3, 31, 34, 35, 36, 37, 38, 217, 218, 219, 228...</td>\n",
       "      <td>[0.191, 0.1953, 0.2019, 0.1993, 0.1874, 0.1976...</td>\n",
       "      <td>0.032045</td>\n",
       "      <td>287</td>\n",
       "      <td>4L8W_1</td>\n",
       "      <td>KTNERPIIGVLAQDVFDPKPDRNSYIAASYVKFLESAGARVVPVMI...</td>\n",
       "      <td>EKESAGANAFHTPIYNKPYQ-EKESAGANAFHTINYNKPYQ</td>\n",
       "      <td>1.000000</td>\n",
       "    </tr>\n",
       "  </tbody>\n",
       "</table>\n",
       "<p>1000 rows × 12 columns</p>\n",
       "</div>"
      ],
      "text/plain": [
       "      PDB  interface_index chainname  \\\n",
       "0    6NZA                0         A   \n",
       "1    6NZA                0         B   \n",
       "2    9JKA                1         B   \n",
       "3    9JKA                1         C   \n",
       "4    8DQ6                1         B   \n",
       "..    ...              ...       ...   \n",
       "995  3BJS                0         B   \n",
       "996  5TEK                0         A   \n",
       "997  5TEK                0         B   \n",
       "998  4L8W                1         I   \n",
       "999  4L8W                1         E   \n",
       "\n",
       "                                              sequence  \\\n",
       "0    MNTVRSEKDSMGAIDVPADKLWGAQTQRSLEHFRISTEKMPTSLIH...   \n",
       "1    TVRSEKDSMGAIDVPADKLWGAQTQRSLEHFRISTEKMPTSLIHAL...   \n",
       "2    VAAGATLALLSFLTPLAFLLLPPLLWREELEPCGTACEGLFISVAF...   \n",
       "3    VAAGATLALLSFLTPLAFLLLPPLLWREELEPCGTACEGLFISVAF...   \n",
       "4    PTLNLFTNIPVDAVTCSDILKDATKAVAKIIGKPESYVMILLNSGV...   \n",
       "..                                                 ...   \n",
       "995  MKITKINAIPLSYRLPTVTMGVGSTIKRDAIIIRVETSEGITGYGE...   \n",
       "996  QSGSGMRVGVLGAKGKVGATMVRAVAAADDLTLSAELDAGDPLSLL...   \n",
       "997  SGMRVGVLGAKGKVGATMVRAVAAADDLTLSAELDAGDPLSLLTDG...   \n",
       "998  KTNERPIIGVLAQDVFDPKPDRNSYIAASYVKFLESAGARVVPVMI...   \n",
       "999  KTNERPIIGVLAQDVFDPKPDRNSYIAASYVKFLESAGARVVPVMI...   \n",
       "\n",
       "                                    interface_residues  \\\n",
       "0    [184, 185, 186, 187, 188, 191, 192, 194, 198, ...   \n",
       "1    [182, 183, 184, 185, 186, 190, 192, 196, 197, ...   \n",
       "2    [34, 35, 38, 39, 42, 45, 46, 49, 53, 56, 57, 6...   \n",
       "3    [83, 94, 105, 106, 108, 109, 112, 113, 116, 11...   \n",
       "4    [15, 19, 20, 23, 34, 35, 36, 37, 38, 39, 40, 4...   \n",
       "..                                                 ...   \n",
       "995  [21, 49, 50, 51, 53, 54, 55, 57, 58, 61, 62, 8...   \n",
       "996  [112, 115, 119, 122, 123, 205, 206, 207, 208, ...   \n",
       "997  [109, 112, 116, 119, 120, 202, 203, 204, 205, ...   \n",
       "998  [3, 31, 34, 35, 36, 37, 38, 217, 218, 219, 228...   \n",
       "999  [3, 31, 34, 35, 36, 37, 38, 217, 218, 219, 228...   \n",
       "\n",
       "                             disorderscore_predictions  \\\n",
       "0    [0.7864, 0.7974, 0.7796, 0.7675, 0.7414, 0.720...   \n",
       "1    [0.6701, 0.7181, 0.6893, 0.671, 0.6561, 0.6428...   \n",
       "2    [0.3113, 0.3238, 0.2933, 0.2873, 0.2903, 0.289...   \n",
       "3    [0.3113, 0.3238, 0.2933, 0.2873, 0.2903, 0.289...   \n",
       "4    [0.1487, 0.1646, 0.1496, 0.1519, 0.1521, 0.155...   \n",
       "..                                                 ...   \n",
       "995  [0.2012, 0.1686, 0.1525, 0.1547, 0.1553, 0.152...   \n",
       "996  [0.4394, 0.4497, 0.4355, 0.4476, 0.4491, 0.455...   \n",
       "997  [0.2711, 0.2496, 0.2602, 0.2619, 0.2656, 0.273...   \n",
       "998  [0.191, 0.1953, 0.2019, 0.1993, 0.1874, 0.1976...   \n",
       "999  [0.191, 0.1953, 0.2019, 0.1993, 0.1874, 0.1976...   \n",
       "\n",
       "     mean disorder interface  seq. len PDB_interface_name  \\\n",
       "0                   0.038646       461             6NZA_0   \n",
       "1                   0.037456       459             6NZA_0   \n",
       "2                   0.071228       362             9JKA_1   \n",
       "3                   0.097310       362             9JKA_1   \n",
       "4                   0.037771       109             8DQ6_1   \n",
       "..                       ...       ...                ...   \n",
       "995                 0.033079       376             3BJS_0   \n",
       "996                 0.060871       249             5TEK_0   \n",
       "997                 0.059238       247             5TEK_0   \n",
       "998                 0.031285       287             4L8W_1   \n",
       "999                 0.032045       287             4L8W_1   \n",
       "\n",
       "                           protien_interface_sequences  \\\n",
       "0    MNTVRSEKDSMGAIDVPADKLWGAQTQRSLEHFRISTEKMPTSLIH...   \n",
       "1    MNTVRSEKDSMGAIDVPADKLWGAQTQRSLEHFRISTEKMPTSLIH...   \n",
       "2    VAAGATLALLSFLTPLAFLLLPPLLWREELEPCGTACEGLFISVAF...   \n",
       "3    VAAGATLALLSFLTPLAFLLLPPLLWREELEPCGTACEGLFISVAF...   \n",
       "4    PTLNLFTNIPVDAVTCSDILKDATKAVAKIIGKPESYVMILLNSGV...   \n",
       "..                                                 ...   \n",
       "995  MKITKINAIPLSYRLPTVTMGVGSTIKRDAIIIRVETSEGITGYGE...   \n",
       "996  QSGSGMRVGVLGAKGKVGATMVRAVAAADDLTLSAELDAGDPLSLL...   \n",
       "997  QSGSGMRVGVLGAKGKVGATMVRAVAAADDLTLSAELDAGDPLSLL...   \n",
       "998  KTNERPIIGVLAQDVFDPKPDRNSYIAASYVKFLESAGARVVPVMI...   \n",
       "999  KTNERPIIGVLAQDVFDPKPDRNSYIAASYVKFLESAGARVVPVMI...   \n",
       "\n",
       "                                    interacting_seq_aa  inter_chain_hamming  \n",
       "0    GRTHLATLQESGWAMHYAVTGLNFEDVQGAGASMKNDMVNGASGNF...             0.995662  \n",
       "1    GRTHLATLQESGWAMHYAVTGLNFEDVQGAGASMKNDMVNGASGNF...             0.995662  \n",
       "2    TAGLSFKIGALKASLPVEHHERKARVASMHDMTKAFLEAKQWTLVS...             1.000000  \n",
       "3    TAGLSFKIGALKASLPVEHHERKARVASMHDMTKAFLEAKQWTLVS...             1.000000  \n",
       "4                   CLKTESYVMILLNFFGY-VPIAFAGGSESSSRFY             0.889908  \n",
       "..                                                 ...                  ...  \n",
       "995  VGRSGAISLNTQSSHGLGAGTACNDFNFEQD-VGRSGAISLNTQSS...             0.984043  \n",
       "996        GLFQAEGETLTIRHDSLDTSL-GLFQAEGETLTIRHDSLDTSL             0.983936  \n",
       "997        GLFQAEGETLTIRHDSLDTSL-GLFQAEGETLTIRHDSLDTSL             0.983936  \n",
       "998          EKESAGANAFHTPIYNKPYQ-EKESAGANAFHTINYNKPYQ             1.000000  \n",
       "999          EKESAGANAFHTPIYNKPYQ-EKESAGANAFHTINYNKPYQ             1.000000  \n",
       "\n",
       "[1000 rows x 12 columns]"
      ]
     },
     "execution_count": 13,
     "metadata": {},
     "output_type": "execute_result"
    }
   ],
   "source": [
    "interaction_df = pd.read_csv(\"../data/PPint_DB/disordered_interfaces_no_cutoff_filtered_nonredundant80_3å_5.csv.gz\",index_col=0).reset_index(drop=True)\n",
    "interaction_df = interaction_df.iloc[:1000]\n",
    "interaction_df"
   ]
  },
  {
   "cell_type": "code",
   "execution_count": 14,
   "id": "c5c470fe",
   "metadata": {},
   "outputs": [
    {
     "data": {
      "text/plain": [
       "[('6NZA',\n",
       "  ['MNTVRSEKDSMGAIDVPADKLWGAQTQRSLEHFRISTEKMPTSLIHALALTKRAAAKVNEDLGLLSEEKASAIRQAADEVLAGQHDDEFPLAIWQTGSGTQSNMNMNEVLANRASELLGGVRGMERKVHPNDDVNKSQSSNDVFPTAMHVAALLALRKQLIPQLKTLTQTLNEKSRAFADIVKIGRTHLQDATPLTLGQEISGWVAMLEHNLKHIEYSLPHVAELALGGTAVGTGLNTHPEYARRVADELAVITCAPFVTAPNKFEALATCDALVQAHGALKGLAASLMKIANDVRWLASGPRCGIGEISIPENEPGSSIMPGAVNPTQCEALTMLCCQVMGNDVAINMGGASGNFELNVFRPMVIHNFLQSVRLLADGMESFNKHCAVGIEPNRERINQLLNESLMLVTALNTHIGYDKAAEIAKKAHKEGLTLKAAALALGYLSEAEFDSWVRPEQMVG',\n",
       "   'TVRSEKDSMGAIDVPADKLWGAQTQRSLEHFRISTEKMPTSLIHALALTKRAAAKVNEDLGLLSEEKASAIRQAADEVLAGQHDDEFPLAIWQTGSGTQSNMNMNEVLANRASELLGGVRGMERKVHPNDDVNKSQSSNDVFPTAMHVAALLALRKQLIPQLKTLTQTLNEKSRAFADIVKIGRTHLQDATPLTLGQEISGWVAMLEHNLKHIEYSLPHVAELALGGTAVGTGLNTHPEYARRVADELAVITCAPFVTAPNKFEALATCDALVQAHGALKGLAASLMKIANDVRWLASGPRCGIGEISIPENEPGSSIMPGAVNPTQCEALTMLCCQVMGNDVAINMGGASGNFELNVFRPMVIHNFLQSVRLLADGMESFNKHCAVGIEPNRERINQLLNESLMLVTALNTHIGYDKAAEIAKKAHKEGLTLKAAALALGYLSEAEFDSWVRPEQMVG']),\n",
       " ('9JKA',\n",
       "  ['VAAGATLALLSFLTPLAFLLLPPLLWREELEPCGTACEGLFISVAFKLLILLLGSWALFFRRPKASLPRVFVLRALLMVLVFLLVVSYWLFYGVRILDARERSYQGVVQFAVSLVDALLFVHYLAVVLLELRQLQPQFTLKVVRSTDGASRFYNVGHLSIQRVAVWILEKYYHDFPVYNPALVIAAAARRRDNSHNEYYYEEAEHERRVRKRRARLVVAVEEAFTHIKRLVMDPREAAQAIFASMARAMQKYLRTTKQQPYHTMESILQHLEFCITHDMTPKAFLERYLAAGPTIQYHKERWLAKQWTLVSEEPVTNGLKDGIVFLLKRQDFSLVVSTKKVPFFKLSEEFVDPKSHKFVMRL',\n",
       "   'VAAGATLALLSFLTPLAFLLLPPLLWREELEPCGTACEGLFISVAFKLLILLLGSWALFFRRPKASLPRVFVLRALLMVLVFLLVVSYWLFYGVRILDARERSYQGVVQFAVSLVDALLFVHYLAVVLLELRQLQPQFTLKVVRSTDGASRFYNVGHLSIQRVAVWILEKYYHDFPVYNPALVIAAAARRRDNSHNEYYYEEAEHERRVRKRRARLVVAVEEAFTHIKRLVMDPREAAQAIFASMARAMQKYLRTTKQQPYHTMESILQHLEFCITHDMTPKAFLERYLAAGPTIQYHKERWLAKQWTLVSEEPVTNGLKDGIVFLLKRQDFSLVVSTKKVPFFKLSEEFVDPKSHKFVMRL'])]"
      ]
     },
     "execution_count": 14,
     "metadata": {},
     "output_type": "execute_result"
    }
   ],
   "source": [
    "interaction_Dict = {}\n",
    "\n",
    "for _, row in interaction_df.iterrows():\n",
    "    key = row['PDB']   \n",
    "    seq = row['sequence']                    \n",
    "    interaction_Dict.setdefault(key, []).append(seq)\n",
    "\n",
    "list(interaction_Dict.items())[:2]"
   ]
  },
  {
   "cell_type": "code",
   "execution_count": 4,
   "id": "81ae46d4-b27e-4ee8-bf86-a098dbe0be19",
   "metadata": {},
   "outputs": [
    {
     "name": "stderr",
     "output_type": "stream",
     "text": [
      "Fetching 4 files: 100%|██████████████████████████████████████████████████████████████████| 4/4 [00:00<00:00, 852.20it/s]\n",
      "/zhome/c9/0/203261/miniconda3/envs/esm_gpu/lib/python3.10/site-packages/esm/pretrained.py:92: FutureWarning: You are using `torch.load` with `weights_only=False` (the current default value), which uses the default pickle module implicitly. It is possible to construct malicious pickle data which will execute arbitrary code during unpickling (See https://github.com/pytorch/pytorch/blob/main/SECURITY.md#untrusted-models for more details). In a future release, the default value for `weights_only` will be flipped to `True`. This limits the functions that could be executed during unpickling. Arbitrary objects will no longer be allowed to be loaded via this mode unless they are explicitly allowlisted by the user via `torch.serialization.add_safe_globals`. We recommend you start setting `weights_only=True` for any use case where you don't have full control of the loaded file. Please open an issue on GitHub for any issues related to this experimental feature.\n",
      "  state_dict = torch.load(\n"
     ]
    }
   ],
   "source": [
    "client = ESMC.from_pretrained(\"esmc_600m\", device=torch.device(\"cpu\")).to(\"cpu\")\n",
    "\n",
    "# Moving model to cuda\n",
    "client_gpu = client.to(\"cuda\")\n",
    "\n",
    "def calculate_ESM_pr_res_embeddings(sequence):\n",
    "    protein = ESMProtein(sequence=sequence)\n",
    "    protein_tensor = client_gpu.encode(protein)\n",
    "    logits_output = client_gpu.logits(\n",
    "    protein_tensor, LogitsConfig(sequence=True, return_embeddings=True)\n",
    "    )\n",
    "    return logits_output.embeddings.detach().cpu().numpy()"
   ]
  },
  {
   "cell_type": "code",
   "execution_count": 15,
   "id": "9f519900-2afc-40ff-a4b5-58e4ede2e5e5",
   "metadata": {},
   "outputs": [
    {
     "name": "stdout",
     "output_type": "stream",
     "text": [
      "['MNTVRSEKDSMGAIDVPADKLWGAQTQRSLEHFRISTEKMPTSLIHALALTKRAAAKVNEDLGLLSEEKASAIRQAADEVLAGQHDDEFPLAIWQTGSGTQSNMNMNEVLANRASELLGGVRGMERKVHPNDDVNKSQSSNDVFPTAMHVAALLALRKQLIPQLKTLTQTLNEKSRAFADIVKIGRTHLQDATPLTLGQEISGWVAMLEHNLKHIEYSLPHVAELALGGTAVGTGLNTHPEYARRVADELAVITCAPFVTAPNKFEALATCDALVQAHGALKGLAASLMKIANDVRWLASGPRCGIGEISIPENEPGSSIMPGAVNPTQCEALTMLCCQVMGNDVAINMGGASGNFELNVFRPMVIHNFLQSVRLLADGMESFNKHCAVGIEPNRERINQLLNESLMLVTALNTHIGYDKAAEIAKKAHKEGLTLKAAALALGYLSEAEFDSWVRPEQMVG', 'TVRSEKDSMGAIDVPADKLWGAQTQRSLEHFRISTEKMPTSLIHALALTKRAAAKVNEDLGLLSEEKASAIRQAADEVLAGQHDDEFPLAIWQTGSGTQSNMNMNEVLANRASELLGGVRGMERKVHPNDDVNKSQSSNDVFPTAMHVAALLALRKQLIPQLKTLTQTLNEKSRAFADIVKIGRTHLQDATPLTLGQEISGWVAMLEHNLKHIEYSLPHVAELALGGTAVGTGLNTHPEYARRVADELAVITCAPFVTAPNKFEALATCDALVQAHGALKGLAASLMKIANDVRWLASGPRCGIGEISIPENEPGSSIMPGAVNPTQCEALTMLCCQVMGNDVAINMGGASGNFELNVFRPMVIHNFLQSVRLLADGMESFNKHCAVGIEPNRERINQLLNESLMLVTALNTHIGYDKAAEIAKKAHKEGLTLKAAALALGYLSEAEFDSWVRPEQMVG']\n"
     ]
    }
   ],
   "source": [
    "for name, seqs in interaction_Dict.items():\n",
    "    print(seqs)\n",
    "    break"
   ]
  },
  {
   "cell_type": "code",
   "execution_count": 19,
   "id": "9ad188e7-3110-43b5-8e05-bc63d6757249",
   "metadata": {},
   "outputs": [
    {
     "data": {
      "text/plain": [
       "['MIISKKNRNEICKYLFQEGVLYAKKDYNLAKHPQIDVPNLQVIKLMQSFKSKEYVRETFSWQHYYWYLTNDGIEFLRNFLNLP',\n",
       " 'TQISKKKKFVSDGVFYAELNEMLTRELAEDGYSGVEVRVTPMRTEIIIRATRTQNVLGEKGRRIRELTSVVQKRFNFPENGVELYAEKVVNRGLCAIAQAESLRYKLLGGLAVRRACYGVLRFVMESGAKGCEVIVSGKLRAQRAKSMKFKDGYMISSGQPVNEYIDAAVRHVLLRQGVLGIKVKIMLDWDPKGKLGPTTPLPDLVTIHPP',\n",
       " 'DLMTALQLVMKKSSAHDGLVKGLREAAKAIEKHAAQICVLAEDCDQPDYVKLVKALCAEHNVHLVTVPSAKTLGEWAGLCKIDSEGKARKVVGCSCVVVKDYGEDSEGLHIVQEYVKS',\n",
       " 'PKKQKHKHKKVKLAVLQFYKVDDATGKVTRLRKECPNADCGAGTFMANHFDRHYCGKCGLTYVY',\n",
       " 'GDVKLFNRWTFEDVQVSDISLNDYLAVTSMKHYTFLPHSAGRYSAKRFRKAQCPIIERLTNSLMMHGRNNGKKIMAVRIIKHTMEIIHLLTDANPIQIIVDAIINSGPREDATRRQAVDISPLRRVNQAIYLLTTGARESAFRNVKTIAECLADELINAAKGSSNSYAIKKKDEIERVAKANR',\n",
       " 'QVKLAVVVKVMGRTGSRGQVTQVRVKFLDDQNRLIMRNVKGPVREGDILTLLESEREARRLR',\n",
       " 'VLTRPTPGTVQCFGRKKTAVAVAYCKPGRGLIKVNGAPIELIRPEMLRLKAFEPILLAGRSRFKDIDMRIRVRGGGKTSQIYSIRQAIAKSLVAYYQKYVDEAAKKEVKEIFGRYDRTLLVADPRRCEPKKFGGRGARARFQKSY',\n",
       " 'ESLVYAGVMRGHNDVVTAIATPIDNSPFIVSSSRDKSLLVWDLTNPIQATQDSSSEYGVPFRRLTGHGHFVQDVVLSSDGQFALSGSWDGELRLWDLSTGVTTRRFVGHEKDVLSVAFSIDNRQIVSASRDRTIKLWNTLGECKYTIGHTGWVSCVRFSPNNFAPTIVSGSWDRSVKVWNLTNCKLRCTLDGHGGYVSAVAVSPDGSLCASGGKDGVTLLWDLTEGKRLYSLDAGSIINSLCFSPNRYWLCAATQDSIKIWDLESKHIVQDLRPEVPVSTKQMLYCTCLSWSADGSTLYAGYTDGTIRIYKIS']"
      ]
     },
     "execution_count": 19,
     "metadata": {},
     "output_type": "execute_result"
    }
   ],
   "source": [
    "interaction_df[interaction_df[\"PDB\"]== \"8R57\"]\n",
    "interaction_Dict[\"8R57\"]"
   ]
  },
  {
   "cell_type": "code",
   "execution_count": 20,
   "id": "d9ce2ac2-f3b3-41bc-83ba-287754934947",
   "metadata": {},
   "outputs": [
    {
     "name": "stderr",
     "output_type": "stream",
     "text": [
      "Embedding targets:   0%|▏                                                               | 1/453 [00:00<02:13,  3.39it/s]"
     ]
    },
    {
     "name": "stdout",
     "output_type": "stream",
     "text": [
      "Protein 6NZA embedded and saved to /zhome/c9/0/203261/DBL046_PP_osaul/DBL046_PP_osaul/tmp/data/PPint_DB/ESM_C_embeddings/6NZA_A.npy\n",
      "Protein 6NZA embedded and saved to /zhome/c9/0/203261/DBL046_PP_osaul/DBL046_PP_osaul/tmp/data/PPint_DB/ESM_C_embeddings/6NZA_B.npy\n"
     ]
    },
    {
     "name": "stderr",
     "output_type": "stream",
     "text": [
      "Embedding targets:   0%|▎                                                               | 2/453 [00:00<02:15,  3.34it/s]"
     ]
    },
    {
     "name": "stdout",
     "output_type": "stream",
     "text": [
      "Protein 9JKA embedded and saved to /zhome/c9/0/203261/DBL046_PP_osaul/DBL046_PP_osaul/tmp/data/PPint_DB/ESM_C_embeddings/9JKA_A.npy\n",
      "Protein 9JKA embedded and saved to /zhome/c9/0/203261/DBL046_PP_osaul/DBL046_PP_osaul/tmp/data/PPint_DB/ESM_C_embeddings/9JKA_B.npy\n"
     ]
    },
    {
     "name": "stderr",
     "output_type": "stream",
     "text": [
      "Embedding targets:   1%|▍                                                               | 3/453 [00:00<01:43,  4.34it/s]"
     ]
    },
    {
     "name": "stdout",
     "output_type": "stream",
     "text": [
      "Protein 8DQ6 embedded and saved to /zhome/c9/0/203261/DBL046_PP_osaul/DBL046_PP_osaul/tmp/data/PPint_DB/ESM_C_embeddings/8DQ6_A.npy\n",
      "Protein 8DQ6 embedded and saved to /zhome/c9/0/203261/DBL046_PP_osaul/DBL046_PP_osaul/tmp/data/PPint_DB/ESM_C_embeddings/8DQ6_B.npy\n",
      "Protein 2YMZ embedded and saved to /zhome/c9/0/203261/DBL046_PP_osaul/DBL046_PP_osaul/tmp/data/PPint_DB/ESM_C_embeddings/2YMZ_A.npy\n"
     ]
    },
    {
     "name": "stderr",
     "output_type": "stream",
     "text": [
      "Embedding targets:   1%|▌                                                               | 4/453 [00:00<01:27,  5.14it/s]"
     ]
    },
    {
     "name": "stdout",
     "output_type": "stream",
     "text": [
      "Protein 2YMZ embedded and saved to /zhome/c9/0/203261/DBL046_PP_osaul/DBL046_PP_osaul/tmp/data/PPint_DB/ESM_C_embeddings/2YMZ_B.npy\n",
      "Protein 6IDB embedded and saved to /zhome/c9/0/203261/DBL046_PP_osaul/DBL046_PP_osaul/tmp/data/PPint_DB/ESM_C_embeddings/6IDB_A.npy\n"
     ]
    },
    {
     "name": "stderr",
     "output_type": "stream",
     "text": [
      "Embedding targets:   1%|▋                                                               | 5/453 [00:01<01:28,  5.04it/s]"
     ]
    },
    {
     "name": "stdout",
     "output_type": "stream",
     "text": [
      "Protein 6IDB embedded and saved to /zhome/c9/0/203261/DBL046_PP_osaul/DBL046_PP_osaul/tmp/data/PPint_DB/ESM_C_embeddings/6IDB_B.npy\n",
      "Protein 8R47 embedded and saved to /zhome/c9/0/203261/DBL046_PP_osaul/DBL046_PP_osaul/tmp/data/PPint_DB/ESM_C_embeddings/8R47_A.npy\n"
     ]
    },
    {
     "name": "stderr",
     "output_type": "stream",
     "text": [
      "Embedding targets:   2%|▉                                                               | 7/453 [00:01<01:29,  4.96it/s]"
     ]
    },
    {
     "name": "stdout",
     "output_type": "stream",
     "text": [
      "Protein 8R47 embedded and saved to /zhome/c9/0/203261/DBL046_PP_osaul/DBL046_PP_osaul/tmp/data/PPint_DB/ESM_C_embeddings/8R47_B.npy\n",
      "Protein 2OK9 embedded and saved to /zhome/c9/0/203261/DBL046_PP_osaul/DBL046_PP_osaul/tmp/data/PPint_DB/ESM_C_embeddings/2OK9_A.npy\n",
      "Protein 2OK9 embedded and saved to /zhome/c9/0/203261/DBL046_PP_osaul/DBL046_PP_osaul/tmp/data/PPint_DB/ESM_C_embeddings/2OK9_B.npy\n"
     ]
    },
    {
     "name": "stderr",
     "output_type": "stream",
     "text": [
      "Embedding targets:   2%|█▏                                                              | 8/453 [00:01<01:26,  5.12it/s]"
     ]
    },
    {
     "name": "stdout",
     "output_type": "stream",
     "text": [
      "Protein 4POB embedded and saved to /zhome/c9/0/203261/DBL046_PP_osaul/DBL046_PP_osaul/tmp/data/PPint_DB/ESM_C_embeddings/4POB_A.npy\n",
      "Protein 4POB embedded and saved to /zhome/c9/0/203261/DBL046_PP_osaul/DBL046_PP_osaul/tmp/data/PPint_DB/ESM_C_embeddings/4POB_B.npy\n",
      "Protein 2WZP embedded and saved to /zhome/c9/0/203261/DBL046_PP_osaul/DBL046_PP_osaul/tmp/data/PPint_DB/ESM_C_embeddings/2WZP_A.npy\n",
      "Protein 2WZP embedded and saved to /zhome/c9/0/203261/DBL046_PP_osaul/DBL046_PP_osaul/tmp/data/PPint_DB/ESM_C_embeddings/2WZP_B.npy\n",
      "Protein 2WZP embedded and saved to /zhome/c9/0/203261/DBL046_PP_osaul/DBL046_PP_osaul/tmp/data/PPint_DB/ESM_C_embeddings/2WZP_C.npy\n"
     ]
    },
    {
     "name": "stderr",
     "output_type": "stream",
     "text": [
      "Embedding targets:   2%|█▎                                                              | 9/453 [00:02<02:19,  3.19it/s]"
     ]
    },
    {
     "name": "stdout",
     "output_type": "stream",
     "text": [
      "Protein 2WZP embedded and saved to /zhome/c9/0/203261/DBL046_PP_osaul/DBL046_PP_osaul/tmp/data/PPint_DB/ESM_C_embeddings/2WZP_D.npy\n",
      "Protein 1VMD embedded and saved to /zhome/c9/0/203261/DBL046_PP_osaul/DBL046_PP_osaul/tmp/data/PPint_DB/ESM_C_embeddings/1VMD_A.npy\n"
     ]
    },
    {
     "name": "stderr",
     "output_type": "stream",
     "text": [
      "Embedding targets:   2%|█▍                                                             | 10/453 [00:02<02:04,  3.55it/s]"
     ]
    },
    {
     "name": "stdout",
     "output_type": "stream",
     "text": [
      "Protein 1VMD embedded and saved to /zhome/c9/0/203261/DBL046_PP_osaul/DBL046_PP_osaul/tmp/data/PPint_DB/ESM_C_embeddings/1VMD_B.npy\n",
      "Protein 1ZKP embedded and saved to /zhome/c9/0/203261/DBL046_PP_osaul/DBL046_PP_osaul/tmp/data/PPint_DB/ESM_C_embeddings/1ZKP_A.npy\n"
     ]
    },
    {
     "name": "stderr",
     "output_type": "stream",
     "text": [
      "Embedding targets:   2%|█▌                                                             | 11/453 [00:02<02:09,  3.42it/s]"
     ]
    },
    {
     "name": "stdout",
     "output_type": "stream",
     "text": [
      "Protein 1ZKP embedded and saved to /zhome/c9/0/203261/DBL046_PP_osaul/DBL046_PP_osaul/tmp/data/PPint_DB/ESM_C_embeddings/1ZKP_B.npy\n",
      "Protein 7T6C embedded and saved to /zhome/c9/0/203261/DBL046_PP_osaul/DBL046_PP_osaul/tmp/data/PPint_DB/ESM_C_embeddings/7T6C_A.npy\n"
     ]
    },
    {
     "name": "stderr",
     "output_type": "stream",
     "text": [
      "Embedding targets:   3%|█▋                                                             | 12/453 [00:03<02:12,  3.33it/s]"
     ]
    },
    {
     "name": "stdout",
     "output_type": "stream",
     "text": [
      "Protein 7T6C embedded and saved to /zhome/c9/0/203261/DBL046_PP_osaul/DBL046_PP_osaul/tmp/data/PPint_DB/ESM_C_embeddings/7T6C_B.npy\n",
      "Protein 1EFP embedded and saved to /zhome/c9/0/203261/DBL046_PP_osaul/DBL046_PP_osaul/tmp/data/PPint_DB/ESM_C_embeddings/1EFP_A.npy\n"
     ]
    },
    {
     "name": "stderr",
     "output_type": "stream",
     "text": [
      "Embedding targets:   3%|█▉                                                             | 14/453 [00:03<01:54,  3.85it/s]"
     ]
    },
    {
     "name": "stdout",
     "output_type": "stream",
     "text": [
      "Protein 1EFP embedded and saved to /zhome/c9/0/203261/DBL046_PP_osaul/DBL046_PP_osaul/tmp/data/PPint_DB/ESM_C_embeddings/1EFP_B.npy\n",
      "Protein 6KW6 embedded and saved to /zhome/c9/0/203261/DBL046_PP_osaul/DBL046_PP_osaul/tmp/data/PPint_DB/ESM_C_embeddings/6KW6_A.npy\n",
      "Protein 6KW6 embedded and saved to /zhome/c9/0/203261/DBL046_PP_osaul/DBL046_PP_osaul/tmp/data/PPint_DB/ESM_C_embeddings/6KW6_B.npy\n"
     ]
    },
    {
     "name": "stderr",
     "output_type": "stream",
     "text": [
      "Embedding targets:   3%|██                                                             | 15/453 [00:03<01:54,  3.82it/s]"
     ]
    },
    {
     "name": "stdout",
     "output_type": "stream",
     "text": [
      "Protein 3QLL embedded and saved to /zhome/c9/0/203261/DBL046_PP_osaul/DBL046_PP_osaul/tmp/data/PPint_DB/ESM_C_embeddings/3QLL_A.npy\n",
      "Protein 3QLL embedded and saved to /zhome/c9/0/203261/DBL046_PP_osaul/DBL046_PP_osaul/tmp/data/PPint_DB/ESM_C_embeddings/3QLL_B.npy\n",
      "Protein 2E7D embedded and saved to /zhome/c9/0/203261/DBL046_PP_osaul/DBL046_PP_osaul/tmp/data/PPint_DB/ESM_C_embeddings/2E7D_A.npy\n"
     ]
    },
    {
     "name": "stderr",
     "output_type": "stream",
     "text": [
      "Embedding targets:   4%|██▏                                                            | 16/453 [00:04<01:45,  4.13it/s]"
     ]
    },
    {
     "name": "stdout",
     "output_type": "stream",
     "text": [
      "Protein 2E7D embedded and saved to /zhome/c9/0/203261/DBL046_PP_osaul/DBL046_PP_osaul/tmp/data/PPint_DB/ESM_C_embeddings/2E7D_B.npy\n",
      "Protein 2GE8 embedded and saved to /zhome/c9/0/203261/DBL046_PP_osaul/DBL046_PP_osaul/tmp/data/PPint_DB/ESM_C_embeddings/2GE8_A.npy\n"
     ]
    },
    {
     "name": "stderr",
     "output_type": "stream",
     "text": [
      "Embedding targets:   4%|██▌                                                            | 18/453 [00:04<01:28,  4.92it/s]"
     ]
    },
    {
     "name": "stdout",
     "output_type": "stream",
     "text": [
      "Protein 2GE8 embedded and saved to /zhome/c9/0/203261/DBL046_PP_osaul/DBL046_PP_osaul/tmp/data/PPint_DB/ESM_C_embeddings/2GE8_B.npy\n",
      "Protein 8BJW embedded and saved to /zhome/c9/0/203261/DBL046_PP_osaul/DBL046_PP_osaul/tmp/data/PPint_DB/ESM_C_embeddings/8BJW_A.npy\n",
      "Protein 8BJW embedded and saved to /zhome/c9/0/203261/DBL046_PP_osaul/DBL046_PP_osaul/tmp/data/PPint_DB/ESM_C_embeddings/8BJW_B.npy\n",
      "Protein 8QAC embedded and saved to /zhome/c9/0/203261/DBL046_PP_osaul/DBL046_PP_osaul/tmp/data/PPint_DB/ESM_C_embeddings/8QAC_A.npy\n"
     ]
    },
    {
     "name": "stderr",
     "output_type": "stream",
     "text": [
      "Embedding targets:   4%|██▊                                                            | 20/453 [00:04<01:16,  5.66it/s]"
     ]
    },
    {
     "name": "stdout",
     "output_type": "stream",
     "text": [
      "Protein 8QAC embedded and saved to /zhome/c9/0/203261/DBL046_PP_osaul/DBL046_PP_osaul/tmp/data/PPint_DB/ESM_C_embeddings/8QAC_B.npy\n",
      "Protein 4QHJ embedded and saved to /zhome/c9/0/203261/DBL046_PP_osaul/DBL046_PP_osaul/tmp/data/PPint_DB/ESM_C_embeddings/4QHJ_A.npy\n",
      "Protein 4QHJ embedded and saved to /zhome/c9/0/203261/DBL046_PP_osaul/DBL046_PP_osaul/tmp/data/PPint_DB/ESM_C_embeddings/4QHJ_B.npy\n"
     ]
    },
    {
     "name": "stderr",
     "output_type": "stream",
     "text": [
      "Embedding targets:   5%|██▉                                                            | 21/453 [00:05<01:35,  4.51it/s]"
     ]
    },
    {
     "name": "stdout",
     "output_type": "stream",
     "text": [
      "Protein 1U80 embedded and saved to /zhome/c9/0/203261/DBL046_PP_osaul/DBL046_PP_osaul/tmp/data/PPint_DB/ESM_C_embeddings/1U80_A.npy\n",
      "Protein 1U80 embedded and saved to /zhome/c9/0/203261/DBL046_PP_osaul/DBL046_PP_osaul/tmp/data/PPint_DB/ESM_C_embeddings/1U80_B.npy\n"
     ]
    },
    {
     "name": "stderr",
     "output_type": "stream",
     "text": [
      "Embedding targets:   5%|███                                                            | 22/453 [00:05<02:14,  3.21it/s]"
     ]
    },
    {
     "name": "stdout",
     "output_type": "stream",
     "text": [
      "Protein 6AJC embedded and saved to /zhome/c9/0/203261/DBL046_PP_osaul/DBL046_PP_osaul/tmp/data/PPint_DB/ESM_C_embeddings/6AJC_A.npy\n",
      "Protein 6AJC embedded and saved to /zhome/c9/0/203261/DBL046_PP_osaul/DBL046_PP_osaul/tmp/data/PPint_DB/ESM_C_embeddings/6AJC_B.npy\n"
     ]
    },
    {
     "name": "stderr",
     "output_type": "stream",
     "text": [
      "Embedding targets:   5%|███▏                                                           | 23/453 [00:05<01:54,  3.76it/s]"
     ]
    },
    {
     "name": "stdout",
     "output_type": "stream",
     "text": [
      "Protein 3RY0 embedded and saved to /zhome/c9/0/203261/DBL046_PP_osaul/DBL046_PP_osaul/tmp/data/PPint_DB/ESM_C_embeddings/3RY0_A.npy\n",
      "Protein 3RY0 embedded and saved to /zhome/c9/0/203261/DBL046_PP_osaul/DBL046_PP_osaul/tmp/data/PPint_DB/ESM_C_embeddings/3RY0_B.npy\n",
      "Protein 6GRH embedded and saved to /zhome/c9/0/203261/DBL046_PP_osaul/DBL046_PP_osaul/tmp/data/PPint_DB/ESM_C_embeddings/6GRH_A.npy\n",
      "Protein 6GRH embedded and saved to /zhome/c9/0/203261/DBL046_PP_osaul/DBL046_PP_osaul/tmp/data/PPint_DB/ESM_C_embeddings/6GRH_B.npy\n",
      "Protein 6GRH embedded and saved to /zhome/c9/0/203261/DBL046_PP_osaul/DBL046_PP_osaul/tmp/data/PPint_DB/ESM_C_embeddings/6GRH_C.npy\n"
     ]
    },
    {
     "name": "stderr",
     "output_type": "stream",
     "text": [
      "Embedding targets:   6%|███▍                                                           | 25/453 [00:06<02:17,  3.12it/s]"
     ]
    },
    {
     "name": "stdout",
     "output_type": "stream",
     "text": [
      "Protein 6GRH embedded and saved to /zhome/c9/0/203261/DBL046_PP_osaul/DBL046_PP_osaul/tmp/data/PPint_DB/ESM_C_embeddings/6GRH_D.npy\n",
      "Protein 3UEY embedded and saved to /zhome/c9/0/203261/DBL046_PP_osaul/DBL046_PP_osaul/tmp/data/PPint_DB/ESM_C_embeddings/3UEY_A.npy\n",
      "Protein 3UEY embedded and saved to /zhome/c9/0/203261/DBL046_PP_osaul/DBL046_PP_osaul/tmp/data/PPint_DB/ESM_C_embeddings/3UEY_B.npy\n"
     ]
    },
    {
     "name": "stderr",
     "output_type": "stream",
     "text": [
      "Embedding targets:   6%|███▌                                                           | 26/453 [00:06<02:09,  3.30it/s]"
     ]
    },
    {
     "name": "stdout",
     "output_type": "stream",
     "text": [
      "Protein 8D3T embedded and saved to /zhome/c9/0/203261/DBL046_PP_osaul/DBL046_PP_osaul/tmp/data/PPint_DB/ESM_C_embeddings/8D3T_A.npy\n",
      "Protein 8D3T embedded and saved to /zhome/c9/0/203261/DBL046_PP_osaul/DBL046_PP_osaul/tmp/data/PPint_DB/ESM_C_embeddings/8D3T_B.npy\n",
      "Protein 1EGP embedded and saved to /zhome/c9/0/203261/DBL046_PP_osaul/DBL046_PP_osaul/tmp/data/PPint_DB/ESM_C_embeddings/1EGP_A.npy\n"
     ]
    },
    {
     "name": "stderr",
     "output_type": "stream",
     "text": [
      "Embedding targets:   6%|███▉                                                           | 28/453 [00:07<01:38,  4.30it/s]"
     ]
    },
    {
     "name": "stdout",
     "output_type": "stream",
     "text": [
      "Protein 1EGP embedded and saved to /zhome/c9/0/203261/DBL046_PP_osaul/DBL046_PP_osaul/tmp/data/PPint_DB/ESM_C_embeddings/1EGP_B.npy\n",
      "Protein 1K38 embedded and saved to /zhome/c9/0/203261/DBL046_PP_osaul/DBL046_PP_osaul/tmp/data/PPint_DB/ESM_C_embeddings/1K38_A.npy\n",
      "Protein 1K38 embedded and saved to /zhome/c9/0/203261/DBL046_PP_osaul/DBL046_PP_osaul/tmp/data/PPint_DB/ESM_C_embeddings/1K38_B.npy\n",
      "Protein 2D1L embedded and saved to /zhome/c9/0/203261/DBL046_PP_osaul/DBL046_PP_osaul/tmp/data/PPint_DB/ESM_C_embeddings/2D1L_A.npy\n"
     ]
    },
    {
     "name": "stderr",
     "output_type": "stream",
     "text": [
      "Embedding targets:   6%|████                                                           | 29/453 [00:07<02:05,  3.39it/s]"
     ]
    },
    {
     "name": "stdout",
     "output_type": "stream",
     "text": [
      "Protein 2D1L embedded and saved to /zhome/c9/0/203261/DBL046_PP_osaul/DBL046_PP_osaul/tmp/data/PPint_DB/ESM_C_embeddings/2D1L_B.npy\n",
      "Protein 1GVN embedded and saved to /zhome/c9/0/203261/DBL046_PP_osaul/DBL046_PP_osaul/tmp/data/PPint_DB/ESM_C_embeddings/1GVN_A.npy\n"
     ]
    },
    {
     "name": "stderr",
     "output_type": "stream",
     "text": [
      "Embedding targets:   7%|████▎                                                          | 31/453 [00:07<01:44,  4.06it/s]"
     ]
    },
    {
     "name": "stdout",
     "output_type": "stream",
     "text": [
      "Protein 1GVN embedded and saved to /zhome/c9/0/203261/DBL046_PP_osaul/DBL046_PP_osaul/tmp/data/PPint_DB/ESM_C_embeddings/1GVN_B.npy\n",
      "Protein 2W82 embedded and saved to /zhome/c9/0/203261/DBL046_PP_osaul/DBL046_PP_osaul/tmp/data/PPint_DB/ESM_C_embeddings/2W82_A.npy\n",
      "Protein 2W82 embedded and saved to /zhome/c9/0/203261/DBL046_PP_osaul/DBL046_PP_osaul/tmp/data/PPint_DB/ESM_C_embeddings/2W82_B.npy\n"
     ]
    },
    {
     "name": "stderr",
     "output_type": "stream",
     "text": [
      "Embedding targets:   7%|████▍                                                          | 32/453 [00:08<01:46,  3.95it/s]"
     ]
    },
    {
     "name": "stdout",
     "output_type": "stream",
     "text": [
      "Protein 1LNY embedded and saved to /zhome/c9/0/203261/DBL046_PP_osaul/DBL046_PP_osaul/tmp/data/PPint_DB/ESM_C_embeddings/1LNY_A.npy\n",
      "Protein 1LNY embedded and saved to /zhome/c9/0/203261/DBL046_PP_osaul/DBL046_PP_osaul/tmp/data/PPint_DB/ESM_C_embeddings/1LNY_B.npy\n",
      "Protein 8R57 embedded and saved to /zhome/c9/0/203261/DBL046_PP_osaul/DBL046_PP_osaul/tmp/data/PPint_DB/ESM_C_embeddings/8R57_A.npy\n",
      "Protein 8R57 embedded and saved to /zhome/c9/0/203261/DBL046_PP_osaul/DBL046_PP_osaul/tmp/data/PPint_DB/ESM_C_embeddings/8R57_B.npy\n",
      "Protein 8R57 embedded and saved to /zhome/c9/0/203261/DBL046_PP_osaul/DBL046_PP_osaul/tmp/data/PPint_DB/ESM_C_embeddings/8R57_C.npy\n",
      "Protein 8R57 embedded and saved to /zhome/c9/0/203261/DBL046_PP_osaul/DBL046_PP_osaul/tmp/data/PPint_DB/ESM_C_embeddings/8R57_D.npy\n",
      "Protein 8R57 embedded and saved to /zhome/c9/0/203261/DBL046_PP_osaul/DBL046_PP_osaul/tmp/data/PPint_DB/ESM_C_embeddings/8R57_E.npy\n",
      "Protein 8R57 embedded and saved to /zhome/c9/0/203261/DBL046_PP_osaul/DBL046_PP_osaul/tmp/data/PPint_DB/ESM_C_embeddings/8R57_F.npy\n"
     ]
    },
    {
     "name": "stderr",
     "output_type": "stream",
     "text": [
      "Embedding targets:   7%|████▌                                                          | 33/453 [00:08<02:40,  2.62it/s]"
     ]
    },
    {
     "name": "stdout",
     "output_type": "stream",
     "text": [
      "Protein 8R57 embedded and saved to /zhome/c9/0/203261/DBL046_PP_osaul/DBL046_PP_osaul/tmp/data/PPint_DB/ESM_C_embeddings/8R57_G.npy\n",
      "Protein 8R57 embedded and saved to /zhome/c9/0/203261/DBL046_PP_osaul/DBL046_PP_osaul/tmp/data/PPint_DB/ESM_C_embeddings/8R57_H.npy\n",
      "Protein 7TVK embedded and saved to /zhome/c9/0/203261/DBL046_PP_osaul/DBL046_PP_osaul/tmp/data/PPint_DB/ESM_C_embeddings/7TVK_A.npy\n"
     ]
    },
    {
     "name": "stderr",
     "output_type": "stream",
     "text": [
      "Embedding targets:   8%|████▊                                                          | 35/453 [00:09<01:53,  3.68it/s]"
     ]
    },
    {
     "name": "stdout",
     "output_type": "stream",
     "text": [
      "Protein 7TVK embedded and saved to /zhome/c9/0/203261/DBL046_PP_osaul/DBL046_PP_osaul/tmp/data/PPint_DB/ESM_C_embeddings/7TVK_B.npy\n",
      "Protein 4ATH embedded and saved to /zhome/c9/0/203261/DBL046_PP_osaul/DBL046_PP_osaul/tmp/data/PPint_DB/ESM_C_embeddings/4ATH_A.npy\n",
      "Protein 4ATH embedded and saved to /zhome/c9/0/203261/DBL046_PP_osaul/DBL046_PP_osaul/tmp/data/PPint_DB/ESM_C_embeddings/4ATH_B.npy\n"
     ]
    },
    {
     "name": "stderr",
     "output_type": "stream",
     "text": [
      "Embedding targets:   8%|█████                                                          | 36/453 [00:09<01:47,  3.87it/s]"
     ]
    },
    {
     "name": "stdout",
     "output_type": "stream",
     "text": [
      "Protein 1DB2 embedded and saved to /zhome/c9/0/203261/DBL046_PP_osaul/DBL046_PP_osaul/tmp/data/PPint_DB/ESM_C_embeddings/1DB2_A.npy\n",
      "Protein 1DB2 embedded and saved to /zhome/c9/0/203261/DBL046_PP_osaul/DBL046_PP_osaul/tmp/data/PPint_DB/ESM_C_embeddings/1DB2_B.npy\n",
      "Protein 3KOQ embedded and saved to /zhome/c9/0/203261/DBL046_PP_osaul/DBL046_PP_osaul/tmp/data/PPint_DB/ESM_C_embeddings/3KOQ_A.npy\n"
     ]
    },
    {
     "name": "stderr",
     "output_type": "stream",
     "text": [
      "Embedding targets:   8%|█████▏                                                         | 37/453 [00:09<01:35,  4.35it/s]"
     ]
    },
    {
     "name": "stdout",
     "output_type": "stream",
     "text": [
      "Protein 3KOQ embedded and saved to /zhome/c9/0/203261/DBL046_PP_osaul/DBL046_PP_osaul/tmp/data/PPint_DB/ESM_C_embeddings/3KOQ_B.npy\n",
      "Protein 5SWC embedded and saved to /zhome/c9/0/203261/DBL046_PP_osaul/DBL046_PP_osaul/tmp/data/PPint_DB/ESM_C_embeddings/5SWC_A.npy\n"
     ]
    },
    {
     "name": "stderr",
     "output_type": "stream",
     "text": [
      "Embedding targets:   8%|█████▎                                                         | 38/453 [00:09<01:40,  4.12it/s]"
     ]
    },
    {
     "name": "stdout",
     "output_type": "stream",
     "text": [
      "Protein 5SWC embedded and saved to /zhome/c9/0/203261/DBL046_PP_osaul/DBL046_PP_osaul/tmp/data/PPint_DB/ESM_C_embeddings/5SWC_B.npy\n",
      "Protein 5I4V embedded and saved to /zhome/c9/0/203261/DBL046_PP_osaul/DBL046_PP_osaul/tmp/data/PPint_DB/ESM_C_embeddings/5I4V_A.npy\n"
     ]
    },
    {
     "name": "stderr",
     "output_type": "stream",
     "text": [
      "Embedding targets:   9%|█████▍                                                         | 39/453 [00:10<01:36,  4.30it/s]"
     ]
    },
    {
     "name": "stdout",
     "output_type": "stream",
     "text": [
      "Protein 5I4V embedded and saved to /zhome/c9/0/203261/DBL046_PP_osaul/DBL046_PP_osaul/tmp/data/PPint_DB/ESM_C_embeddings/5I4V_B.npy\n",
      "Protein 1WKL embedded and saved to /zhome/c9/0/203261/DBL046_PP_osaul/DBL046_PP_osaul/tmp/data/PPint_DB/ESM_C_embeddings/1WKL_A.npy\n"
     ]
    },
    {
     "name": "stderr",
     "output_type": "stream",
     "text": [
      "Embedding targets:   9%|█████▋                                                         | 41/453 [00:10<01:30,  4.56it/s]"
     ]
    },
    {
     "name": "stdout",
     "output_type": "stream",
     "text": [
      "Protein 1WKL embedded and saved to /zhome/c9/0/203261/DBL046_PP_osaul/DBL046_PP_osaul/tmp/data/PPint_DB/ESM_C_embeddings/1WKL_B.npy\n",
      "Protein 7CUJ embedded and saved to /zhome/c9/0/203261/DBL046_PP_osaul/DBL046_PP_osaul/tmp/data/PPint_DB/ESM_C_embeddings/7CUJ_A.npy\n",
      "Protein 7CUJ embedded and saved to /zhome/c9/0/203261/DBL046_PP_osaul/DBL046_PP_osaul/tmp/data/PPint_DB/ESM_C_embeddings/7CUJ_B.npy\n"
     ]
    },
    {
     "name": "stderr",
     "output_type": "stream",
     "text": [
      "Embedding targets:   9%|█████▊                                                         | 42/453 [00:10<01:25,  4.79it/s]"
     ]
    },
    {
     "name": "stdout",
     "output_type": "stream",
     "text": [
      "Protein 7U0K embedded and saved to /zhome/c9/0/203261/DBL046_PP_osaul/DBL046_PP_osaul/tmp/data/PPint_DB/ESM_C_embeddings/7U0K_A.npy\n",
      "Protein 7U0K embedded and saved to /zhome/c9/0/203261/DBL046_PP_osaul/DBL046_PP_osaul/tmp/data/PPint_DB/ESM_C_embeddings/7U0K_B.npy\n",
      "Protein 8S0U embedded and saved to /zhome/c9/0/203261/DBL046_PP_osaul/DBL046_PP_osaul/tmp/data/PPint_DB/ESM_C_embeddings/8S0U_A.npy\n"
     ]
    },
    {
     "name": "stderr",
     "output_type": "stream",
     "text": [
      "Embedding targets:   9%|█████▉                                                         | 43/453 [00:10<01:29,  4.59it/s]"
     ]
    },
    {
     "name": "stdout",
     "output_type": "stream",
     "text": [
      "Protein 8S0U embedded and saved to /zhome/c9/0/203261/DBL046_PP_osaul/DBL046_PP_osaul/tmp/data/PPint_DB/ESM_C_embeddings/8S0U_B.npy\n",
      "Protein 3L20 embedded and saved to /zhome/c9/0/203261/DBL046_PP_osaul/DBL046_PP_osaul/tmp/data/PPint_DB/ESM_C_embeddings/3L20_A.npy\n"
     ]
    },
    {
     "name": "stderr",
     "output_type": "stream",
     "text": [
      "Embedding targets:  10%|██████                                                         | 44/453 [00:11<01:34,  4.32it/s]"
     ]
    },
    {
     "name": "stdout",
     "output_type": "stream",
     "text": [
      "Protein 3L20 embedded and saved to /zhome/c9/0/203261/DBL046_PP_osaul/DBL046_PP_osaul/tmp/data/PPint_DB/ESM_C_embeddings/3L20_B.npy\n"
     ]
    },
    {
     "name": "stderr",
     "output_type": "stream",
     "text": [
      "Embedding targets:  10%|██████▎                                                        | 45/453 [00:11<01:50,  3.68it/s]"
     ]
    },
    {
     "name": "stdout",
     "output_type": "stream",
     "text": [
      "Protein 3EZ1 embedded and saved to /zhome/c9/0/203261/DBL046_PP_osaul/DBL046_PP_osaul/tmp/data/PPint_DB/ESM_C_embeddings/3EZ1_A.npy\n",
      "Protein 3EZ1 embedded and saved to /zhome/c9/0/203261/DBL046_PP_osaul/DBL046_PP_osaul/tmp/data/PPint_DB/ESM_C_embeddings/3EZ1_B.npy\n"
     ]
    },
    {
     "name": "stderr",
     "output_type": "stream",
     "text": [
      "Embedding targets:  10%|██████▍                                                        | 46/453 [00:11<01:48,  3.75it/s]"
     ]
    },
    {
     "name": "stdout",
     "output_type": "stream",
     "text": [
      "Protein 3QML embedded and saved to /zhome/c9/0/203261/DBL046_PP_osaul/DBL046_PP_osaul/tmp/data/PPint_DB/ESM_C_embeddings/3QML_A.npy\n",
      "Protein 3QML embedded and saved to /zhome/c9/0/203261/DBL046_PP_osaul/DBL046_PP_osaul/tmp/data/PPint_DB/ESM_C_embeddings/3QML_B.npy\n"
     ]
    },
    {
     "name": "stderr",
     "output_type": "stream",
     "text": [
      "Embedding targets:  10%|██████▌                                                        | 47/453 [00:12<01:47,  3.79it/s]"
     ]
    },
    {
     "name": "stdout",
     "output_type": "stream",
     "text": [
      "Protein 1UZR embedded and saved to /zhome/c9/0/203261/DBL046_PP_osaul/DBL046_PP_osaul/tmp/data/PPint_DB/ESM_C_embeddings/1UZR_A.npy\n",
      "Protein 1UZR embedded and saved to /zhome/c9/0/203261/DBL046_PP_osaul/DBL046_PP_osaul/tmp/data/PPint_DB/ESM_C_embeddings/1UZR_B.npy\n"
     ]
    },
    {
     "name": "stderr",
     "output_type": "stream",
     "text": [
      "Embedding targets:  11%|██████▋                                                        | 48/453 [00:12<01:46,  3.80it/s]"
     ]
    },
    {
     "name": "stdout",
     "output_type": "stream",
     "text": [
      "Protein 5VZ4 embedded and saved to /zhome/c9/0/203261/DBL046_PP_osaul/DBL046_PP_osaul/tmp/data/PPint_DB/ESM_C_embeddings/5VZ4_A.npy\n",
      "Protein 5VZ4 embedded and saved to /zhome/c9/0/203261/DBL046_PP_osaul/DBL046_PP_osaul/tmp/data/PPint_DB/ESM_C_embeddings/5VZ4_B.npy\n"
     ]
    },
    {
     "name": "stderr",
     "output_type": "stream",
     "text": [
      "Embedding targets:  11%|██████▊                                                        | 49/453 [00:12<01:40,  4.03it/s]"
     ]
    },
    {
     "name": "stdout",
     "output_type": "stream",
     "text": [
      "Protein 2B5I embedded and saved to /zhome/c9/0/203261/DBL046_PP_osaul/DBL046_PP_osaul/tmp/data/PPint_DB/ESM_C_embeddings/2B5I_A.npy\n",
      "Protein 2B5I embedded and saved to /zhome/c9/0/203261/DBL046_PP_osaul/DBL046_PP_osaul/tmp/data/PPint_DB/ESM_C_embeddings/2B5I_B.npy\n",
      "Protein 3ICA embedded and saved to /zhome/c9/0/203261/DBL046_PP_osaul/DBL046_PP_osaul/tmp/data/PPint_DB/ESM_C_embeddings/3ICA_A.npy\n"
     ]
    },
    {
     "name": "stderr",
     "output_type": "stream",
     "text": [
      "Embedding targets:  11%|███████                                                        | 51/453 [00:12<01:21,  4.95it/s]"
     ]
    },
    {
     "name": "stdout",
     "output_type": "stream",
     "text": [
      "Protein 3ICA embedded and saved to /zhome/c9/0/203261/DBL046_PP_osaul/DBL046_PP_osaul/tmp/data/PPint_DB/ESM_C_embeddings/3ICA_B.npy\n",
      "Protein 4KT3 embedded and saved to /zhome/c9/0/203261/DBL046_PP_osaul/DBL046_PP_osaul/tmp/data/PPint_DB/ESM_C_embeddings/4KT3_A.npy\n",
      "Protein 4KT3 embedded and saved to /zhome/c9/0/203261/DBL046_PP_osaul/DBL046_PP_osaul/tmp/data/PPint_DB/ESM_C_embeddings/4KT3_B.npy\n"
     ]
    },
    {
     "name": "stderr",
     "output_type": "stream",
     "text": [
      "Embedding targets:  11%|███████▏                                                       | 52/453 [00:13<01:18,  5.08it/s]"
     ]
    },
    {
     "name": "stdout",
     "output_type": "stream",
     "text": [
      "Protein 5T5F embedded and saved to /zhome/c9/0/203261/DBL046_PP_osaul/DBL046_PP_osaul/tmp/data/PPint_DB/ESM_C_embeddings/5T5F_A.npy\n",
      "Protein 5T5F embedded and saved to /zhome/c9/0/203261/DBL046_PP_osaul/DBL046_PP_osaul/tmp/data/PPint_DB/ESM_C_embeddings/5T5F_B.npy\n"
     ]
    },
    {
     "name": "stderr",
     "output_type": "stream",
     "text": [
      "Embedding targets:  12%|███████▎                                                       | 53/453 [00:13<01:27,  4.57it/s]"
     ]
    },
    {
     "name": "stdout",
     "output_type": "stream",
     "text": [
      "Protein 7D7O embedded and saved to /zhome/c9/0/203261/DBL046_PP_osaul/DBL046_PP_osaul/tmp/data/PPint_DB/ESM_C_embeddings/7D7O_A.npy\n",
      "Protein 7D7O embedded and saved to /zhome/c9/0/203261/DBL046_PP_osaul/DBL046_PP_osaul/tmp/data/PPint_DB/ESM_C_embeddings/7D7O_B.npy\n"
     ]
    },
    {
     "name": "stderr",
     "output_type": "stream",
     "text": [
      "Embedding targets:  12%|███████▌                                                       | 54/453 [00:13<01:32,  4.34it/s]"
     ]
    },
    {
     "name": "stdout",
     "output_type": "stream",
     "text": [
      "Protein 3QPB embedded and saved to /zhome/c9/0/203261/DBL046_PP_osaul/DBL046_PP_osaul/tmp/data/PPint_DB/ESM_C_embeddings/3QPB_A.npy\n",
      "Protein 3QPB embedded and saved to /zhome/c9/0/203261/DBL046_PP_osaul/DBL046_PP_osaul/tmp/data/PPint_DB/ESM_C_embeddings/3QPB_B.npy\n"
     ]
    },
    {
     "name": "stderr",
     "output_type": "stream",
     "text": [
      "Embedding targets:  12%|███████▋                                                       | 55/453 [00:13<01:32,  4.31it/s]"
     ]
    },
    {
     "name": "stdout",
     "output_type": "stream",
     "text": [
      "Protein 6CGS embedded and saved to /zhome/c9/0/203261/DBL046_PP_osaul/DBL046_PP_osaul/tmp/data/PPint_DB/ESM_C_embeddings/6CGS_A.npy\n",
      "Protein 6CGS embedded and saved to /zhome/c9/0/203261/DBL046_PP_osaul/DBL046_PP_osaul/tmp/data/PPint_DB/ESM_C_embeddings/6CGS_B.npy\n"
     ]
    },
    {
     "name": "stderr",
     "output_type": "stream",
     "text": [
      "Embedding targets:  12%|███████▊                                                       | 56/453 [00:14<01:27,  4.52it/s]"
     ]
    },
    {
     "name": "stdout",
     "output_type": "stream",
     "text": [
      "Protein 7YH3 embedded and saved to /zhome/c9/0/203261/DBL046_PP_osaul/DBL046_PP_osaul/tmp/data/PPint_DB/ESM_C_embeddings/7YH3_A.npy\n",
      "Protein 7YH3 embedded and saved to /zhome/c9/0/203261/DBL046_PP_osaul/DBL046_PP_osaul/tmp/data/PPint_DB/ESM_C_embeddings/7YH3_B.npy\n"
     ]
    },
    {
     "name": "stderr",
     "output_type": "stream",
     "text": [
      "Embedding targets:  13%|███████▉                                                       | 57/453 [00:14<01:29,  4.42it/s]"
     ]
    },
    {
     "name": "stdout",
     "output_type": "stream",
     "text": [
      "Protein 5VEP embedded and saved to /zhome/c9/0/203261/DBL046_PP_osaul/DBL046_PP_osaul/tmp/data/PPint_DB/ESM_C_embeddings/5VEP_A.npy\n",
      "Protein 5VEP embedded and saved to /zhome/c9/0/203261/DBL046_PP_osaul/DBL046_PP_osaul/tmp/data/PPint_DB/ESM_C_embeddings/5VEP_B.npy\n",
      "Protein 5B1O embedded and saved to /zhome/c9/0/203261/DBL046_PP_osaul/DBL046_PP_osaul/tmp/data/PPint_DB/ESM_C_embeddings/5B1O_A.npy\n"
     ]
    },
    {
     "name": "stderr",
     "output_type": "stream",
     "text": [
      "Embedding targets:  13%|████████                                                       | 58/453 [00:14<01:24,  4.70it/s]"
     ]
    },
    {
     "name": "stdout",
     "output_type": "stream",
     "text": [
      "Protein 5B1O embedded and saved to /zhome/c9/0/203261/DBL046_PP_osaul/DBL046_PP_osaul/tmp/data/PPint_DB/ESM_C_embeddings/5B1O_B.npy\n"
     ]
    },
    {
     "name": "stderr",
     "output_type": "stream",
     "text": [
      "Embedding targets:  13%|████████▏                                                      | 59/453 [00:14<01:49,  3.61it/s]"
     ]
    },
    {
     "name": "stdout",
     "output_type": "stream",
     "text": [
      "Protein 1M5W embedded and saved to /zhome/c9/0/203261/DBL046_PP_osaul/DBL046_PP_osaul/tmp/data/PPint_DB/ESM_C_embeddings/1M5W_A.npy\n",
      "Protein 1M5W embedded and saved to /zhome/c9/0/203261/DBL046_PP_osaul/DBL046_PP_osaul/tmp/data/PPint_DB/ESM_C_embeddings/1M5W_B.npy\n"
     ]
    },
    {
     "name": "stderr",
     "output_type": "stream",
     "text": [
      "Embedding targets:  13%|████████▎                                                      | 60/453 [00:15<01:51,  3.53it/s]"
     ]
    },
    {
     "name": "stdout",
     "output_type": "stream",
     "text": [
      "Protein 5XP0 embedded and saved to /zhome/c9/0/203261/DBL046_PP_osaul/DBL046_PP_osaul/tmp/data/PPint_DB/ESM_C_embeddings/5XP0_A.npy\n",
      "Protein 5XP0 embedded and saved to /zhome/c9/0/203261/DBL046_PP_osaul/DBL046_PP_osaul/tmp/data/PPint_DB/ESM_C_embeddings/5XP0_B.npy\n"
     ]
    },
    {
     "name": "stderr",
     "output_type": "stream",
     "text": [
      "Embedding targets:  13%|████████▍                                                      | 61/453 [00:15<01:52,  3.48it/s]"
     ]
    },
    {
     "name": "stdout",
     "output_type": "stream",
     "text": [
      "Protein 3HDI embedded and saved to /zhome/c9/0/203261/DBL046_PP_osaul/DBL046_PP_osaul/tmp/data/PPint_DB/ESM_C_embeddings/3HDI_A.npy\n",
      "Protein 3HDI embedded and saved to /zhome/c9/0/203261/DBL046_PP_osaul/DBL046_PP_osaul/tmp/data/PPint_DB/ESM_C_embeddings/3HDI_B.npy\n"
     ]
    },
    {
     "name": "stderr",
     "output_type": "stream",
     "text": [
      "Embedding targets:  14%|████████▌                                                      | 62/453 [00:15<01:42,  3.82it/s]"
     ]
    },
    {
     "name": "stdout",
     "output_type": "stream",
     "text": [
      "Protein 2RIC embedded and saved to /zhome/c9/0/203261/DBL046_PP_osaul/DBL046_PP_osaul/tmp/data/PPint_DB/ESM_C_embeddings/2RIC_A.npy\n",
      "Protein 2RIC embedded and saved to /zhome/c9/0/203261/DBL046_PP_osaul/DBL046_PP_osaul/tmp/data/PPint_DB/ESM_C_embeddings/2RIC_B.npy\n",
      "Protein 4YZE embedded and saved to /zhome/c9/0/203261/DBL046_PP_osaul/DBL046_PP_osaul/tmp/data/PPint_DB/ESM_C_embeddings/4YZE_A.npy\n"
     ]
    },
    {
     "name": "stderr",
     "output_type": "stream",
     "text": [
      "Embedding targets:  14%|████████▉                                                      | 64/453 [00:16<01:27,  4.45it/s]"
     ]
    },
    {
     "name": "stdout",
     "output_type": "stream",
     "text": [
      "Protein 4YZE embedded and saved to /zhome/c9/0/203261/DBL046_PP_osaul/DBL046_PP_osaul/tmp/data/PPint_DB/ESM_C_embeddings/4YZE_B.npy\n",
      "Protein 4WMO embedded and saved to /zhome/c9/0/203261/DBL046_PP_osaul/DBL046_PP_osaul/tmp/data/PPint_DB/ESM_C_embeddings/4WMO_A.npy\n",
      "Protein 4WMO embedded and saved to /zhome/c9/0/203261/DBL046_PP_osaul/DBL046_PP_osaul/tmp/data/PPint_DB/ESM_C_embeddings/4WMO_B.npy\n",
      "Protein 8C0Y embedded and saved to /zhome/c9/0/203261/DBL046_PP_osaul/DBL046_PP_osaul/tmp/data/PPint_DB/ESM_C_embeddings/8C0Y_A.npy\n",
      "Protein 8C0Y embedded and saved to /zhome/c9/0/203261/DBL046_PP_osaul/DBL046_PP_osaul/tmp/data/PPint_DB/ESM_C_embeddings/8C0Y_B.npy\n"
     ]
    },
    {
     "name": "stderr",
     "output_type": "stream",
     "text": [
      "Embedding targets:  14%|█████████                                                      | 65/453 [00:16<01:48,  3.58it/s]"
     ]
    },
    {
     "name": "stdout",
     "output_type": "stream",
     "text": [
      "Protein 8C0Y embedded and saved to /zhome/c9/0/203261/DBL046_PP_osaul/DBL046_PP_osaul/tmp/data/PPint_DB/ESM_C_embeddings/8C0Y_C.npy\n",
      "Protein 8C0Y embedded and saved to /zhome/c9/0/203261/DBL046_PP_osaul/DBL046_PP_osaul/tmp/data/PPint_DB/ESM_C_embeddings/8C0Y_D.npy\n",
      "Protein 3RFT embedded and saved to /zhome/c9/0/203261/DBL046_PP_osaul/DBL046_PP_osaul/tmp/data/PPint_DB/ESM_C_embeddings/3RFT_A.npy\n"
     ]
    },
    {
     "name": "stderr",
     "output_type": "stream",
     "text": [
      "Embedding targets:  15%|█████████▏                                                     | 66/453 [00:16<01:45,  3.67it/s]"
     ]
    },
    {
     "name": "stdout",
     "output_type": "stream",
     "text": [
      "Protein 3RFT embedded and saved to /zhome/c9/0/203261/DBL046_PP_osaul/DBL046_PP_osaul/tmp/data/PPint_DB/ESM_C_embeddings/3RFT_B.npy\n",
      "Protein 6Z2P embedded and saved to /zhome/c9/0/203261/DBL046_PP_osaul/DBL046_PP_osaul/tmp/data/PPint_DB/ESM_C_embeddings/6Z2P_A.npy\n"
     ]
    },
    {
     "name": "stderr",
     "output_type": "stream",
     "text": [
      "Embedding targets:  15%|█████████▎                                                     | 67/453 [00:16<01:37,  3.96it/s]"
     ]
    },
    {
     "name": "stdout",
     "output_type": "stream",
     "text": [
      "Protein 6Z2P embedded and saved to /zhome/c9/0/203261/DBL046_PP_osaul/DBL046_PP_osaul/tmp/data/PPint_DB/ESM_C_embeddings/6Z2P_B.npy\n",
      "Protein 1EX4 embedded and saved to /zhome/c9/0/203261/DBL046_PP_osaul/DBL046_PP_osaul/tmp/data/PPint_DB/ESM_C_embeddings/1EX4_A.npy\n"
     ]
    },
    {
     "name": "stderr",
     "output_type": "stream",
     "text": [
      "Embedding targets:  15%|█████████▌                                                     | 69/453 [00:17<01:27,  4.39it/s]"
     ]
    },
    {
     "name": "stdout",
     "output_type": "stream",
     "text": [
      "Protein 1EX4 embedded and saved to /zhome/c9/0/203261/DBL046_PP_osaul/DBL046_PP_osaul/tmp/data/PPint_DB/ESM_C_embeddings/1EX4_B.npy\n",
      "Protein 3JUW embedded and saved to /zhome/c9/0/203261/DBL046_PP_osaul/DBL046_PP_osaul/tmp/data/PPint_DB/ESM_C_embeddings/3JUW_A.npy\n",
      "Protein 3JUW embedded and saved to /zhome/c9/0/203261/DBL046_PP_osaul/DBL046_PP_osaul/tmp/data/PPint_DB/ESM_C_embeddings/3JUW_B.npy\n"
     ]
    },
    {
     "name": "stderr",
     "output_type": "stream",
     "text": [
      "Embedding targets:  15%|█████████▋                                                     | 70/453 [00:17<01:15,  5.07it/s]"
     ]
    },
    {
     "name": "stdout",
     "output_type": "stream",
     "text": [
      "Protein 7S4N embedded and saved to /zhome/c9/0/203261/DBL046_PP_osaul/DBL046_PP_osaul/tmp/data/PPint_DB/ESM_C_embeddings/7S4N_A.npy\n",
      "Protein 7S4N embedded and saved to /zhome/c9/0/203261/DBL046_PP_osaul/DBL046_PP_osaul/tmp/data/PPint_DB/ESM_C_embeddings/7S4N_B.npy\n",
      "Protein 5B0O embedded and saved to /zhome/c9/0/203261/DBL046_PP_osaul/DBL046_PP_osaul/tmp/data/PPint_DB/ESM_C_embeddings/5B0O_A.npy\n"
     ]
    },
    {
     "name": "stderr",
     "output_type": "stream",
     "text": [
      "Embedding targets:  16%|█████████▊                                                     | 71/453 [00:17<01:38,  3.87it/s]"
     ]
    },
    {
     "name": "stdout",
     "output_type": "stream",
     "text": [
      "Protein 5B0O embedded and saved to /zhome/c9/0/203261/DBL046_PP_osaul/DBL046_PP_osaul/tmp/data/PPint_DB/ESM_C_embeddings/5B0O_B.npy\n",
      "Protein 5B0O embedded and saved to /zhome/c9/0/203261/DBL046_PP_osaul/DBL046_PP_osaul/tmp/data/PPint_DB/ESM_C_embeddings/5B0O_C.npy\n",
      "Protein 5B0O embedded and saved to /zhome/c9/0/203261/DBL046_PP_osaul/DBL046_PP_osaul/tmp/data/PPint_DB/ESM_C_embeddings/5B0O_D.npy\n"
     ]
    },
    {
     "name": "stderr",
     "output_type": "stream",
     "text": [
      "Embedding targets:  16%|██████████                                                     | 72/453 [00:18<01:27,  4.37it/s]"
     ]
    },
    {
     "name": "stdout",
     "output_type": "stream",
     "text": [
      "Protein 3B94 embedded and saved to /zhome/c9/0/203261/DBL046_PP_osaul/DBL046_PP_osaul/tmp/data/PPint_DB/ESM_C_embeddings/3B94_A.npy\n",
      "Protein 3B94 embedded and saved to /zhome/c9/0/203261/DBL046_PP_osaul/DBL046_PP_osaul/tmp/data/PPint_DB/ESM_C_embeddings/3B94_B.npy\n",
      "Protein 7OOP embedded and saved to /zhome/c9/0/203261/DBL046_PP_osaul/DBL046_PP_osaul/tmp/data/PPint_DB/ESM_C_embeddings/7OOP_A.npy\n",
      "Protein 7OOP embedded and saved to /zhome/c9/0/203261/DBL046_PP_osaul/DBL046_PP_osaul/tmp/data/PPint_DB/ESM_C_embeddings/7OOP_B.npy\n",
      "Protein 7OOP embedded and saved to /zhome/c9/0/203261/DBL046_PP_osaul/DBL046_PP_osaul/tmp/data/PPint_DB/ESM_C_embeddings/7OOP_C.npy\n",
      "Protein 7OOP embedded and saved to /zhome/c9/0/203261/DBL046_PP_osaul/DBL046_PP_osaul/tmp/data/PPint_DB/ESM_C_embeddings/7OOP_D.npy\n",
      "Protein 7OOP embedded and saved to /zhome/c9/0/203261/DBL046_PP_osaul/DBL046_PP_osaul/tmp/data/PPint_DB/ESM_C_embeddings/7OOP_E.npy\n"
     ]
    },
    {
     "name": "stderr",
     "output_type": "stream",
     "text": [
      "Embedding targets:  16%|██████████▏                                                    | 73/453 [00:18<02:32,  2.49it/s]"
     ]
    },
    {
     "name": "stdout",
     "output_type": "stream",
     "text": [
      "Protein 7OOP embedded and saved to /zhome/c9/0/203261/DBL046_PP_osaul/DBL046_PP_osaul/tmp/data/PPint_DB/ESM_C_embeddings/7OOP_F.npy\n",
      "Protein 2EKB embedded and saved to /zhome/c9/0/203261/DBL046_PP_osaul/DBL046_PP_osaul/tmp/data/PPint_DB/ESM_C_embeddings/2EKB_A.npy\n"
     ]
    },
    {
     "name": "stderr",
     "output_type": "stream",
     "text": [
      "Embedding targets:  16%|██████████▎                                                    | 74/453 [00:19<02:15,  2.79it/s]"
     ]
    },
    {
     "name": "stdout",
     "output_type": "stream",
     "text": [
      "Protein 2EKB embedded and saved to /zhome/c9/0/203261/DBL046_PP_osaul/DBL046_PP_osaul/tmp/data/PPint_DB/ESM_C_embeddings/2EKB_B.npy\n",
      "Protein 4TX3 embedded and saved to /zhome/c9/0/203261/DBL046_PP_osaul/DBL046_PP_osaul/tmp/data/PPint_DB/ESM_C_embeddings/4TX3_A.npy\n"
     ]
    },
    {
     "name": "stderr",
     "output_type": "stream",
     "text": [
      "Embedding targets:  17%|██████████▍                                                    | 75/453 [00:19<02:11,  2.87it/s]"
     ]
    },
    {
     "name": "stdout",
     "output_type": "stream",
     "text": [
      "Protein 4TX3 embedded and saved to /zhome/c9/0/203261/DBL046_PP_osaul/DBL046_PP_osaul/tmp/data/PPint_DB/ESM_C_embeddings/4TX3_B.npy\n",
      "Protein 6DXP embedded and saved to /zhome/c9/0/203261/DBL046_PP_osaul/DBL046_PP_osaul/tmp/data/PPint_DB/ESM_C_embeddings/6DXP_A.npy\n"
     ]
    },
    {
     "name": "stderr",
     "output_type": "stream",
     "text": [
      "Embedding targets:  17%|██████████▌                                                    | 76/453 [00:19<02:08,  2.94it/s]"
     ]
    },
    {
     "name": "stdout",
     "output_type": "stream",
     "text": [
      "Protein 6DXP embedded and saved to /zhome/c9/0/203261/DBL046_PP_osaul/DBL046_PP_osaul/tmp/data/PPint_DB/ESM_C_embeddings/6DXP_B.npy\n",
      "Protein 1MW5 embedded and saved to /zhome/c9/0/203261/DBL046_PP_osaul/DBL046_PP_osaul/tmp/data/PPint_DB/ESM_C_embeddings/1MW5_A.npy\n"
     ]
    },
    {
     "name": "stderr",
     "output_type": "stream",
     "text": [
      "Embedding targets:  17%|██████████▋                                                    | 77/453 [00:20<01:59,  3.14it/s]"
     ]
    },
    {
     "name": "stdout",
     "output_type": "stream",
     "text": [
      "Protein 1MW5 embedded and saved to /zhome/c9/0/203261/DBL046_PP_osaul/DBL046_PP_osaul/tmp/data/PPint_DB/ESM_C_embeddings/1MW5_B.npy\n",
      "Protein 9B9F embedded and saved to /zhome/c9/0/203261/DBL046_PP_osaul/DBL046_PP_osaul/tmp/data/PPint_DB/ESM_C_embeddings/9B9F_A.npy\n"
     ]
    },
    {
     "name": "stderr",
     "output_type": "stream",
     "text": [
      "Embedding targets:  17%|██████████▉                                                    | 79/453 [00:20<01:45,  3.56it/s]"
     ]
    },
    {
     "name": "stdout",
     "output_type": "stream",
     "text": [
      "Protein 9B9F embedded and saved to /zhome/c9/0/203261/DBL046_PP_osaul/DBL046_PP_osaul/tmp/data/PPint_DB/ESM_C_embeddings/9B9F_B.npy\n",
      "Protein 2XU6 embedded and saved to /zhome/c9/0/203261/DBL046_PP_osaul/DBL046_PP_osaul/tmp/data/PPint_DB/ESM_C_embeddings/2XU6_A.npy\n",
      "Protein 2XU6 embedded and saved to /zhome/c9/0/203261/DBL046_PP_osaul/DBL046_PP_osaul/tmp/data/PPint_DB/ESM_C_embeddings/2XU6_B.npy\n"
     ]
    },
    {
     "name": "stderr",
     "output_type": "stream",
     "text": [
      "Embedding targets:  18%|███████████▏                                                   | 80/453 [00:20<01:38,  3.77it/s]"
     ]
    },
    {
     "name": "stdout",
     "output_type": "stream",
     "text": [
      "Protein 6Z3P embedded and saved to /zhome/c9/0/203261/DBL046_PP_osaul/DBL046_PP_osaul/tmp/data/PPint_DB/ESM_C_embeddings/6Z3P_A.npy\n",
      "Protein 6Z3P embedded and saved to /zhome/c9/0/203261/DBL046_PP_osaul/DBL046_PP_osaul/tmp/data/PPint_DB/ESM_C_embeddings/6Z3P_B.npy\n"
     ]
    },
    {
     "name": "stderr",
     "output_type": "stream",
     "text": [
      "Embedding targets:  18%|███████████▎                                                   | 81/453 [00:21<01:44,  3.55it/s]"
     ]
    },
    {
     "name": "stdout",
     "output_type": "stream",
     "text": [
      "Protein 8YRL embedded and saved to /zhome/c9/0/203261/DBL046_PP_osaul/DBL046_PP_osaul/tmp/data/PPint_DB/ESM_C_embeddings/8YRL_A.npy\n",
      "Protein 8YRL embedded and saved to /zhome/c9/0/203261/DBL046_PP_osaul/DBL046_PP_osaul/tmp/data/PPint_DB/ESM_C_embeddings/8YRL_B.npy\n"
     ]
    },
    {
     "name": "stderr",
     "output_type": "stream",
     "text": [
      "Embedding targets:  18%|███████████▍                                                   | 82/453 [00:21<01:42,  3.63it/s]"
     ]
    },
    {
     "name": "stdout",
     "output_type": "stream",
     "text": [
      "Protein 3FRC embedded and saved to /zhome/c9/0/203261/DBL046_PP_osaul/DBL046_PP_osaul/tmp/data/PPint_DB/ESM_C_embeddings/3FRC_A.npy\n",
      "Protein 3FRC embedded and saved to /zhome/c9/0/203261/DBL046_PP_osaul/DBL046_PP_osaul/tmp/data/PPint_DB/ESM_C_embeddings/3FRC_B.npy\n"
     ]
    },
    {
     "name": "stderr",
     "output_type": "stream",
     "text": [
      "Embedding targets:  18%|███████████▌                                                   | 83/453 [00:21<01:31,  4.03it/s]"
     ]
    },
    {
     "name": "stdout",
     "output_type": "stream",
     "text": [
      "Protein 7L8N embedded and saved to /zhome/c9/0/203261/DBL046_PP_osaul/DBL046_PP_osaul/tmp/data/PPint_DB/ESM_C_embeddings/7L8N_A.npy\n",
      "Protein 7L8N embedded and saved to /zhome/c9/0/203261/DBL046_PP_osaul/DBL046_PP_osaul/tmp/data/PPint_DB/ESM_C_embeddings/7L8N_B.npy\n",
      "Protein 7S5N embedded and saved to /zhome/c9/0/203261/DBL046_PP_osaul/DBL046_PP_osaul/tmp/data/PPint_DB/ESM_C_embeddings/7S5N_A.npy\n"
     ]
    },
    {
     "name": "stderr",
     "output_type": "stream",
     "text": [
      "Embedding targets:  19%|███████████▊                                                   | 85/453 [00:21<01:21,  4.54it/s]"
     ]
    },
    {
     "name": "stdout",
     "output_type": "stream",
     "text": [
      "Protein 7S5N embedded and saved to /zhome/c9/0/203261/DBL046_PP_osaul/DBL046_PP_osaul/tmp/data/PPint_DB/ESM_C_embeddings/7S5N_B.npy\n",
      "Protein 6BC1 embedded and saved to /zhome/c9/0/203261/DBL046_PP_osaul/DBL046_PP_osaul/tmp/data/PPint_DB/ESM_C_embeddings/6BC1_A.npy\n",
      "Protein 6BC1 embedded and saved to /zhome/c9/0/203261/DBL046_PP_osaul/DBL046_PP_osaul/tmp/data/PPint_DB/ESM_C_embeddings/6BC1_B.npy\n"
     ]
    },
    {
     "name": "stderr",
     "output_type": "stream",
     "text": [
      "Embedding targets:  19%|███████████▉                                                   | 86/453 [00:22<01:17,  4.71it/s]"
     ]
    },
    {
     "name": "stdout",
     "output_type": "stream",
     "text": [
      "Protein 1V1B embedded and saved to /zhome/c9/0/203261/DBL046_PP_osaul/DBL046_PP_osaul/tmp/data/PPint_DB/ESM_C_embeddings/1V1B_A.npy\n",
      "Protein 1V1B embedded and saved to /zhome/c9/0/203261/DBL046_PP_osaul/DBL046_PP_osaul/tmp/data/PPint_DB/ESM_C_embeddings/1V1B_B.npy\n",
      "Protein 5F8Z embedded and saved to /zhome/c9/0/203261/DBL046_PP_osaul/DBL046_PP_osaul/tmp/data/PPint_DB/ESM_C_embeddings/5F8Z_A.npy\n"
     ]
    },
    {
     "name": "stderr",
     "output_type": "stream",
     "text": [
      "Embedding targets:  19%|████████████                                                   | 87/453 [00:22<01:11,  5.10it/s]"
     ]
    },
    {
     "name": "stdout",
     "output_type": "stream",
     "text": [
      "Protein 5F8Z embedded and saved to /zhome/c9/0/203261/DBL046_PP_osaul/DBL046_PP_osaul/tmp/data/PPint_DB/ESM_C_embeddings/5F8Z_B.npy\n",
      "Protein 2P8U embedded and saved to /zhome/c9/0/203261/DBL046_PP_osaul/DBL046_PP_osaul/tmp/data/PPint_DB/ESM_C_embeddings/2P8U_A.npy\n"
     ]
    },
    {
     "name": "stderr",
     "output_type": "stream",
     "text": [
      "Embedding targets:  19%|████████████▏                                                  | 88/453 [00:22<01:22,  4.41it/s]"
     ]
    },
    {
     "name": "stdout",
     "output_type": "stream",
     "text": [
      "Protein 2P8U embedded and saved to /zhome/c9/0/203261/DBL046_PP_osaul/DBL046_PP_osaul/tmp/data/PPint_DB/ESM_C_embeddings/2P8U_B.npy\n",
      "Protein 8J8P embedded and saved to /zhome/c9/0/203261/DBL046_PP_osaul/DBL046_PP_osaul/tmp/data/PPint_DB/ESM_C_embeddings/8J8P_A.npy\n",
      "Protein 8J8P embedded and saved to /zhome/c9/0/203261/DBL046_PP_osaul/DBL046_PP_osaul/tmp/data/PPint_DB/ESM_C_embeddings/8J8P_B.npy\n"
     ]
    },
    {
     "name": "stderr",
     "output_type": "stream",
     "text": [
      "Embedding targets:  20%|████████████▍                                                  | 89/453 [00:22<01:31,  3.96it/s]"
     ]
    },
    {
     "name": "stdout",
     "output_type": "stream",
     "text": [
      "Protein 8J8P embedded and saved to /zhome/c9/0/203261/DBL046_PP_osaul/DBL046_PP_osaul/tmp/data/PPint_DB/ESM_C_embeddings/8J8P_C.npy\n",
      "Protein 8J8P embedded and saved to /zhome/c9/0/203261/DBL046_PP_osaul/DBL046_PP_osaul/tmp/data/PPint_DB/ESM_C_embeddings/8J8P_D.npy\n",
      "Protein 3DA7 embedded and saved to /zhome/c9/0/203261/DBL046_PP_osaul/DBL046_PP_osaul/tmp/data/PPint_DB/ESM_C_embeddings/3DA7_A.npy\n"
     ]
    },
    {
     "name": "stderr",
     "output_type": "stream",
     "text": [
      "Embedding targets:  20%|████████████▌                                                  | 90/453 [00:23<01:22,  4.41it/s]"
     ]
    },
    {
     "name": "stdout",
     "output_type": "stream",
     "text": [
      "Protein 3DA7 embedded and saved to /zhome/c9/0/203261/DBL046_PP_osaul/DBL046_PP_osaul/tmp/data/PPint_DB/ESM_C_embeddings/3DA7_B.npy\n",
      "Protein 2RHC embedded and saved to /zhome/c9/0/203261/DBL046_PP_osaul/DBL046_PP_osaul/tmp/data/PPint_DB/ESM_C_embeddings/2RHC_A.npy\n"
     ]
    },
    {
     "name": "stderr",
     "output_type": "stream",
     "text": [
      "Embedding targets:  20%|████████████▋                                                  | 91/453 [00:23<01:40,  3.62it/s]"
     ]
    },
    {
     "name": "stdout",
     "output_type": "stream",
     "text": [
      "Protein 2RHC embedded and saved to /zhome/c9/0/203261/DBL046_PP_osaul/DBL046_PP_osaul/tmp/data/PPint_DB/ESM_C_embeddings/2RHC_B.npy\n",
      "Protein 2FLD embedded and saved to /zhome/c9/0/203261/DBL046_PP_osaul/DBL046_PP_osaul/tmp/data/PPint_DB/ESM_C_embeddings/2FLD_A.npy\n"
     ]
    },
    {
     "name": "stderr",
     "output_type": "stream",
     "text": [
      "Embedding targets:  20%|████████████▊                                                  | 92/453 [00:23<01:47,  3.36it/s]"
     ]
    },
    {
     "name": "stdout",
     "output_type": "stream",
     "text": [
      "Protein 2FLD embedded and saved to /zhome/c9/0/203261/DBL046_PP_osaul/DBL046_PP_osaul/tmp/data/PPint_DB/ESM_C_embeddings/2FLD_B.npy\n",
      "Protein 3R7L embedded and saved to /zhome/c9/0/203261/DBL046_PP_osaul/DBL046_PP_osaul/tmp/data/PPint_DB/ESM_C_embeddings/3R7L_A.npy\n"
     ]
    },
    {
     "name": "stderr",
     "output_type": "stream",
     "text": [
      "Embedding targets:  21%|████████████▉                                                  | 93/453 [00:24<01:51,  3.24it/s]"
     ]
    },
    {
     "name": "stdout",
     "output_type": "stream",
     "text": [
      "Protein 3R7L embedded and saved to /zhome/c9/0/203261/DBL046_PP_osaul/DBL046_PP_osaul/tmp/data/PPint_DB/ESM_C_embeddings/3R7L_B.npy\n",
      "Protein 2YAD embedded and saved to /zhome/c9/0/203261/DBL046_PP_osaul/DBL046_PP_osaul/tmp/data/PPint_DB/ESM_C_embeddings/2YAD_A.npy\n"
     ]
    },
    {
     "name": "stderr",
     "output_type": "stream",
     "text": [
      "Embedding targets:  21%|█████████████▏                                                 | 95/453 [00:24<01:32,  3.86it/s]"
     ]
    },
    {
     "name": "stdout",
     "output_type": "stream",
     "text": [
      "Protein 2YAD embedded and saved to /zhome/c9/0/203261/DBL046_PP_osaul/DBL046_PP_osaul/tmp/data/PPint_DB/ESM_C_embeddings/2YAD_B.npy\n",
      "Protein 8CAA embedded and saved to /zhome/c9/0/203261/DBL046_PP_osaul/DBL046_PP_osaul/tmp/data/PPint_DB/ESM_C_embeddings/8CAA_A.npy\n",
      "Protein 8CAA embedded and saved to /zhome/c9/0/203261/DBL046_PP_osaul/DBL046_PP_osaul/tmp/data/PPint_DB/ESM_C_embeddings/8CAA_B.npy\n"
     ]
    },
    {
     "name": "stderr",
     "output_type": "stream",
     "text": [
      "Embedding targets:  21%|█████████████▎                                                 | 96/453 [00:24<01:23,  4.26it/s]"
     ]
    },
    {
     "name": "stdout",
     "output_type": "stream",
     "text": [
      "Protein 1XVP embedded and saved to /zhome/c9/0/203261/DBL046_PP_osaul/DBL046_PP_osaul/tmp/data/PPint_DB/ESM_C_embeddings/1XVP_A.npy\n",
      "Protein 1XVP embedded and saved to /zhome/c9/0/203261/DBL046_PP_osaul/DBL046_PP_osaul/tmp/data/PPint_DB/ESM_C_embeddings/1XVP_B.npy\n",
      "Protein 1B5E embedded and saved to /zhome/c9/0/203261/DBL046_PP_osaul/DBL046_PP_osaul/tmp/data/PPint_DB/ESM_C_embeddings/1B5E_A.npy\n"
     ]
    },
    {
     "name": "stderr",
     "output_type": "stream",
     "text": [
      "Embedding targets:  22%|█████████████▋                                                 | 98/453 [00:25<01:15,  4.68it/s]"
     ]
    },
    {
     "name": "stdout",
     "output_type": "stream",
     "text": [
      "Protein 1B5E embedded and saved to /zhome/c9/0/203261/DBL046_PP_osaul/DBL046_PP_osaul/tmp/data/PPint_DB/ESM_C_embeddings/1B5E_B.npy\n",
      "Protein 3PGZ embedded and saved to /zhome/c9/0/203261/DBL046_PP_osaul/DBL046_PP_osaul/tmp/data/PPint_DB/ESM_C_embeddings/3PGZ_A.npy\n",
      "Protein 3PGZ embedded and saved to /zhome/c9/0/203261/DBL046_PP_osaul/DBL046_PP_osaul/tmp/data/PPint_DB/ESM_C_embeddings/3PGZ_B.npy\n"
     ]
    },
    {
     "name": "stderr",
     "output_type": "stream",
     "text": [
      "Embedding targets:  22%|█████████████▊                                                 | 99/453 [00:25<01:13,  4.84it/s]"
     ]
    },
    {
     "name": "stdout",
     "output_type": "stream",
     "text": [
      "Protein 5FHB embedded and saved to /zhome/c9/0/203261/DBL046_PP_osaul/DBL046_PP_osaul/tmp/data/PPint_DB/ESM_C_embeddings/5FHB_A.npy\n",
      "Protein 5FHB embedded and saved to /zhome/c9/0/203261/DBL046_PP_osaul/DBL046_PP_osaul/tmp/data/PPint_DB/ESM_C_embeddings/5FHB_B.npy\n"
     ]
    },
    {
     "name": "stderr",
     "output_type": "stream",
     "text": [
      "Embedding targets:  22%|█████████████▋                                                | 100/453 [00:25<01:17,  4.58it/s]"
     ]
    },
    {
     "name": "stdout",
     "output_type": "stream",
     "text": [
      "Protein 1G82 embedded and saved to /zhome/c9/0/203261/DBL046_PP_osaul/DBL046_PP_osaul/tmp/data/PPint_DB/ESM_C_embeddings/1G82_A.npy\n",
      "Protein 1G82 embedded and saved to /zhome/c9/0/203261/DBL046_PP_osaul/DBL046_PP_osaul/tmp/data/PPint_DB/ESM_C_embeddings/1G82_B.npy\n",
      "Protein 2CCY embedded and saved to /zhome/c9/0/203261/DBL046_PP_osaul/DBL046_PP_osaul/tmp/data/PPint_DB/ESM_C_embeddings/2CCY_A.npy\n"
     ]
    },
    {
     "name": "stderr",
     "output_type": "stream",
     "text": [
      "Embedding targets:  22%|█████████████▊                                                | 101/453 [00:25<01:17,  4.54it/s]"
     ]
    },
    {
     "name": "stdout",
     "output_type": "stream",
     "text": [
      "Protein 2CCY embedded and saved to /zhome/c9/0/203261/DBL046_PP_osaul/DBL046_PP_osaul/tmp/data/PPint_DB/ESM_C_embeddings/2CCY_B.npy\n",
      "Protein 7EC5 embedded and saved to /zhome/c9/0/203261/DBL046_PP_osaul/DBL046_PP_osaul/tmp/data/PPint_DB/ESM_C_embeddings/7EC5_A.npy\n",
      "Protein 7EC5 embedded and saved to /zhome/c9/0/203261/DBL046_PP_osaul/DBL046_PP_osaul/tmp/data/PPint_DB/ESM_C_embeddings/7EC5_B.npy\n"
     ]
    },
    {
     "name": "stderr",
     "output_type": "stream",
     "text": [
      "Embedding targets:  23%|█████████████▉                                                | 102/453 [00:26<01:36,  3.64it/s]"
     ]
    },
    {
     "name": "stdout",
     "output_type": "stream",
     "text": [
      "Protein 7EC5 embedded and saved to /zhome/c9/0/203261/DBL046_PP_osaul/DBL046_PP_osaul/tmp/data/PPint_DB/ESM_C_embeddings/7EC5_C.npy\n",
      "Protein 7EC5 embedded and saved to /zhome/c9/0/203261/DBL046_PP_osaul/DBL046_PP_osaul/tmp/data/PPint_DB/ESM_C_embeddings/7EC5_D.npy\n",
      "Protein 1NP3 embedded and saved to /zhome/c9/0/203261/DBL046_PP_osaul/DBL046_PP_osaul/tmp/data/PPint_DB/ESM_C_embeddings/1NP3_A.npy\n"
     ]
    },
    {
     "name": "stderr",
     "output_type": "stream",
     "text": [
      "Embedding targets:  23%|██████████████                                                | 103/453 [00:26<01:40,  3.48it/s]"
     ]
    },
    {
     "name": "stdout",
     "output_type": "stream",
     "text": [
      "Protein 1NP3 embedded and saved to /zhome/c9/0/203261/DBL046_PP_osaul/DBL046_PP_osaul/tmp/data/PPint_DB/ESM_C_embeddings/1NP3_B.npy\n",
      "Protein 6TTB embedded and saved to /zhome/c9/0/203261/DBL046_PP_osaul/DBL046_PP_osaul/tmp/data/PPint_DB/ESM_C_embeddings/6TTB_A.npy\n"
     ]
    },
    {
     "name": "stderr",
     "output_type": "stream",
     "text": [
      "Embedding targets:  23%|██████████████▎                                               | 105/453 [00:26<01:24,  4.09it/s]"
     ]
    },
    {
     "name": "stdout",
     "output_type": "stream",
     "text": [
      "Protein 6TTB embedded and saved to /zhome/c9/0/203261/DBL046_PP_osaul/DBL046_PP_osaul/tmp/data/PPint_DB/ESM_C_embeddings/6TTB_B.npy\n",
      "Protein 7T87 embedded and saved to /zhome/c9/0/203261/DBL046_PP_osaul/DBL046_PP_osaul/tmp/data/PPint_DB/ESM_C_embeddings/7T87_A.npy\n",
      "Protein 7T87 embedded and saved to /zhome/c9/0/203261/DBL046_PP_osaul/DBL046_PP_osaul/tmp/data/PPint_DB/ESM_C_embeddings/7T87_B.npy\n"
     ]
    },
    {
     "name": "stderr",
     "output_type": "stream",
     "text": [
      "Embedding targets:  23%|██████████████▌                                               | 106/453 [00:27<01:19,  4.38it/s]"
     ]
    },
    {
     "name": "stdout",
     "output_type": "stream",
     "text": [
      "Protein 2CA3 embedded and saved to /zhome/c9/0/203261/DBL046_PP_osaul/DBL046_PP_osaul/tmp/data/PPint_DB/ESM_C_embeddings/2CA3_A.npy\n",
      "Protein 2CA3 embedded and saved to /zhome/c9/0/203261/DBL046_PP_osaul/DBL046_PP_osaul/tmp/data/PPint_DB/ESM_C_embeddings/2CA3_B.npy\n",
      "Protein 6XRV embedded and saved to /zhome/c9/0/203261/DBL046_PP_osaul/DBL046_PP_osaul/tmp/data/PPint_DB/ESM_C_embeddings/6XRV_A.npy\n"
     ]
    },
    {
     "name": "stderr",
     "output_type": "stream",
     "text": [
      "Embedding targets:  24%|██████████████▋                                               | 107/453 [00:27<01:15,  4.59it/s]"
     ]
    },
    {
     "name": "stdout",
     "output_type": "stream",
     "text": [
      "Protein 6XRV embedded and saved to /zhome/c9/0/203261/DBL046_PP_osaul/DBL046_PP_osaul/tmp/data/PPint_DB/ESM_C_embeddings/6XRV_B.npy\n",
      "Protein 6WBT embedded and saved to /zhome/c9/0/203261/DBL046_PP_osaul/DBL046_PP_osaul/tmp/data/PPint_DB/ESM_C_embeddings/6WBT_A.npy\n"
     ]
    },
    {
     "name": "stderr",
     "output_type": "stream",
     "text": [
      "Embedding targets:  24%|██████████████▉                                               | 109/453 [00:27<01:12,  4.72it/s]"
     ]
    },
    {
     "name": "stdout",
     "output_type": "stream",
     "text": [
      "Protein 6WBT embedded and saved to /zhome/c9/0/203261/DBL046_PP_osaul/DBL046_PP_osaul/tmp/data/PPint_DB/ESM_C_embeddings/6WBT_B.npy\n",
      "Protein 1O63 embedded and saved to /zhome/c9/0/203261/DBL046_PP_osaul/DBL046_PP_osaul/tmp/data/PPint_DB/ESM_C_embeddings/1O63_A.npy\n",
      "Protein 1O63 embedded and saved to /zhome/c9/0/203261/DBL046_PP_osaul/DBL046_PP_osaul/tmp/data/PPint_DB/ESM_C_embeddings/1O63_B.npy\n"
     ]
    },
    {
     "name": "stderr",
     "output_type": "stream",
     "text": [
      "Embedding targets:  24%|███████████████                                               | 110/453 [00:28<01:22,  4.18it/s]"
     ]
    },
    {
     "name": "stdout",
     "output_type": "stream",
     "text": [
      "Protein 1YQX embedded and saved to /zhome/c9/0/203261/DBL046_PP_osaul/DBL046_PP_osaul/tmp/data/PPint_DB/ESM_C_embeddings/1YQX_A.npy\n",
      "Protein 1YQX embedded and saved to /zhome/c9/0/203261/DBL046_PP_osaul/DBL046_PP_osaul/tmp/data/PPint_DB/ESM_C_embeddings/1YQX_B.npy\n",
      "Protein 2ZU8 embedded and saved to /zhome/c9/0/203261/DBL046_PP_osaul/DBL046_PP_osaul/tmp/data/PPint_DB/ESM_C_embeddings/2ZU8_A.npy\n"
     ]
    },
    {
     "name": "stderr",
     "output_type": "stream",
     "text": [
      "Embedding targets:  25%|███████████████▏                                              | 111/453 [00:28<01:29,  3.82it/s]"
     ]
    },
    {
     "name": "stdout",
     "output_type": "stream",
     "text": [
      "Protein 2ZU8 embedded and saved to /zhome/c9/0/203261/DBL046_PP_osaul/DBL046_PP_osaul/tmp/data/PPint_DB/ESM_C_embeddings/2ZU8_B.npy\n",
      "Protein 7CXT embedded and saved to /zhome/c9/0/203261/DBL046_PP_osaul/DBL046_PP_osaul/tmp/data/PPint_DB/ESM_C_embeddings/7CXT_A.npy\n"
     ]
    },
    {
     "name": "stderr",
     "output_type": "stream",
     "text": [
      "Embedding targets:  25%|███████████████▍                                              | 113/453 [00:28<01:20,  4.21it/s]"
     ]
    },
    {
     "name": "stdout",
     "output_type": "stream",
     "text": [
      "Protein 7CXT embedded and saved to /zhome/c9/0/203261/DBL046_PP_osaul/DBL046_PP_osaul/tmp/data/PPint_DB/ESM_C_embeddings/7CXT_B.npy\n",
      "Protein 5LU7 embedded and saved to /zhome/c9/0/203261/DBL046_PP_osaul/DBL046_PP_osaul/tmp/data/PPint_DB/ESM_C_embeddings/5LU7_A.npy\n",
      "Protein 5LU7 embedded and saved to /zhome/c9/0/203261/DBL046_PP_osaul/DBL046_PP_osaul/tmp/data/PPint_DB/ESM_C_embeddings/5LU7_B.npy\n"
     ]
    },
    {
     "name": "stderr",
     "output_type": "stream",
     "text": [
      "Embedding targets:  25%|███████████████▌                                              | 114/453 [00:28<01:15,  4.50it/s]"
     ]
    },
    {
     "name": "stdout",
     "output_type": "stream",
     "text": [
      "Protein 8XDT embedded and saved to /zhome/c9/0/203261/DBL046_PP_osaul/DBL046_PP_osaul/tmp/data/PPint_DB/ESM_C_embeddings/8XDT_A.npy\n",
      "Protein 8XDT embedded and saved to /zhome/c9/0/203261/DBL046_PP_osaul/DBL046_PP_osaul/tmp/data/PPint_DB/ESM_C_embeddings/8XDT_B.npy\n",
      "Protein 2BDQ embedded and saved to /zhome/c9/0/203261/DBL046_PP_osaul/DBL046_PP_osaul/tmp/data/PPint_DB/ESM_C_embeddings/2BDQ_A.npy\n"
     ]
    },
    {
     "name": "stderr",
     "output_type": "stream",
     "text": [
      "Embedding targets:  25%|███████████████▋                                              | 115/453 [00:29<01:10,  4.79it/s]"
     ]
    },
    {
     "name": "stdout",
     "output_type": "stream",
     "text": [
      "Protein 2BDQ embedded and saved to /zhome/c9/0/203261/DBL046_PP_osaul/DBL046_PP_osaul/tmp/data/PPint_DB/ESM_C_embeddings/2BDQ_B.npy\n",
      "Protein 2VQF embedded and saved to /zhome/c9/0/203261/DBL046_PP_osaul/DBL046_PP_osaul/tmp/data/PPint_DB/ESM_C_embeddings/2VQF_A.npy\n",
      "Protein 2VQF embedded and saved to /zhome/c9/0/203261/DBL046_PP_osaul/DBL046_PP_osaul/tmp/data/PPint_DB/ESM_C_embeddings/2VQF_B.npy\n",
      "Protein 2VQF embedded and saved to /zhome/c9/0/203261/DBL046_PP_osaul/DBL046_PP_osaul/tmp/data/PPint_DB/ESM_C_embeddings/2VQF_C.npy\n",
      "Protein 2VQF embedded and saved to /zhome/c9/0/203261/DBL046_PP_osaul/DBL046_PP_osaul/tmp/data/PPint_DB/ESM_C_embeddings/2VQF_D.npy\n",
      "Protein 2VQF embedded and saved to /zhome/c9/0/203261/DBL046_PP_osaul/DBL046_PP_osaul/tmp/data/PPint_DB/ESM_C_embeddings/2VQF_E.npy\n"
     ]
    },
    {
     "name": "stderr",
     "output_type": "stream",
     "text": [
      "Embedding targets:  26%|███████████████▉                                              | 116/453 [00:29<01:33,  3.59it/s]"
     ]
    },
    {
     "name": "stdout",
     "output_type": "stream",
     "text": [
      "Protein 2VQF embedded and saved to /zhome/c9/0/203261/DBL046_PP_osaul/DBL046_PP_osaul/tmp/data/PPint_DB/ESM_C_embeddings/2VQF_F.npy\n",
      "Protein 7WMC embedded and saved to /zhome/c9/0/203261/DBL046_PP_osaul/DBL046_PP_osaul/tmp/data/PPint_DB/ESM_C_embeddings/7WMC_A.npy\n"
     ]
    },
    {
     "name": "stderr",
     "output_type": "stream",
     "text": [
      "Embedding targets:  26%|████████████████                                              | 117/453 [00:29<01:39,  3.39it/s]"
     ]
    },
    {
     "name": "stdout",
     "output_type": "stream",
     "text": [
      "Protein 7WMC embedded and saved to /zhome/c9/0/203261/DBL046_PP_osaul/DBL046_PP_osaul/tmp/data/PPint_DB/ESM_C_embeddings/7WMC_B.npy\n",
      "Protein 3KBO embedded and saved to /zhome/c9/0/203261/DBL046_PP_osaul/DBL046_PP_osaul/tmp/data/PPint_DB/ESM_C_embeddings/3KBO_A.npy\n"
     ]
    },
    {
     "name": "stderr",
     "output_type": "stream",
     "text": [
      "Embedding targets:  26%|████████████████▎                                             | 119/453 [00:30<01:24,  3.95it/s]"
     ]
    },
    {
     "name": "stdout",
     "output_type": "stream",
     "text": [
      "Protein 3KBO embedded and saved to /zhome/c9/0/203261/DBL046_PP_osaul/DBL046_PP_osaul/tmp/data/PPint_DB/ESM_C_embeddings/3KBO_B.npy\n",
      "Protein 2ODM embedded and saved to /zhome/c9/0/203261/DBL046_PP_osaul/DBL046_PP_osaul/tmp/data/PPint_DB/ESM_C_embeddings/2ODM_A.npy\n",
      "Protein 2ODM embedded and saved to /zhome/c9/0/203261/DBL046_PP_osaul/DBL046_PP_osaul/tmp/data/PPint_DB/ESM_C_embeddings/2ODM_B.npy\n"
     ]
    },
    {
     "name": "stderr",
     "output_type": "stream",
     "text": [
      "Embedding targets:  26%|████████████████▍                                             | 120/453 [00:30<01:15,  4.39it/s]"
     ]
    },
    {
     "name": "stdout",
     "output_type": "stream",
     "text": [
      "Protein 8UDH embedded and saved to /zhome/c9/0/203261/DBL046_PP_osaul/DBL046_PP_osaul/tmp/data/PPint_DB/ESM_C_embeddings/8UDH_A.npy\n",
      "Protein 8UDH embedded and saved to /zhome/c9/0/203261/DBL046_PP_osaul/DBL046_PP_osaul/tmp/data/PPint_DB/ESM_C_embeddings/8UDH_B.npy\n",
      "Protein 6LFA embedded and saved to /zhome/c9/0/203261/DBL046_PP_osaul/DBL046_PP_osaul/tmp/data/PPint_DB/ESM_C_embeddings/6LFA_A.npy\n"
     ]
    },
    {
     "name": "stderr",
     "output_type": "stream",
     "text": [
      "Embedding targets:  27%|████████████████▌                                             | 121/453 [00:30<01:05,  5.09it/s]"
     ]
    },
    {
     "name": "stdout",
     "output_type": "stream",
     "text": [
      "Protein 6LFA embedded and saved to /zhome/c9/0/203261/DBL046_PP_osaul/DBL046_PP_osaul/tmp/data/PPint_DB/ESM_C_embeddings/6LFA_B.npy\n",
      "Protein 2A2O embedded and saved to /zhome/c9/0/203261/DBL046_PP_osaul/DBL046_PP_osaul/tmp/data/PPint_DB/ESM_C_embeddings/2A2O_A.npy\n"
     ]
    },
    {
     "name": "stderr",
     "output_type": "stream",
     "text": [
      "Embedding targets:  27%|████████████████▋                                             | 122/453 [00:30<01:11,  4.60it/s]"
     ]
    },
    {
     "name": "stdout",
     "output_type": "stream",
     "text": [
      "Protein 2A2O embedded and saved to /zhome/c9/0/203261/DBL046_PP_osaul/DBL046_PP_osaul/tmp/data/PPint_DB/ESM_C_embeddings/2A2O_B.npy\n",
      "Protein 6X04 embedded and saved to /zhome/c9/0/203261/DBL046_PP_osaul/DBL046_PP_osaul/tmp/data/PPint_DB/ESM_C_embeddings/6X04_A.npy\n",
      "Protein 6X04 embedded and saved to /zhome/c9/0/203261/DBL046_PP_osaul/DBL046_PP_osaul/tmp/data/PPint_DB/ESM_C_embeddings/6X04_B.npy\n"
     ]
    },
    {
     "name": "stderr",
     "output_type": "stream",
     "text": [
      "Embedding targets:  27%|████████████████▊                                             | 123/453 [00:31<01:23,  3.95it/s]"
     ]
    },
    {
     "name": "stdout",
     "output_type": "stream",
     "text": [
      "Protein 6X04 embedded and saved to /zhome/c9/0/203261/DBL046_PP_osaul/DBL046_PP_osaul/tmp/data/PPint_DB/ESM_C_embeddings/6X04_C.npy\n",
      "Protein 6X04 embedded and saved to /zhome/c9/0/203261/DBL046_PP_osaul/DBL046_PP_osaul/tmp/data/PPint_DB/ESM_C_embeddings/6X04_D.npy\n",
      "Protein 4FFU embedded and saved to /zhome/c9/0/203261/DBL046_PP_osaul/DBL046_PP_osaul/tmp/data/PPint_DB/ESM_C_embeddings/4FFU_A.npy\n"
     ]
    },
    {
     "name": "stderr",
     "output_type": "stream",
     "text": [
      "Embedding targets:  28%|█████████████████                                             | 125/453 [00:31<01:07,  4.87it/s]"
     ]
    },
    {
     "name": "stdout",
     "output_type": "stream",
     "text": [
      "Protein 4FFU embedded and saved to /zhome/c9/0/203261/DBL046_PP_osaul/DBL046_PP_osaul/tmp/data/PPint_DB/ESM_C_embeddings/4FFU_B.npy\n",
      "Protein 5GNJ embedded and saved to /zhome/c9/0/203261/DBL046_PP_osaul/DBL046_PP_osaul/tmp/data/PPint_DB/ESM_C_embeddings/5GNJ_A.npy\n",
      "Protein 5GNJ embedded and saved to /zhome/c9/0/203261/DBL046_PP_osaul/DBL046_PP_osaul/tmp/data/PPint_DB/ESM_C_embeddings/5GNJ_B.npy\n"
     ]
    },
    {
     "name": "stderr",
     "output_type": "stream",
     "text": [
      "Embedding targets:  28%|█████████████████▏                                            | 126/453 [00:31<01:13,  4.44it/s]"
     ]
    },
    {
     "name": "stdout",
     "output_type": "stream",
     "text": [
      "Protein 3I3Y embedded and saved to /zhome/c9/0/203261/DBL046_PP_osaul/DBL046_PP_osaul/tmp/data/PPint_DB/ESM_C_embeddings/3I3Y_A.npy\n",
      "Protein 3I3Y embedded and saved to /zhome/c9/0/203261/DBL046_PP_osaul/DBL046_PP_osaul/tmp/data/PPint_DB/ESM_C_embeddings/3I3Y_B.npy\n"
     ]
    },
    {
     "name": "stderr",
     "output_type": "stream",
     "text": [
      "Embedding targets:  28%|█████████████████▍                                            | 127/453 [00:32<01:08,  4.75it/s]"
     ]
    },
    {
     "name": "stdout",
     "output_type": "stream",
     "text": [
      "Protein 1HJR embedded and saved to /zhome/c9/0/203261/DBL046_PP_osaul/DBL046_PP_osaul/tmp/data/PPint_DB/ESM_C_embeddings/1HJR_A.npy\n",
      "Protein 1HJR embedded and saved to /zhome/c9/0/203261/DBL046_PP_osaul/DBL046_PP_osaul/tmp/data/PPint_DB/ESM_C_embeddings/1HJR_B.npy\n",
      "Protein 1DLF embedded and saved to /zhome/c9/0/203261/DBL046_PP_osaul/DBL046_PP_osaul/tmp/data/PPint_DB/ESM_C_embeddings/1DLF_A.npy\n"
     ]
    },
    {
     "name": "stderr",
     "output_type": "stream",
     "text": [
      "Embedding targets:  28%|█████████████████▌                                            | 128/453 [00:32<01:04,  5.06it/s]"
     ]
    },
    {
     "name": "stdout",
     "output_type": "stream",
     "text": [
      "Protein 1DLF embedded and saved to /zhome/c9/0/203261/DBL046_PP_osaul/DBL046_PP_osaul/tmp/data/PPint_DB/ESM_C_embeddings/1DLF_B.npy\n",
      "Protein 2QNE embedded and saved to /zhome/c9/0/203261/DBL046_PP_osaul/DBL046_PP_osaul/tmp/data/PPint_DB/ESM_C_embeddings/2QNE_A.npy\n"
     ]
    },
    {
     "name": "stderr",
     "output_type": "stream",
     "text": [
      "Embedding targets:  29%|█████████████████▊                                            | 130/453 [00:32<01:05,  4.89it/s]"
     ]
    },
    {
     "name": "stdout",
     "output_type": "stream",
     "text": [
      "Protein 2QNE embedded and saved to /zhome/c9/0/203261/DBL046_PP_osaul/DBL046_PP_osaul/tmp/data/PPint_DB/ESM_C_embeddings/2QNE_B.npy\n",
      "Protein 6O35 embedded and saved to /zhome/c9/0/203261/DBL046_PP_osaul/DBL046_PP_osaul/tmp/data/PPint_DB/ESM_C_embeddings/6O35_A.npy\n",
      "Protein 6O35 embedded and saved to /zhome/c9/0/203261/DBL046_PP_osaul/DBL046_PP_osaul/tmp/data/PPint_DB/ESM_C_embeddings/6O35_B.npy\n"
     ]
    },
    {
     "name": "stderr",
     "output_type": "stream",
     "text": [
      "Embedding targets:  29%|█████████████████▉                                            | 131/453 [00:32<01:04,  4.96it/s]"
     ]
    },
    {
     "name": "stdout",
     "output_type": "stream",
     "text": [
      "Protein 2ZVR embedded and saved to /zhome/c9/0/203261/DBL046_PP_osaul/DBL046_PP_osaul/tmp/data/PPint_DB/ESM_C_embeddings/2ZVR_A.npy\n",
      "Protein 2ZVR embedded and saved to /zhome/c9/0/203261/DBL046_PP_osaul/DBL046_PP_osaul/tmp/data/PPint_DB/ESM_C_embeddings/2ZVR_B.npy\n"
     ]
    },
    {
     "name": "stderr",
     "output_type": "stream",
     "text": [
      "Embedding targets:  29%|██████████████████                                            | 132/453 [00:33<01:06,  4.83it/s]"
     ]
    },
    {
     "name": "stdout",
     "output_type": "stream",
     "text": [
      "Protein 3TNO embedded and saved to /zhome/c9/0/203261/DBL046_PP_osaul/DBL046_PP_osaul/tmp/data/PPint_DB/ESM_C_embeddings/3TNO_A.npy\n",
      "Protein 3TNO embedded and saved to /zhome/c9/0/203261/DBL046_PP_osaul/DBL046_PP_osaul/tmp/data/PPint_DB/ESM_C_embeddings/3TNO_B.npy\n",
      "Protein 7RA4 embedded and saved to /zhome/c9/0/203261/DBL046_PP_osaul/DBL046_PP_osaul/tmp/data/PPint_DB/ESM_C_embeddings/7RA4_A.npy\n"
     ]
    },
    {
     "name": "stderr",
     "output_type": "stream",
     "text": [
      "Embedding targets:  30%|██████████████████▎                                           | 134/453 [00:33<00:58,  5.47it/s]"
     ]
    },
    {
     "name": "stdout",
     "output_type": "stream",
     "text": [
      "Protein 7RA4 embedded and saved to /zhome/c9/0/203261/DBL046_PP_osaul/DBL046_PP_osaul/tmp/data/PPint_DB/ESM_C_embeddings/7RA4_B.npy\n",
      "Protein 6OPW embedded and saved to /zhome/c9/0/203261/DBL046_PP_osaul/DBL046_PP_osaul/tmp/data/PPint_DB/ESM_C_embeddings/6OPW_A.npy\n",
      "Protein 6OPW embedded and saved to /zhome/c9/0/203261/DBL046_PP_osaul/DBL046_PP_osaul/tmp/data/PPint_DB/ESM_C_embeddings/6OPW_B.npy\n"
     ]
    },
    {
     "name": "stderr",
     "output_type": "stream",
     "text": [
      "Embedding targets:  30%|██████████████████▍                                           | 135/453 [00:33<00:55,  5.77it/s]"
     ]
    },
    {
     "name": "stdout",
     "output_type": "stream",
     "text": [
      "Protein 2Z7Z embedded and saved to /zhome/c9/0/203261/DBL046_PP_osaul/DBL046_PP_osaul/tmp/data/PPint_DB/ESM_C_embeddings/2Z7Z_A.npy\n",
      "Protein 2Z7Z embedded and saved to /zhome/c9/0/203261/DBL046_PP_osaul/DBL046_PP_osaul/tmp/data/PPint_DB/ESM_C_embeddings/2Z7Z_B.npy\n",
      "Protein 4TWG embedded and saved to /zhome/c9/0/203261/DBL046_PP_osaul/DBL046_PP_osaul/tmp/data/PPint_DB/ESM_C_embeddings/4TWG_A.npy\n"
     ]
    },
    {
     "name": "stderr",
     "output_type": "stream",
     "text": [
      "Embedding targets:  30%|██████████████████▌                                           | 136/453 [00:33<00:52,  6.03it/s]"
     ]
    },
    {
     "name": "stdout",
     "output_type": "stream",
     "text": [
      "Protein 4TWG embedded and saved to /zhome/c9/0/203261/DBL046_PP_osaul/DBL046_PP_osaul/tmp/data/PPint_DB/ESM_C_embeddings/4TWG_B.npy\n",
      "Protein 6HSZ embedded and saved to /zhome/c9/0/203261/DBL046_PP_osaul/DBL046_PP_osaul/tmp/data/PPint_DB/ESM_C_embeddings/6HSZ_A.npy\n"
     ]
    },
    {
     "name": "stderr",
     "output_type": "stream",
     "text": [
      "Embedding targets:  30%|██████████████████▊                                           | 137/453 [00:33<01:00,  5.23it/s]"
     ]
    },
    {
     "name": "stdout",
     "output_type": "stream",
     "text": [
      "Protein 6HSZ embedded and saved to /zhome/c9/0/203261/DBL046_PP_osaul/DBL046_PP_osaul/tmp/data/PPint_DB/ESM_C_embeddings/6HSZ_B.npy\n",
      "Protein 9B62 embedded and saved to /zhome/c9/0/203261/DBL046_PP_osaul/DBL046_PP_osaul/tmp/data/PPint_DB/ESM_C_embeddings/9B62_A.npy\n",
      "Protein 9B62 embedded and saved to /zhome/c9/0/203261/DBL046_PP_osaul/DBL046_PP_osaul/tmp/data/PPint_DB/ESM_C_embeddings/9B62_B.npy\n",
      "Protein 9B62 embedded and saved to /zhome/c9/0/203261/DBL046_PP_osaul/DBL046_PP_osaul/tmp/data/PPint_DB/ESM_C_embeddings/9B62_C.npy\n"
     ]
    },
    {
     "name": "stderr",
     "output_type": "stream",
     "text": [
      "Embedding targets:  30%|██████████████████▉                                           | 138/453 [00:34<01:26,  3.64it/s]"
     ]
    },
    {
     "name": "stdout",
     "output_type": "stream",
     "text": [
      "Protein 9B62 embedded and saved to /zhome/c9/0/203261/DBL046_PP_osaul/DBL046_PP_osaul/tmp/data/PPint_DB/ESM_C_embeddings/9B62_D.npy\n",
      "Protein 7JMS embedded and saved to /zhome/c9/0/203261/DBL046_PP_osaul/DBL046_PP_osaul/tmp/data/PPint_DB/ESM_C_embeddings/7JMS_A.npy\n"
     ]
    },
    {
     "name": "stderr",
     "output_type": "stream",
     "text": [
      "Embedding targets:  31%|███████████████████                                           | 139/453 [00:34<01:19,  3.95it/s]"
     ]
    },
    {
     "name": "stdout",
     "output_type": "stream",
     "text": [
      "Protein 7JMS embedded and saved to /zhome/c9/0/203261/DBL046_PP_osaul/DBL046_PP_osaul/tmp/data/PPint_DB/ESM_C_embeddings/7JMS_B.npy\n",
      "Protein 3EIK embedded and saved to /zhome/c9/0/203261/DBL046_PP_osaul/DBL046_PP_osaul/tmp/data/PPint_DB/ESM_C_embeddings/3EIK_A.npy\n",
      "Protein 3EIK embedded and saved to /zhome/c9/0/203261/DBL046_PP_osaul/DBL046_PP_osaul/tmp/data/PPint_DB/ESM_C_embeddings/3EIK_B.npy\n"
     ]
    },
    {
     "name": "stderr",
     "output_type": "stream",
     "text": [
      "Embedding targets:  31%|███████████████████▎                                          | 141/453 [00:34<01:03,  4.88it/s]"
     ]
    },
    {
     "name": "stdout",
     "output_type": "stream",
     "text": [
      "Protein 6YIP embedded and saved to /zhome/c9/0/203261/DBL046_PP_osaul/DBL046_PP_osaul/tmp/data/PPint_DB/ESM_C_embeddings/6YIP_A.npy\n",
      "Protein 6YIP embedded and saved to /zhome/c9/0/203261/DBL046_PP_osaul/DBL046_PP_osaul/tmp/data/PPint_DB/ESM_C_embeddings/6YIP_B.npy\n",
      "Protein 3GXU embedded and saved to /zhome/c9/0/203261/DBL046_PP_osaul/DBL046_PP_osaul/tmp/data/PPint_DB/ESM_C_embeddings/3GXU_A.npy\n"
     ]
    },
    {
     "name": "stderr",
     "output_type": "stream",
     "text": [
      "Embedding targets:  32%|███████████████████▌                                          | 143/453 [00:35<01:01,  5.04it/s]"
     ]
    },
    {
     "name": "stdout",
     "output_type": "stream",
     "text": [
      "Protein 3GXU embedded and saved to /zhome/c9/0/203261/DBL046_PP_osaul/DBL046_PP_osaul/tmp/data/PPint_DB/ESM_C_embeddings/3GXU_B.npy\n",
      "Protein 4QXZ embedded and saved to /zhome/c9/0/203261/DBL046_PP_osaul/DBL046_PP_osaul/tmp/data/PPint_DB/ESM_C_embeddings/4QXZ_A.npy\n",
      "Protein 4QXZ embedded and saved to /zhome/c9/0/203261/DBL046_PP_osaul/DBL046_PP_osaul/tmp/data/PPint_DB/ESM_C_embeddings/4QXZ_B.npy\n"
     ]
    },
    {
     "name": "stderr",
     "output_type": "stream",
     "text": [
      "Embedding targets:  32%|███████████████████▋                                          | 144/453 [00:35<01:09,  4.47it/s]"
     ]
    },
    {
     "name": "stdout",
     "output_type": "stream",
     "text": [
      "Protein 12AS embedded and saved to /zhome/c9/0/203261/DBL046_PP_osaul/DBL046_PP_osaul/tmp/data/PPint_DB/ESM_C_embeddings/12AS_A.npy\n",
      "Protein 12AS embedded and saved to /zhome/c9/0/203261/DBL046_PP_osaul/DBL046_PP_osaul/tmp/data/PPint_DB/ESM_C_embeddings/12AS_B.npy\n"
     ]
    },
    {
     "name": "stderr",
     "output_type": "stream",
     "text": [
      "Embedding targets:  32%|███████████████████▊                                          | 145/453 [00:35<01:15,  4.05it/s]"
     ]
    },
    {
     "name": "stdout",
     "output_type": "stream",
     "text": [
      "Protein 3TSA embedded and saved to /zhome/c9/0/203261/DBL046_PP_osaul/DBL046_PP_osaul/tmp/data/PPint_DB/ESM_C_embeddings/3TSA_A.npy\n",
      "Protein 3TSA embedded and saved to /zhome/c9/0/203261/DBL046_PP_osaul/DBL046_PP_osaul/tmp/data/PPint_DB/ESM_C_embeddings/3TSA_B.npy\n"
     ]
    },
    {
     "name": "stderr",
     "output_type": "stream",
     "text": [
      "Embedding targets:  32%|███████████████████▉                                          | 146/453 [00:36<01:26,  3.54it/s]"
     ]
    },
    {
     "name": "stdout",
     "output_type": "stream",
     "text": [
      "Protein 3N0T embedded and saved to /zhome/c9/0/203261/DBL046_PP_osaul/DBL046_PP_osaul/tmp/data/PPint_DB/ESM_C_embeddings/3N0T_A.npy\n",
      "Protein 3N0T embedded and saved to /zhome/c9/0/203261/DBL046_PP_osaul/DBL046_PP_osaul/tmp/data/PPint_DB/ESM_C_embeddings/3N0T_B.npy\n",
      "Protein 2ED6 embedded and saved to /zhome/c9/0/203261/DBL046_PP_osaul/DBL046_PP_osaul/tmp/data/PPint_DB/ESM_C_embeddings/2ED6_A.npy\n"
     ]
    },
    {
     "name": "stderr",
     "output_type": "stream",
     "text": [
      "Embedding targets:  32%|████████████████████                                          | 147/453 [00:36<01:34,  3.23it/s]"
     ]
    },
    {
     "name": "stdout",
     "output_type": "stream",
     "text": [
      "Protein 2ED6 embedded and saved to /zhome/c9/0/203261/DBL046_PP_osaul/DBL046_PP_osaul/tmp/data/PPint_DB/ESM_C_embeddings/2ED6_B.npy\n",
      "Protein 1I36 embedded and saved to /zhome/c9/0/203261/DBL046_PP_osaul/DBL046_PP_osaul/tmp/data/PPint_DB/ESM_C_embeddings/1I36_A.npy\n"
     ]
    },
    {
     "name": "stderr",
     "output_type": "stream",
     "text": [
      "Embedding targets:  33%|████████████████████▍                                         | 149/453 [00:37<01:16,  3.98it/s]"
     ]
    },
    {
     "name": "stdout",
     "output_type": "stream",
     "text": [
      "Protein 1I36 embedded and saved to /zhome/c9/0/203261/DBL046_PP_osaul/DBL046_PP_osaul/tmp/data/PPint_DB/ESM_C_embeddings/1I36_B.npy\n",
      "Protein 8DCL embedded and saved to /zhome/c9/0/203261/DBL046_PP_osaul/DBL046_PP_osaul/tmp/data/PPint_DB/ESM_C_embeddings/8DCL_A.npy\n",
      "Protein 8DCL embedded and saved to /zhome/c9/0/203261/DBL046_PP_osaul/DBL046_PP_osaul/tmp/data/PPint_DB/ESM_C_embeddings/8DCL_B.npy\n"
     ]
    },
    {
     "name": "stderr",
     "output_type": "stream",
     "text": [
      "Embedding targets:  33%|████████████████████▌                                         | 150/453 [00:37<01:13,  4.11it/s]"
     ]
    },
    {
     "name": "stdout",
     "output_type": "stream",
     "text": [
      "Protein 1TLJ embedded and saved to /zhome/c9/0/203261/DBL046_PP_osaul/DBL046_PP_osaul/tmp/data/PPint_DB/ESM_C_embeddings/1TLJ_A.npy\n",
      "Protein 1TLJ embedded and saved to /zhome/c9/0/203261/DBL046_PP_osaul/DBL046_PP_osaul/tmp/data/PPint_DB/ESM_C_embeddings/1TLJ_B.npy\n",
      "Protein 3HHW embedded and saved to /zhome/c9/0/203261/DBL046_PP_osaul/DBL046_PP_osaul/tmp/data/PPint_DB/ESM_C_embeddings/3HHW_A.npy\n",
      "Protein 3HHW embedded and saved to /zhome/c9/0/203261/DBL046_PP_osaul/DBL046_PP_osaul/tmp/data/PPint_DB/ESM_C_embeddings/3HHW_B.npy\n"
     ]
    },
    {
     "name": "stderr",
     "output_type": "stream",
     "text": [
      "Embedding targets:  33%|████████████████████▋                                         | 151/453 [00:37<01:34,  3.18it/s]"
     ]
    },
    {
     "name": "stdout",
     "output_type": "stream",
     "text": [
      "Protein 3HHW embedded and saved to /zhome/c9/0/203261/DBL046_PP_osaul/DBL046_PP_osaul/tmp/data/PPint_DB/ESM_C_embeddings/3HHW_C.npy\n",
      "Protein 3HHW embedded and saved to /zhome/c9/0/203261/DBL046_PP_osaul/DBL046_PP_osaul/tmp/data/PPint_DB/ESM_C_embeddings/3HHW_D.npy\n",
      "Protein 7XAO embedded and saved to /zhome/c9/0/203261/DBL046_PP_osaul/DBL046_PP_osaul/tmp/data/PPint_DB/ESM_C_embeddings/7XAO_A.npy\n"
     ]
    },
    {
     "name": "stderr",
     "output_type": "stream",
     "text": [
      "Embedding targets:  34%|████████████████████▉                                         | 153/453 [00:38<01:19,  3.77it/s]"
     ]
    },
    {
     "name": "stdout",
     "output_type": "stream",
     "text": [
      "Protein 7XAO embedded and saved to /zhome/c9/0/203261/DBL046_PP_osaul/DBL046_PP_osaul/tmp/data/PPint_DB/ESM_C_embeddings/7XAO_B.npy\n",
      "Protein 2RG7 embedded and saved to /zhome/c9/0/203261/DBL046_PP_osaul/DBL046_PP_osaul/tmp/data/PPint_DB/ESM_C_embeddings/2RG7_A.npy\n",
      "Protein 2RG7 embedded and saved to /zhome/c9/0/203261/DBL046_PP_osaul/DBL046_PP_osaul/tmp/data/PPint_DB/ESM_C_embeddings/2RG7_B.npy\n"
     ]
    },
    {
     "name": "stderr",
     "output_type": "stream",
     "text": [
      "Embedding targets:  34%|█████████████████████                                         | 154/453 [00:38<01:07,  4.44it/s]"
     ]
    },
    {
     "name": "stdout",
     "output_type": "stream",
     "text": [
      "Protein 6S7G embedded and saved to /zhome/c9/0/203261/DBL046_PP_osaul/DBL046_PP_osaul/tmp/data/PPint_DB/ESM_C_embeddings/6S7G_A.npy\n",
      "Protein 6S7G embedded and saved to /zhome/c9/0/203261/DBL046_PP_osaul/DBL046_PP_osaul/tmp/data/PPint_DB/ESM_C_embeddings/6S7G_B.npy\n",
      "Protein 6THL embedded and saved to /zhome/c9/0/203261/DBL046_PP_osaul/DBL046_PP_osaul/tmp/data/PPint_DB/ESM_C_embeddings/6THL_A.npy\n"
     ]
    },
    {
     "name": "stderr",
     "output_type": "stream",
     "text": [
      "Embedding targets:  34%|█████████████████████▎                                        | 156/453 [00:38<00:56,  5.27it/s]"
     ]
    },
    {
     "name": "stdout",
     "output_type": "stream",
     "text": [
      "Protein 6THL embedded and saved to /zhome/c9/0/203261/DBL046_PP_osaul/DBL046_PP_osaul/tmp/data/PPint_DB/ESM_C_embeddings/6THL_B.npy\n",
      "Protein 5JP2 embedded and saved to /zhome/c9/0/203261/DBL046_PP_osaul/DBL046_PP_osaul/tmp/data/PPint_DB/ESM_C_embeddings/5JP2_A.npy\n",
      "Protein 5JP2 embedded and saved to /zhome/c9/0/203261/DBL046_PP_osaul/DBL046_PP_osaul/tmp/data/PPint_DB/ESM_C_embeddings/5JP2_B.npy\n"
     ]
    },
    {
     "name": "stderr",
     "output_type": "stream",
     "text": [
      "Embedding targets:  35%|█████████████████████▍                                        | 157/453 [00:38<00:58,  5.09it/s]"
     ]
    },
    {
     "name": "stdout",
     "output_type": "stream",
     "text": [
      "Protein 1NNW embedded and saved to /zhome/c9/0/203261/DBL046_PP_osaul/DBL046_PP_osaul/tmp/data/PPint_DB/ESM_C_embeddings/1NNW_A.npy\n",
      "Protein 1NNW embedded and saved to /zhome/c9/0/203261/DBL046_PP_osaul/DBL046_PP_osaul/tmp/data/PPint_DB/ESM_C_embeddings/1NNW_B.npy\n",
      "Protein 4Y7S embedded and saved to /zhome/c9/0/203261/DBL046_PP_osaul/DBL046_PP_osaul/tmp/data/PPint_DB/ESM_C_embeddings/4Y7S_A.npy\n"
     ]
    },
    {
     "name": "stderr",
     "output_type": "stream",
     "text": [
      "Embedding targets:  35%|█████████████████████▌                                        | 158/453 [00:38<00:52,  5.64it/s]"
     ]
    },
    {
     "name": "stdout",
     "output_type": "stream",
     "text": [
      "Protein 4Y7S embedded and saved to /zhome/c9/0/203261/DBL046_PP_osaul/DBL046_PP_osaul/tmp/data/PPint_DB/ESM_C_embeddings/4Y7S_B.npy\n",
      "Protein 1BHC embedded and saved to /zhome/c9/0/203261/DBL046_PP_osaul/DBL046_PP_osaul/tmp/data/PPint_DB/ESM_C_embeddings/1BHC_A.npy\n"
     ]
    },
    {
     "name": "stderr",
     "output_type": "stream",
     "text": [
      "Embedding targets:  35%|█████████████████████▊                                        | 159/453 [00:39<00:58,  4.99it/s]"
     ]
    },
    {
     "name": "stdout",
     "output_type": "stream",
     "text": [
      "Protein 1BHC embedded and saved to /zhome/c9/0/203261/DBL046_PP_osaul/DBL046_PP_osaul/tmp/data/PPint_DB/ESM_C_embeddings/1BHC_B.npy\n",
      "Protein 6V8Z embedded and saved to /zhome/c9/0/203261/DBL046_PP_osaul/DBL046_PP_osaul/tmp/data/PPint_DB/ESM_C_embeddings/6V8Z_A.npy\n"
     ]
    },
    {
     "name": "stderr",
     "output_type": "stream",
     "text": [
      "Embedding targets:  36%|██████████████████████                                        | 161/453 [00:39<00:58,  4.95it/s]"
     ]
    },
    {
     "name": "stdout",
     "output_type": "stream",
     "text": [
      "Protein 6V8Z embedded and saved to /zhome/c9/0/203261/DBL046_PP_osaul/DBL046_PP_osaul/tmp/data/PPint_DB/ESM_C_embeddings/6V8Z_B.npy\n",
      "Protein 3MGJ embedded and saved to /zhome/c9/0/203261/DBL046_PP_osaul/DBL046_PP_osaul/tmp/data/PPint_DB/ESM_C_embeddings/3MGJ_A.npy\n",
      "Protein 3MGJ embedded and saved to /zhome/c9/0/203261/DBL046_PP_osaul/DBL046_PP_osaul/tmp/data/PPint_DB/ESM_C_embeddings/3MGJ_B.npy\n"
     ]
    },
    {
     "name": "stderr",
     "output_type": "stream",
     "text": [
      "Embedding targets:  36%|██████████████████████▏                                       | 162/453 [00:40<01:11,  4.06it/s]"
     ]
    },
    {
     "name": "stdout",
     "output_type": "stream",
     "text": [
      "Protein 5YYL embedded and saved to /zhome/c9/0/203261/DBL046_PP_osaul/DBL046_PP_osaul/tmp/data/PPint_DB/ESM_C_embeddings/5YYL_A.npy\n",
      "Protein 5YYL embedded and saved to /zhome/c9/0/203261/DBL046_PP_osaul/DBL046_PP_osaul/tmp/data/PPint_DB/ESM_C_embeddings/5YYL_B.npy\n"
     ]
    },
    {
     "name": "stderr",
     "output_type": "stream",
     "text": [
      "Embedding targets:  36%|██████████████████████▎                                       | 163/453 [00:40<01:06,  4.33it/s]"
     ]
    },
    {
     "name": "stdout",
     "output_type": "stream",
     "text": [
      "Protein 1PG5 embedded and saved to /zhome/c9/0/203261/DBL046_PP_osaul/DBL046_PP_osaul/tmp/data/PPint_DB/ESM_C_embeddings/1PG5_A.npy\n",
      "Protein 1PG5 embedded and saved to /zhome/c9/0/203261/DBL046_PP_osaul/DBL046_PP_osaul/tmp/data/PPint_DB/ESM_C_embeddings/1PG5_B.npy\n"
     ]
    },
    {
     "name": "stderr",
     "output_type": "stream",
     "text": [
      "Embedding targets:  36%|██████████████████████▍                                       | 164/453 [00:40<01:06,  4.36it/s]"
     ]
    },
    {
     "name": "stdout",
     "output_type": "stream",
     "text": [
      "Protein 8VNP embedded and saved to /zhome/c9/0/203261/DBL046_PP_osaul/DBL046_PP_osaul/tmp/data/PPint_DB/ESM_C_embeddings/8VNP_A.npy\n",
      "Protein 8VNP embedded and saved to /zhome/c9/0/203261/DBL046_PP_osaul/DBL046_PP_osaul/tmp/data/PPint_DB/ESM_C_embeddings/8VNP_B.npy\n",
      "Protein 8QPS embedded and saved to /zhome/c9/0/203261/DBL046_PP_osaul/DBL046_PP_osaul/tmp/data/PPint_DB/ESM_C_embeddings/8QPS_A.npy\n"
     ]
    },
    {
     "name": "stderr",
     "output_type": "stream",
     "text": [
      "Embedding targets:  37%|██████████████████████▋                                       | 166/453 [00:40<01:02,  4.57it/s]"
     ]
    },
    {
     "name": "stdout",
     "output_type": "stream",
     "text": [
      "Protein 8QPS embedded and saved to /zhome/c9/0/203261/DBL046_PP_osaul/DBL046_PP_osaul/tmp/data/PPint_DB/ESM_C_embeddings/8QPS_B.npy\n",
      "Protein 8K3F embedded and saved to /zhome/c9/0/203261/DBL046_PP_osaul/DBL046_PP_osaul/tmp/data/PPint_DB/ESM_C_embeddings/8K3F_A.npy\n",
      "Protein 8K3F embedded and saved to /zhome/c9/0/203261/DBL046_PP_osaul/DBL046_PP_osaul/tmp/data/PPint_DB/ESM_C_embeddings/8K3F_B.npy\n"
     ]
    },
    {
     "name": "stderr",
     "output_type": "stream",
     "text": [
      "Embedding targets:  37%|██████████████████████▊                                       | 167/453 [00:41<00:55,  5.14it/s]"
     ]
    },
    {
     "name": "stdout",
     "output_type": "stream",
     "text": [
      "Protein 5G3L embedded and saved to /zhome/c9/0/203261/DBL046_PP_osaul/DBL046_PP_osaul/tmp/data/PPint_DB/ESM_C_embeddings/5G3L_A.npy\n",
      "Protein 5G3L embedded and saved to /zhome/c9/0/203261/DBL046_PP_osaul/DBL046_PP_osaul/tmp/data/PPint_DB/ESM_C_embeddings/5G3L_B.npy\n"
     ]
    },
    {
     "name": "stderr",
     "output_type": "stream",
     "text": [
      "Embedding targets:  37%|██████████████████████▉                                       | 168/453 [00:41<01:01,  4.63it/s]"
     ]
    },
    {
     "name": "stdout",
     "output_type": "stream",
     "text": [
      "Protein 7YGG embedded and saved to /zhome/c9/0/203261/DBL046_PP_osaul/DBL046_PP_osaul/tmp/data/PPint_DB/ESM_C_embeddings/7YGG_A.npy\n",
      "Protein 7YGG embedded and saved to /zhome/c9/0/203261/DBL046_PP_osaul/DBL046_PP_osaul/tmp/data/PPint_DB/ESM_C_embeddings/7YGG_B.npy\n"
     ]
    },
    {
     "name": "stderr",
     "output_type": "stream",
     "text": [
      "Embedding targets:  37%|███████████████████████▏                                      | 169/453 [00:41<01:06,  4.25it/s]"
     ]
    },
    {
     "name": "stdout",
     "output_type": "stream",
     "text": [
      "Protein 2B8W embedded and saved to /zhome/c9/0/203261/DBL046_PP_osaul/DBL046_PP_osaul/tmp/data/PPint_DB/ESM_C_embeddings/2B8W_A.npy\n",
      "Protein 2B8W embedded and saved to /zhome/c9/0/203261/DBL046_PP_osaul/DBL046_PP_osaul/tmp/data/PPint_DB/ESM_C_embeddings/2B8W_B.npy\n"
     ]
    },
    {
     "name": "stderr",
     "output_type": "stream",
     "text": [
      "Embedding targets:  38%|███████████████████████▎                                      | 170/453 [00:41<01:13,  3.85it/s]"
     ]
    },
    {
     "name": "stdout",
     "output_type": "stream",
     "text": [
      "Protein 1H7T embedded and saved to /zhome/c9/0/203261/DBL046_PP_osaul/DBL046_PP_osaul/tmp/data/PPint_DB/ESM_C_embeddings/1H7T_A.npy\n",
      "Protein 1H7T embedded and saved to /zhome/c9/0/203261/DBL046_PP_osaul/DBL046_PP_osaul/tmp/data/PPint_DB/ESM_C_embeddings/1H7T_B.npy\n"
     ]
    },
    {
     "name": "stderr",
     "output_type": "stream",
     "text": [
      "Embedding targets:  38%|███████████████████████▍                                      | 171/453 [00:42<01:18,  3.58it/s]"
     ]
    },
    {
     "name": "stdout",
     "output_type": "stream",
     "text": [
      "Protein 4XR9 embedded and saved to /zhome/c9/0/203261/DBL046_PP_osaul/DBL046_PP_osaul/tmp/data/PPint_DB/ESM_C_embeddings/4XR9_A.npy\n",
      "Protein 4XR9 embedded and saved to /zhome/c9/0/203261/DBL046_PP_osaul/DBL046_PP_osaul/tmp/data/PPint_DB/ESM_C_embeddings/4XR9_B.npy\n"
     ]
    },
    {
     "name": "stderr",
     "output_type": "stream",
     "text": [
      "Embedding targets:  38%|███████████████████████▌                                      | 172/453 [00:42<01:16,  3.69it/s]"
     ]
    },
    {
     "name": "stdout",
     "output_type": "stream",
     "text": [
      "Protein 8P49 embedded and saved to /zhome/c9/0/203261/DBL046_PP_osaul/DBL046_PP_osaul/tmp/data/PPint_DB/ESM_C_embeddings/8P49_A.npy\n",
      "Protein 8P49 embedded and saved to /zhome/c9/0/203261/DBL046_PP_osaul/DBL046_PP_osaul/tmp/data/PPint_DB/ESM_C_embeddings/8P49_B.npy\n"
     ]
    },
    {
     "name": "stderr",
     "output_type": "stream",
     "text": [
      "Embedding targets:  38%|███████████████████████▋                                      | 173/453 [00:42<01:08,  4.06it/s]"
     ]
    },
    {
     "name": "stdout",
     "output_type": "stream",
     "text": [
      "Protein 5AKO embedded and saved to /zhome/c9/0/203261/DBL046_PP_osaul/DBL046_PP_osaul/tmp/data/PPint_DB/ESM_C_embeddings/5AKO_A.npy\n",
      "Protein 5AKO embedded and saved to /zhome/c9/0/203261/DBL046_PP_osaul/DBL046_PP_osaul/tmp/data/PPint_DB/ESM_C_embeddings/5AKO_B.npy\n"
     ]
    },
    {
     "name": "stderr",
     "output_type": "stream",
     "text": [
      "Embedding targets:  38%|███████████████████████▊                                      | 174/453 [00:42<01:09,  4.02it/s]"
     ]
    },
    {
     "name": "stdout",
     "output_type": "stream",
     "text": [
      "Protein 3AB4 embedded and saved to /zhome/c9/0/203261/DBL046_PP_osaul/DBL046_PP_osaul/tmp/data/PPint_DB/ESM_C_embeddings/3AB4_A.npy\n",
      "Protein 3AB4 embedded and saved to /zhome/c9/0/203261/DBL046_PP_osaul/DBL046_PP_osaul/tmp/data/PPint_DB/ESM_C_embeddings/3AB4_B.npy\n",
      "Protein 6E2N embedded and saved to /zhome/c9/0/203261/DBL046_PP_osaul/DBL046_PP_osaul/tmp/data/PPint_DB/ESM_C_embeddings/6E2N_A.npy\n"
     ]
    },
    {
     "name": "stderr",
     "output_type": "stream",
     "text": [
      "Embedding targets:  39%|███████████████████████▉                                      | 175/453 [00:43<01:19,  3.50it/s]"
     ]
    },
    {
     "name": "stdout",
     "output_type": "stream",
     "text": [
      "Protein 6E2N embedded and saved to /zhome/c9/0/203261/DBL046_PP_osaul/DBL046_PP_osaul/tmp/data/PPint_DB/ESM_C_embeddings/6E2N_B.npy\n",
      "Protein 4DKE embedded and saved to /zhome/c9/0/203261/DBL046_PP_osaul/DBL046_PP_osaul/tmp/data/PPint_DB/ESM_C_embeddings/4DKE_A.npy\n"
     ]
    },
    {
     "name": "stderr",
     "output_type": "stream",
     "text": [
      "Embedding targets:  39%|████████████████████████                                      | 176/453 [00:43<01:13,  3.76it/s]"
     ]
    },
    {
     "name": "stdout",
     "output_type": "stream",
     "text": [
      "Protein 4DKE embedded and saved to /zhome/c9/0/203261/DBL046_PP_osaul/DBL046_PP_osaul/tmp/data/PPint_DB/ESM_C_embeddings/4DKE_B.npy\n",
      "Protein 7NDF embedded and saved to /zhome/c9/0/203261/DBL046_PP_osaul/DBL046_PP_osaul/tmp/data/PPint_DB/ESM_C_embeddings/7NDF_A.npy\n"
     ]
    },
    {
     "name": "stderr",
     "output_type": "stream",
     "text": [
      "Embedding targets:  39%|████████████████████████▏                                     | 177/453 [00:43<01:10,  3.93it/s]"
     ]
    },
    {
     "name": "stdout",
     "output_type": "stream",
     "text": [
      "Protein 7NDF embedded and saved to /zhome/c9/0/203261/DBL046_PP_osaul/DBL046_PP_osaul/tmp/data/PPint_DB/ESM_C_embeddings/7NDF_B.npy\n",
      "Protein 6XM2 embedded and saved to /zhome/c9/0/203261/DBL046_PP_osaul/DBL046_PP_osaul/tmp/data/PPint_DB/ESM_C_embeddings/6XM2_A.npy\n"
     ]
    },
    {
     "name": "stderr",
     "output_type": "stream",
     "text": [
      "Embedding targets:  39%|████████████████████████▎                                     | 178/453 [00:44<01:23,  3.29it/s]"
     ]
    },
    {
     "name": "stdout",
     "output_type": "stream",
     "text": [
      "Protein 6XM2 embedded and saved to /zhome/c9/0/203261/DBL046_PP_osaul/DBL046_PP_osaul/tmp/data/PPint_DB/ESM_C_embeddings/6XM2_B.npy\n",
      "Protein 6XM2 embedded and saved to /zhome/c9/0/203261/DBL046_PP_osaul/DBL046_PP_osaul/tmp/data/PPint_DB/ESM_C_embeddings/6XM2_C.npy\n",
      "Protein 6XM2 embedded and saved to /zhome/c9/0/203261/DBL046_PP_osaul/DBL046_PP_osaul/tmp/data/PPint_DB/ESM_C_embeddings/6XM2_D.npy\n"
     ]
    },
    {
     "name": "stderr",
     "output_type": "stream",
     "text": [
      "Embedding targets:  40%|████████████████████████▍                                     | 179/453 [00:44<01:13,  3.74it/s]"
     ]
    },
    {
     "name": "stdout",
     "output_type": "stream",
     "text": [
      "Protein 9CQ2 embedded and saved to /zhome/c9/0/203261/DBL046_PP_osaul/DBL046_PP_osaul/tmp/data/PPint_DB/ESM_C_embeddings/9CQ2_A.npy\n",
      "Protein 9CQ2 embedded and saved to /zhome/c9/0/203261/DBL046_PP_osaul/DBL046_PP_osaul/tmp/data/PPint_DB/ESM_C_embeddings/9CQ2_B.npy\n",
      "Protein 8PU1 embedded and saved to /zhome/c9/0/203261/DBL046_PP_osaul/DBL046_PP_osaul/tmp/data/PPint_DB/ESM_C_embeddings/8PU1_A.npy\n"
     ]
    },
    {
     "name": "stderr",
     "output_type": "stream",
     "text": [
      "Embedding targets:  40%|████████████████████████▊                                     | 181/453 [00:44<01:03,  4.29it/s]"
     ]
    },
    {
     "name": "stdout",
     "output_type": "stream",
     "text": [
      "Protein 8PU1 embedded and saved to /zhome/c9/0/203261/DBL046_PP_osaul/DBL046_PP_osaul/tmp/data/PPint_DB/ESM_C_embeddings/8PU1_B.npy\n",
      "Protein 2AOI embedded and saved to /zhome/c9/0/203261/DBL046_PP_osaul/DBL046_PP_osaul/tmp/data/PPint_DB/ESM_C_embeddings/2AOI_A.npy\n",
      "Protein 2AOI embedded and saved to /zhome/c9/0/203261/DBL046_PP_osaul/DBL046_PP_osaul/tmp/data/PPint_DB/ESM_C_embeddings/2AOI_B.npy\n"
     ]
    },
    {
     "name": "stderr",
     "output_type": "stream",
     "text": [
      "Embedding targets:  40%|████████████████████████▉                                     | 182/453 [00:44<00:56,  4.83it/s]"
     ]
    },
    {
     "name": "stdout",
     "output_type": "stream",
     "text": [
      "Protein 3OWT embedded and saved to /zhome/c9/0/203261/DBL046_PP_osaul/DBL046_PP_osaul/tmp/data/PPint_DB/ESM_C_embeddings/3OWT_A.npy\n",
      "Protein 3OWT embedded and saved to /zhome/c9/0/203261/DBL046_PP_osaul/DBL046_PP_osaul/tmp/data/PPint_DB/ESM_C_embeddings/3OWT_B.npy\n",
      "Protein 5WOF embedded and saved to /zhome/c9/0/203261/DBL046_PP_osaul/DBL046_PP_osaul/tmp/data/PPint_DB/ESM_C_embeddings/5WOF_A.npy\n"
     ]
    },
    {
     "name": "stderr",
     "output_type": "stream",
     "text": [
      "Embedding targets:  41%|█████████████████████████▏                                    | 184/453 [00:45<00:49,  5.46it/s]"
     ]
    },
    {
     "name": "stdout",
     "output_type": "stream",
     "text": [
      "Protein 5WOF embedded and saved to /zhome/c9/0/203261/DBL046_PP_osaul/DBL046_PP_osaul/tmp/data/PPint_DB/ESM_C_embeddings/5WOF_B.npy\n",
      "Protein 8WIX embedded and saved to /zhome/c9/0/203261/DBL046_PP_osaul/DBL046_PP_osaul/tmp/data/PPint_DB/ESM_C_embeddings/8WIX_A.npy\n",
      "Protein 8WIX embedded and saved to /zhome/c9/0/203261/DBL046_PP_osaul/DBL046_PP_osaul/tmp/data/PPint_DB/ESM_C_embeddings/8WIX_B.npy\n"
     ]
    },
    {
     "name": "stderr",
     "output_type": "stream",
     "text": [
      "Embedding targets:  41%|█████████████████████████▎                                    | 185/453 [00:45<00:57,  4.69it/s]"
     ]
    },
    {
     "name": "stdout",
     "output_type": "stream",
     "text": [
      "Protein 2RF7 embedded and saved to /zhome/c9/0/203261/DBL046_PP_osaul/DBL046_PP_osaul/tmp/data/PPint_DB/ESM_C_embeddings/2RF7_A.npy\n",
      "Protein 2RF7 embedded and saved to /zhome/c9/0/203261/DBL046_PP_osaul/DBL046_PP_osaul/tmp/data/PPint_DB/ESM_C_embeddings/2RF7_B.npy\n"
     ]
    },
    {
     "name": "stderr",
     "output_type": "stream",
     "text": [
      "Embedding targets:  41%|█████████████████████████▍                                    | 186/453 [00:45<00:58,  4.53it/s]"
     ]
    },
    {
     "name": "stdout",
     "output_type": "stream",
     "text": [
      "Protein 3DOC embedded and saved to /zhome/c9/0/203261/DBL046_PP_osaul/DBL046_PP_osaul/tmp/data/PPint_DB/ESM_C_embeddings/3DOC_A.npy\n",
      "Protein 3DOC embedded and saved to /zhome/c9/0/203261/DBL046_PP_osaul/DBL046_PP_osaul/tmp/data/PPint_DB/ESM_C_embeddings/3DOC_B.npy\n"
     ]
    },
    {
     "name": "stderr",
     "output_type": "stream",
     "text": [
      "Embedding targets:  41%|█████████████████████████▌                                    | 187/453 [00:45<00:54,  4.85it/s]"
     ]
    },
    {
     "name": "stdout",
     "output_type": "stream",
     "text": [
      "Protein 2DVS embedded and saved to /zhome/c9/0/203261/DBL046_PP_osaul/DBL046_PP_osaul/tmp/data/PPint_DB/ESM_C_embeddings/2DVS_A.npy\n",
      "Protein 2DVS embedded and saved to /zhome/c9/0/203261/DBL046_PP_osaul/DBL046_PP_osaul/tmp/data/PPint_DB/ESM_C_embeddings/2DVS_B.npy\n",
      "Protein 2A8F embedded and saved to /zhome/c9/0/203261/DBL046_PP_osaul/DBL046_PP_osaul/tmp/data/PPint_DB/ESM_C_embeddings/2A8F_A.npy\n"
     ]
    },
    {
     "name": "stderr",
     "output_type": "stream",
     "text": [
      "Embedding targets:  42%|█████████████████████████▊                                    | 189/453 [00:46<00:48,  5.44it/s]"
     ]
    },
    {
     "name": "stdout",
     "output_type": "stream",
     "text": [
      "Protein 2A8F embedded and saved to /zhome/c9/0/203261/DBL046_PP_osaul/DBL046_PP_osaul/tmp/data/PPint_DB/ESM_C_embeddings/2A8F_B.npy\n",
      "Protein 3UCN embedded and saved to /zhome/c9/0/203261/DBL046_PP_osaul/DBL046_PP_osaul/tmp/data/PPint_DB/ESM_C_embeddings/3UCN_A.npy\n",
      "Protein 3UCN embedded and saved to /zhome/c9/0/203261/DBL046_PP_osaul/DBL046_PP_osaul/tmp/data/PPint_DB/ESM_C_embeddings/3UCN_B.npy\n"
     ]
    },
    {
     "name": "stderr",
     "output_type": "stream",
     "text": [
      "Embedding targets:  42%|██████████████████████████                                    | 190/453 [00:46<00:48,  5.39it/s]"
     ]
    },
    {
     "name": "stdout",
     "output_type": "stream",
     "text": [
      "Protein 1G1Q embedded and saved to /zhome/c9/0/203261/DBL046_PP_osaul/DBL046_PP_osaul/tmp/data/PPint_DB/ESM_C_embeddings/1G1Q_A.npy\n",
      "Protein 1G1Q embedded and saved to /zhome/c9/0/203261/DBL046_PP_osaul/DBL046_PP_osaul/tmp/data/PPint_DB/ESM_C_embeddings/1G1Q_B.npy\n",
      "Protein 8RPB embedded and saved to /zhome/c9/0/203261/DBL046_PP_osaul/DBL046_PP_osaul/tmp/data/PPint_DB/ESM_C_embeddings/8RPB_A.npy\n"
     ]
    },
    {
     "name": "stderr",
     "output_type": "stream",
     "text": [
      "Embedding targets:  42%|██████████████████████████▏                                   | 191/453 [00:46<00:47,  5.52it/s]"
     ]
    },
    {
     "name": "stdout",
     "output_type": "stream",
     "text": [
      "Protein 8RPB embedded and saved to /zhome/c9/0/203261/DBL046_PP_osaul/DBL046_PP_osaul/tmp/data/PPint_DB/ESM_C_embeddings/8RPB_B.npy\n",
      "Protein 8FEU embedded and saved to /zhome/c9/0/203261/DBL046_PP_osaul/DBL046_PP_osaul/tmp/data/PPint_DB/ESM_C_embeddings/8FEU_A.npy\n"
     ]
    },
    {
     "name": "stderr",
     "output_type": "stream",
     "text": [
      "Embedding targets:  43%|██████████████████████████▍                                   | 193/453 [00:46<00:48,  5.31it/s]"
     ]
    },
    {
     "name": "stdout",
     "output_type": "stream",
     "text": [
      "Protein 8FEU embedded and saved to /zhome/c9/0/203261/DBL046_PP_osaul/DBL046_PP_osaul/tmp/data/PPint_DB/ESM_C_embeddings/8FEU_B.npy\n",
      "Protein 2CHP embedded and saved to /zhome/c9/0/203261/DBL046_PP_osaul/DBL046_PP_osaul/tmp/data/PPint_DB/ESM_C_embeddings/2CHP_A.npy\n",
      "Protein 2CHP embedded and saved to /zhome/c9/0/203261/DBL046_PP_osaul/DBL046_PP_osaul/tmp/data/PPint_DB/ESM_C_embeddings/2CHP_B.npy\n"
     ]
    },
    {
     "name": "stderr",
     "output_type": "stream",
     "text": [
      "Embedding targets:  43%|██████████████████████████▌                                   | 194/453 [00:47<00:50,  5.14it/s]"
     ]
    },
    {
     "name": "stdout",
     "output_type": "stream",
     "text": [
      "Protein 2OND embedded and saved to /zhome/c9/0/203261/DBL046_PP_osaul/DBL046_PP_osaul/tmp/data/PPint_DB/ESM_C_embeddings/2OND_A.npy\n",
      "Protein 2OND embedded and saved to /zhome/c9/0/203261/DBL046_PP_osaul/DBL046_PP_osaul/tmp/data/PPint_DB/ESM_C_embeddings/2OND_B.npy\n",
      "Protein 3D8L embedded and saved to /zhome/c9/0/203261/DBL046_PP_osaul/DBL046_PP_osaul/tmp/data/PPint_DB/ESM_C_embeddings/3D8L_A.npy\n"
     ]
    },
    {
     "name": "stderr",
     "output_type": "stream",
     "text": [
      "Embedding targets:  43%|██████████████████████████▋                                   | 195/453 [00:47<00:45,  5.73it/s]"
     ]
    },
    {
     "name": "stdout",
     "output_type": "stream",
     "text": [
      "Protein 3D8L embedded and saved to /zhome/c9/0/203261/DBL046_PP_osaul/DBL046_PP_osaul/tmp/data/PPint_DB/ESM_C_embeddings/3D8L_B.npy\n",
      "Protein 2H1O embedded and saved to /zhome/c9/0/203261/DBL046_PP_osaul/DBL046_PP_osaul/tmp/data/PPint_DB/ESM_C_embeddings/2H1O_A.npy\n",
      "Protein 2H1O embedded and saved to /zhome/c9/0/203261/DBL046_PP_osaul/DBL046_PP_osaul/tmp/data/PPint_DB/ESM_C_embeddings/2H1O_B.npy\n"
     ]
    },
    {
     "name": "stderr",
     "output_type": "stream",
     "text": [
      "Embedding targets:  43%|██████████████████████████▊                                   | 196/453 [00:47<00:53,  4.84it/s]"
     ]
    },
    {
     "name": "stdout",
     "output_type": "stream",
     "text": [
      "Protein 2H1O embedded and saved to /zhome/c9/0/203261/DBL046_PP_osaul/DBL046_PP_osaul/tmp/data/PPint_DB/ESM_C_embeddings/2H1O_C.npy\n",
      "Protein 2H1O embedded and saved to /zhome/c9/0/203261/DBL046_PP_osaul/DBL046_PP_osaul/tmp/data/PPint_DB/ESM_C_embeddings/2H1O_D.npy\n",
      "Protein 1Q5X embedded and saved to /zhome/c9/0/203261/DBL046_PP_osaul/DBL046_PP_osaul/tmp/data/PPint_DB/ESM_C_embeddings/1Q5X_A.npy\n"
     ]
    },
    {
     "name": "stderr",
     "output_type": "stream",
     "text": [
      "Embedding targets:  44%|███████████████████████████                                   | 198/453 [00:47<00:49,  5.16it/s]"
     ]
    },
    {
     "name": "stdout",
     "output_type": "stream",
     "text": [
      "Protein 1Q5X embedded and saved to /zhome/c9/0/203261/DBL046_PP_osaul/DBL046_PP_osaul/tmp/data/PPint_DB/ESM_C_embeddings/1Q5X_B.npy\n",
      "Protein 3PN9 embedded and saved to /zhome/c9/0/203261/DBL046_PP_osaul/DBL046_PP_osaul/tmp/data/PPint_DB/ESM_C_embeddings/3PN9_A.npy\n",
      "Protein 3PN9 embedded and saved to /zhome/c9/0/203261/DBL046_PP_osaul/DBL046_PP_osaul/tmp/data/PPint_DB/ESM_C_embeddings/3PN9_B.npy\n"
     ]
    },
    {
     "name": "stderr",
     "output_type": "stream",
     "text": [
      "Embedding targets:  44%|███████████████████████████▏                                  | 199/453 [00:48<00:54,  4.63it/s]"
     ]
    },
    {
     "name": "stdout",
     "output_type": "stream",
     "text": [
      "Protein 3DYD embedded and saved to /zhome/c9/0/203261/DBL046_PP_osaul/DBL046_PP_osaul/tmp/data/PPint_DB/ESM_C_embeddings/3DYD_A.npy\n",
      "Protein 3DYD embedded and saved to /zhome/c9/0/203261/DBL046_PP_osaul/DBL046_PP_osaul/tmp/data/PPint_DB/ESM_C_embeddings/3DYD_B.npy\n"
     ]
    },
    {
     "name": "stderr",
     "output_type": "stream",
     "text": [
      "Embedding targets:  44%|███████████████████████████▎                                  | 200/453 [00:48<00:53,  4.76it/s]"
     ]
    },
    {
     "name": "stdout",
     "output_type": "stream",
     "text": [
      "Protein 4FN6 embedded and saved to /zhome/c9/0/203261/DBL046_PP_osaul/DBL046_PP_osaul/tmp/data/PPint_DB/ESM_C_embeddings/4FN6_A.npy\n",
      "Protein 4FN6 embedded and saved to /zhome/c9/0/203261/DBL046_PP_osaul/DBL046_PP_osaul/tmp/data/PPint_DB/ESM_C_embeddings/4FN6_B.npy\n"
     ]
    },
    {
     "name": "stderr",
     "output_type": "stream",
     "text": [
      "Embedding targets:  44%|███████████████████████████▌                                  | 201/453 [00:48<00:56,  4.50it/s]"
     ]
    },
    {
     "name": "stdout",
     "output_type": "stream",
     "text": [
      "Protein 1F6Y embedded and saved to /zhome/c9/0/203261/DBL046_PP_osaul/DBL046_PP_osaul/tmp/data/PPint_DB/ESM_C_embeddings/1F6Y_A.npy\n",
      "Protein 1F6Y embedded and saved to /zhome/c9/0/203261/DBL046_PP_osaul/DBL046_PP_osaul/tmp/data/PPint_DB/ESM_C_embeddings/1F6Y_B.npy\n",
      "Protein 3GOR embedded and saved to /zhome/c9/0/203261/DBL046_PP_osaul/DBL046_PP_osaul/tmp/data/PPint_DB/ESM_C_embeddings/3GOR_A.npy\n"
     ]
    },
    {
     "name": "stderr",
     "output_type": "stream",
     "text": [
      "Embedding targets:  45%|███████████████████████████▊                                  | 203/453 [00:48<00:48,  5.17it/s]"
     ]
    },
    {
     "name": "stdout",
     "output_type": "stream",
     "text": [
      "Protein 3GOR embedded and saved to /zhome/c9/0/203261/DBL046_PP_osaul/DBL046_PP_osaul/tmp/data/PPint_DB/ESM_C_embeddings/3GOR_B.npy\n",
      "Protein 3KIF embedded and saved to /zhome/c9/0/203261/DBL046_PP_osaul/DBL046_PP_osaul/tmp/data/PPint_DB/ESM_C_embeddings/3KIF_A.npy\n",
      "Protein 3KIF embedded and saved to /zhome/c9/0/203261/DBL046_PP_osaul/DBL046_PP_osaul/tmp/data/PPint_DB/ESM_C_embeddings/3KIF_B.npy\n"
     ]
    },
    {
     "name": "stderr",
     "output_type": "stream",
     "text": [
      "Embedding targets:  45%|███████████████████████████▉                                  | 204/453 [00:49<00:51,  4.83it/s]"
     ]
    },
    {
     "name": "stdout",
     "output_type": "stream",
     "text": [
      "Protein 3TDF embedded and saved to /zhome/c9/0/203261/DBL046_PP_osaul/DBL046_PP_osaul/tmp/data/PPint_DB/ESM_C_embeddings/3TDF_A.npy\n",
      "Protein 3TDF embedded and saved to /zhome/c9/0/203261/DBL046_PP_osaul/DBL046_PP_osaul/tmp/data/PPint_DB/ESM_C_embeddings/3TDF_B.npy\n"
     ]
    },
    {
     "name": "stderr",
     "output_type": "stream",
     "text": [
      "Embedding targets:  45%|████████████████████████████                                  | 205/453 [00:49<00:53,  4.66it/s]"
     ]
    },
    {
     "name": "stdout",
     "output_type": "stream",
     "text": [
      "Protein 8TII embedded and saved to /zhome/c9/0/203261/DBL046_PP_osaul/DBL046_PP_osaul/tmp/data/PPint_DB/ESM_C_embeddings/8TII_A.npy\n",
      "Protein 8TII embedded and saved to /zhome/c9/0/203261/DBL046_PP_osaul/DBL046_PP_osaul/tmp/data/PPint_DB/ESM_C_embeddings/8TII_B.npy\n"
     ]
    },
    {
     "name": "stderr",
     "output_type": "stream",
     "text": [
      "Embedding targets:  45%|████████████████████████████▏                                 | 206/453 [00:49<00:55,  4.45it/s]"
     ]
    },
    {
     "name": "stdout",
     "output_type": "stream",
     "text": [
      "Protein 1DFO embedded and saved to /zhome/c9/0/203261/DBL046_PP_osaul/DBL046_PP_osaul/tmp/data/PPint_DB/ESM_C_embeddings/1DFO_A.npy\n",
      "Protein 1DFO embedded and saved to /zhome/c9/0/203261/DBL046_PP_osaul/DBL046_PP_osaul/tmp/data/PPint_DB/ESM_C_embeddings/1DFO_B.npy\n",
      "Protein 7OUI embedded and saved to /zhome/c9/0/203261/DBL046_PP_osaul/DBL046_PP_osaul/tmp/data/PPint_DB/ESM_C_embeddings/7OUI_A.npy\n",
      "Protein 7OUI embedded and saved to /zhome/c9/0/203261/DBL046_PP_osaul/DBL046_PP_osaul/tmp/data/PPint_DB/ESM_C_embeddings/7OUI_B.npy\n",
      "Protein 7OUI embedded and saved to /zhome/c9/0/203261/DBL046_PP_osaul/DBL046_PP_osaul/tmp/data/PPint_DB/ESM_C_embeddings/7OUI_C.npy\n",
      "Protein 7OUI embedded and saved to /zhome/c9/0/203261/DBL046_PP_osaul/DBL046_PP_osaul/tmp/data/PPint_DB/ESM_C_embeddings/7OUI_D.npy\n",
      "Protein 7OUI embedded and saved to /zhome/c9/0/203261/DBL046_PP_osaul/DBL046_PP_osaul/tmp/data/PPint_DB/ESM_C_embeddings/7OUI_E.npy\n",
      "Protein 7OUI embedded and saved to /zhome/c9/0/203261/DBL046_PP_osaul/DBL046_PP_osaul/tmp/data/PPint_DB/ESM_C_embeddings/7OUI_F.npy\n"
     ]
    },
    {
     "name": "stderr",
     "output_type": "stream",
     "text": [
      "Embedding targets:  46%|████████████████████████████▎                                 | 207/453 [00:50<01:34,  2.60it/s]"
     ]
    },
    {
     "name": "stdout",
     "output_type": "stream",
     "text": [
      "Protein 7OUI embedded and saved to /zhome/c9/0/203261/DBL046_PP_osaul/DBL046_PP_osaul/tmp/data/PPint_DB/ESM_C_embeddings/7OUI_G.npy\n",
      "Protein 7OUI embedded and saved to /zhome/c9/0/203261/DBL046_PP_osaul/DBL046_PP_osaul/tmp/data/PPint_DB/ESM_C_embeddings/7OUI_H.npy\n",
      "Protein 6HF7 embedded and saved to /zhome/c9/0/203261/DBL046_PP_osaul/DBL046_PP_osaul/tmp/data/PPint_DB/ESM_C_embeddings/6HF7_A.npy\n"
     ]
    },
    {
     "name": "stderr",
     "output_type": "stream",
     "text": [
      "Embedding targets:  46%|████████████████████████████▌                                 | 209/453 [00:50<01:06,  3.70it/s]"
     ]
    },
    {
     "name": "stdout",
     "output_type": "stream",
     "text": [
      "Protein 6HF7 embedded and saved to /zhome/c9/0/203261/DBL046_PP_osaul/DBL046_PP_osaul/tmp/data/PPint_DB/ESM_C_embeddings/6HF7_B.npy\n",
      "Protein 1RBF embedded and saved to /zhome/c9/0/203261/DBL046_PP_osaul/DBL046_PP_osaul/tmp/data/PPint_DB/ESM_C_embeddings/1RBF_A.npy\n",
      "Protein 1RBF embedded and saved to /zhome/c9/0/203261/DBL046_PP_osaul/DBL046_PP_osaul/tmp/data/PPint_DB/ESM_C_embeddings/1RBF_B.npy\n"
     ]
    },
    {
     "name": "stderr",
     "output_type": "stream",
     "text": [
      "Embedding targets:  46%|████████████████████████████▋                                 | 210/453 [00:50<00:59,  4.08it/s]"
     ]
    },
    {
     "name": "stdout",
     "output_type": "stream",
     "text": [
      "Protein 3ND1 embedded and saved to /zhome/c9/0/203261/DBL046_PP_osaul/DBL046_PP_osaul/tmp/data/PPint_DB/ESM_C_embeddings/3ND1_A.npy\n",
      "Protein 3ND1 embedded and saved to /zhome/c9/0/203261/DBL046_PP_osaul/DBL046_PP_osaul/tmp/data/PPint_DB/ESM_C_embeddings/3ND1_B.npy\n",
      "Protein 1TZM embedded and saved to /zhome/c9/0/203261/DBL046_PP_osaul/DBL046_PP_osaul/tmp/data/PPint_DB/ESM_C_embeddings/1TZM_A.npy\n"
     ]
    },
    {
     "name": "stderr",
     "output_type": "stream",
     "text": [
      "Embedding targets:  47%|█████████████████████████████                                 | 212/453 [00:51<00:55,  4.37it/s]"
     ]
    },
    {
     "name": "stdout",
     "output_type": "stream",
     "text": [
      "Protein 1TZM embedded and saved to /zhome/c9/0/203261/DBL046_PP_osaul/DBL046_PP_osaul/tmp/data/PPint_DB/ESM_C_embeddings/1TZM_B.npy\n",
      "Protein 8R0J embedded and saved to /zhome/c9/0/203261/DBL046_PP_osaul/DBL046_PP_osaul/tmp/data/PPint_DB/ESM_C_embeddings/8R0J_A.npy\n",
      "Protein 8R0J embedded and saved to /zhome/c9/0/203261/DBL046_PP_osaul/DBL046_PP_osaul/tmp/data/PPint_DB/ESM_C_embeddings/8R0J_B.npy\n"
     ]
    },
    {
     "name": "stderr",
     "output_type": "stream",
     "text": [
      "Embedding targets:  47%|█████████████████████████████▏                                | 213/453 [00:51<00:56,  4.24it/s]"
     ]
    },
    {
     "name": "stdout",
     "output_type": "stream",
     "text": [
      "Protein 4MUK embedded and saved to /zhome/c9/0/203261/DBL046_PP_osaul/DBL046_PP_osaul/tmp/data/PPint_DB/ESM_C_embeddings/4MUK_A.npy\n",
      "Protein 4MUK embedded and saved to /zhome/c9/0/203261/DBL046_PP_osaul/DBL046_PP_osaul/tmp/data/PPint_DB/ESM_C_embeddings/4MUK_B.npy\n"
     ]
    },
    {
     "name": "stderr",
     "output_type": "stream",
     "text": [
      "Embedding targets:  47%|█████████████████████████████▎                                | 214/453 [00:51<00:57,  4.12it/s]"
     ]
    },
    {
     "name": "stdout",
     "output_type": "stream",
     "text": [
      "Protein 8CKH embedded and saved to /zhome/c9/0/203261/DBL046_PP_osaul/DBL046_PP_osaul/tmp/data/PPint_DB/ESM_C_embeddings/8CKH_A.npy\n",
      "Protein 8CKH embedded and saved to /zhome/c9/0/203261/DBL046_PP_osaul/DBL046_PP_osaul/tmp/data/PPint_DB/ESM_C_embeddings/8CKH_B.npy\n"
     ]
    },
    {
     "name": "stderr",
     "output_type": "stream",
     "text": [
      "Embedding targets:  47%|█████████████████████████████▍                                | 215/453 [00:52<00:59,  4.00it/s]"
     ]
    },
    {
     "name": "stdout",
     "output_type": "stream",
     "text": [
      "Protein 3M0E embedded and saved to /zhome/c9/0/203261/DBL046_PP_osaul/DBL046_PP_osaul/tmp/data/PPint_DB/ESM_C_embeddings/3M0E_A.npy\n",
      "Protein 3M0E embedded and saved to /zhome/c9/0/203261/DBL046_PP_osaul/DBL046_PP_osaul/tmp/data/PPint_DB/ESM_C_embeddings/3M0E_B.npy\n"
     ]
    },
    {
     "name": "stderr",
     "output_type": "stream",
     "text": [
      "Embedding targets:  48%|█████████████████████████████▌                                | 216/453 [00:52<00:56,  4.16it/s]"
     ]
    },
    {
     "name": "stdout",
     "output_type": "stream",
     "text": [
      "Protein 3A6Q embedded and saved to /zhome/c9/0/203261/DBL046_PP_osaul/DBL046_PP_osaul/tmp/data/PPint_DB/ESM_C_embeddings/3A6Q_A.npy\n",
      "Protein 3A6Q embedded and saved to /zhome/c9/0/203261/DBL046_PP_osaul/DBL046_PP_osaul/tmp/data/PPint_DB/ESM_C_embeddings/3A6Q_B.npy\n"
     ]
    },
    {
     "name": "stderr",
     "output_type": "stream",
     "text": [
      "Embedding targets:  48%|█████████████████████████████▋                                | 217/453 [00:52<01:01,  3.87it/s]"
     ]
    },
    {
     "name": "stdout",
     "output_type": "stream",
     "text": [
      "Protein 3W02 embedded and saved to /zhome/c9/0/203261/DBL046_PP_osaul/DBL046_PP_osaul/tmp/data/PPint_DB/ESM_C_embeddings/3W02_A.npy\n",
      "Protein 3W02 embedded and saved to /zhome/c9/0/203261/DBL046_PP_osaul/DBL046_PP_osaul/tmp/data/PPint_DB/ESM_C_embeddings/3W02_B.npy\n"
     ]
    },
    {
     "name": "stderr",
     "output_type": "stream",
     "text": [
      "Embedding targets:  48%|█████████████████████████████▊                                | 218/453 [00:52<00:58,  4.04it/s]"
     ]
    },
    {
     "name": "stdout",
     "output_type": "stream",
     "text": [
      "Protein 1VI9 embedded and saved to /zhome/c9/0/203261/DBL046_PP_osaul/DBL046_PP_osaul/tmp/data/PPint_DB/ESM_C_embeddings/1VI9_A.npy\n",
      "Protein 1VI9 embedded and saved to /zhome/c9/0/203261/DBL046_PP_osaul/DBL046_PP_osaul/tmp/data/PPint_DB/ESM_C_embeddings/1VI9_B.npy\n",
      "Protein 2A9F embedded and saved to /zhome/c9/0/203261/DBL046_PP_osaul/DBL046_PP_osaul/tmp/data/PPint_DB/ESM_C_embeddings/2A9F_A.npy\n"
     ]
    },
    {
     "name": "stderr",
     "output_type": "stream",
     "text": [
      "Embedding targets:  48%|█████████████████████████████▉                                | 219/453 [00:53<01:10,  3.33it/s]"
     ]
    },
    {
     "name": "stdout",
     "output_type": "stream",
     "text": [
      "Protein 2A9F embedded and saved to /zhome/c9/0/203261/DBL046_PP_osaul/DBL046_PP_osaul/tmp/data/PPint_DB/ESM_C_embeddings/2A9F_B.npy\n",
      "Protein 5UK5 embedded and saved to /zhome/c9/0/203261/DBL046_PP_osaul/DBL046_PP_osaul/tmp/data/PPint_DB/ESM_C_embeddings/5UK5_A.npy\n"
     ]
    },
    {
     "name": "stderr",
     "output_type": "stream",
     "text": [
      "Embedding targets:  49%|██████████████████████████████                                | 220/453 [00:53<01:12,  3.19it/s]"
     ]
    },
    {
     "name": "stdout",
     "output_type": "stream",
     "text": [
      "Protein 5UK5 embedded and saved to /zhome/c9/0/203261/DBL046_PP_osaul/DBL046_PP_osaul/tmp/data/PPint_DB/ESM_C_embeddings/5UK5_B.npy\n",
      "Protein 1QUP embedded and saved to /zhome/c9/0/203261/DBL046_PP_osaul/DBL046_PP_osaul/tmp/data/PPint_DB/ESM_C_embeddings/1QUP_A.npy\n"
     ]
    },
    {
     "name": "stderr",
     "output_type": "stream",
     "text": [
      "Embedding targets:  49%|██████████████████████████████▏                               | 221/453 [00:53<01:07,  3.45it/s]"
     ]
    },
    {
     "name": "stdout",
     "output_type": "stream",
     "text": [
      "Protein 1QUP embedded and saved to /zhome/c9/0/203261/DBL046_PP_osaul/DBL046_PP_osaul/tmp/data/PPint_DB/ESM_C_embeddings/1QUP_B.npy\n",
      "Protein 7BUU embedded and saved to /zhome/c9/0/203261/DBL046_PP_osaul/DBL046_PP_osaul/tmp/data/PPint_DB/ESM_C_embeddings/7BUU_A.npy\n"
     ]
    },
    {
     "name": "stderr",
     "output_type": "stream",
     "text": [
      "Embedding targets:  49%|██████████████████████████████▍                               | 222/453 [00:54<01:05,  3.55it/s]"
     ]
    },
    {
     "name": "stdout",
     "output_type": "stream",
     "text": [
      "Protein 7BUU embedded and saved to /zhome/c9/0/203261/DBL046_PP_osaul/DBL046_PP_osaul/tmp/data/PPint_DB/ESM_C_embeddings/7BUU_B.npy\n",
      "Protein 3VV2 embedded and saved to /zhome/c9/0/203261/DBL046_PP_osaul/DBL046_PP_osaul/tmp/data/PPint_DB/ESM_C_embeddings/3VV2_A.npy\n"
     ]
    },
    {
     "name": "stderr",
     "output_type": "stream",
     "text": [
      "Embedding targets:  49%|██████████████████████████████▋                               | 224/453 [00:54<00:55,  4.13it/s]"
     ]
    },
    {
     "name": "stdout",
     "output_type": "stream",
     "text": [
      "Protein 3VV2 embedded and saved to /zhome/c9/0/203261/DBL046_PP_osaul/DBL046_PP_osaul/tmp/data/PPint_DB/ESM_C_embeddings/3VV2_B.npy\n",
      "Protein 6HG7 embedded and saved to /zhome/c9/0/203261/DBL046_PP_osaul/DBL046_PP_osaul/tmp/data/PPint_DB/ESM_C_embeddings/6HG7_A.npy\n",
      "Protein 6HG7 embedded and saved to /zhome/c9/0/203261/DBL046_PP_osaul/DBL046_PP_osaul/tmp/data/PPint_DB/ESM_C_embeddings/6HG7_B.npy\n"
     ]
    },
    {
     "name": "stderr",
     "output_type": "stream",
     "text": [
      "Embedding targets:  50%|██████████████████████████████▊                               | 225/453 [00:54<00:57,  3.95it/s]"
     ]
    },
    {
     "name": "stdout",
     "output_type": "stream",
     "text": [
      "Protein 2I7G embedded and saved to /zhome/c9/0/203261/DBL046_PP_osaul/DBL046_PP_osaul/tmp/data/PPint_DB/ESM_C_embeddings/2I7G_A.npy\n",
      "Protein 2I7G embedded and saved to /zhome/c9/0/203261/DBL046_PP_osaul/DBL046_PP_osaul/tmp/data/PPint_DB/ESM_C_embeddings/2I7G_B.npy\n"
     ]
    },
    {
     "name": "stderr",
     "output_type": "stream",
     "text": [
      "Embedding targets:  50%|██████████████████████████████▉                               | 226/453 [00:55<00:57,  3.94it/s]"
     ]
    },
    {
     "name": "stdout",
     "output_type": "stream",
     "text": [
      "Protein 1AJ8 embedded and saved to /zhome/c9/0/203261/DBL046_PP_osaul/DBL046_PP_osaul/tmp/data/PPint_DB/ESM_C_embeddings/1AJ8_A.npy\n",
      "Protein 1AJ8 embedded and saved to /zhome/c9/0/203261/DBL046_PP_osaul/DBL046_PP_osaul/tmp/data/PPint_DB/ESM_C_embeddings/1AJ8_B.npy\n"
     ]
    },
    {
     "name": "stderr",
     "output_type": "stream",
     "text": [
      "Embedding targets:  50%|███████████████████████████████                               | 227/453 [00:55<00:53,  4.19it/s]"
     ]
    },
    {
     "name": "stdout",
     "output_type": "stream",
     "text": [
      "Protein 3NE1 embedded and saved to /zhome/c9/0/203261/DBL046_PP_osaul/DBL046_PP_osaul/tmp/data/PPint_DB/ESM_C_embeddings/3NE1_A.npy\n",
      "Protein 3NE1 embedded and saved to /zhome/c9/0/203261/DBL046_PP_osaul/DBL046_PP_osaul/tmp/data/PPint_DB/ESM_C_embeddings/3NE1_B.npy\n",
      "Protein 6OY4 embedded and saved to /zhome/c9/0/203261/DBL046_PP_osaul/DBL046_PP_osaul/tmp/data/PPint_DB/ESM_C_embeddings/6OY4_A.npy\n"
     ]
    },
    {
     "name": "stderr",
     "output_type": "stream",
     "text": [
      "Embedding targets:  50%|███████████████████████████████▏                              | 228/453 [00:55<01:00,  3.69it/s]"
     ]
    },
    {
     "name": "stdout",
     "output_type": "stream",
     "text": [
      "Protein 6OY4 embedded and saved to /zhome/c9/0/203261/DBL046_PP_osaul/DBL046_PP_osaul/tmp/data/PPint_DB/ESM_C_embeddings/6OY4_B.npy\n",
      "Protein 6OY4 embedded and saved to /zhome/c9/0/203261/DBL046_PP_osaul/DBL046_PP_osaul/tmp/data/PPint_DB/ESM_C_embeddings/6OY4_C.npy\n",
      "Protein 6OY4 embedded and saved to /zhome/c9/0/203261/DBL046_PP_osaul/DBL046_PP_osaul/tmp/data/PPint_DB/ESM_C_embeddings/6OY4_D.npy\n",
      "Protein 7U56 embedded and saved to /zhome/c9/0/203261/DBL046_PP_osaul/DBL046_PP_osaul/tmp/data/PPint_DB/ESM_C_embeddings/7U56_A.npy\n"
     ]
    },
    {
     "name": "stderr",
     "output_type": "stream",
     "text": [
      "Embedding targets:  51%|███████████████████████████████▍                              | 230/453 [00:56<01:03,  3.50it/s]"
     ]
    },
    {
     "name": "stdout",
     "output_type": "stream",
     "text": [
      "Protein 7U56 embedded and saved to /zhome/c9/0/203261/DBL046_PP_osaul/DBL046_PP_osaul/tmp/data/PPint_DB/ESM_C_embeddings/7U56_B.npy\n",
      "Protein 5Z8U embedded and saved to /zhome/c9/0/203261/DBL046_PP_osaul/DBL046_PP_osaul/tmp/data/PPint_DB/ESM_C_embeddings/5Z8U_A.npy\n",
      "Protein 5Z8U embedded and saved to /zhome/c9/0/203261/DBL046_PP_osaul/DBL046_PP_osaul/tmp/data/PPint_DB/ESM_C_embeddings/5Z8U_B.npy\n"
     ]
    },
    {
     "name": "stderr",
     "output_type": "stream",
     "text": [
      "Embedding targets:  51%|███████████████████████████████▌                              | 231/453 [00:56<00:56,  3.94it/s]"
     ]
    },
    {
     "name": "stdout",
     "output_type": "stream",
     "text": [
      "Protein 1PRX embedded and saved to /zhome/c9/0/203261/DBL046_PP_osaul/DBL046_PP_osaul/tmp/data/PPint_DB/ESM_C_embeddings/1PRX_A.npy\n",
      "Protein 1PRX embedded and saved to /zhome/c9/0/203261/DBL046_PP_osaul/DBL046_PP_osaul/tmp/data/PPint_DB/ESM_C_embeddings/1PRX_B.npy\n",
      "Protein 2BL2 embedded and saved to /zhome/c9/0/203261/DBL046_PP_osaul/DBL046_PP_osaul/tmp/data/PPint_DB/ESM_C_embeddings/2BL2_A.npy\n"
     ]
    },
    {
     "name": "stderr",
     "output_type": "stream",
     "text": [
      "Embedding targets:  51%|███████████████████████████████▊                              | 232/453 [00:56<00:49,  4.48it/s]"
     ]
    },
    {
     "name": "stdout",
     "output_type": "stream",
     "text": [
      "Protein 2BL2 embedded and saved to /zhome/c9/0/203261/DBL046_PP_osaul/DBL046_PP_osaul/tmp/data/PPint_DB/ESM_C_embeddings/2BL2_B.npy\n",
      "Protein 1WN1 embedded and saved to /zhome/c9/0/203261/DBL046_PP_osaul/DBL046_PP_osaul/tmp/data/PPint_DB/ESM_C_embeddings/1WN1_A.npy\n"
     ]
    },
    {
     "name": "stderr",
     "output_type": "stream",
     "text": [
      "Embedding targets:  51%|███████████████████████████████▉                              | 233/453 [00:56<00:48,  4.54it/s]"
     ]
    },
    {
     "name": "stdout",
     "output_type": "stream",
     "text": [
      "Protein 1WN1 embedded and saved to /zhome/c9/0/203261/DBL046_PP_osaul/DBL046_PP_osaul/tmp/data/PPint_DB/ESM_C_embeddings/1WN1_B.npy\n",
      "Protein 2IVO embedded and saved to /zhome/c9/0/203261/DBL046_PP_osaul/DBL046_PP_osaul/tmp/data/PPint_DB/ESM_C_embeddings/2IVO_A.npy\n"
     ]
    },
    {
     "name": "stderr",
     "output_type": "stream",
     "text": [
      "Embedding targets:  52%|████████████████████████████████▏                             | 235/453 [00:57<00:42,  5.11it/s]"
     ]
    },
    {
     "name": "stdout",
     "output_type": "stream",
     "text": [
      "Protein 2IVO embedded and saved to /zhome/c9/0/203261/DBL046_PP_osaul/DBL046_PP_osaul/tmp/data/PPint_DB/ESM_C_embeddings/2IVO_B.npy\n",
      "Protein 4L3K embedded and saved to /zhome/c9/0/203261/DBL046_PP_osaul/DBL046_PP_osaul/tmp/data/PPint_DB/ESM_C_embeddings/4L3K_A.npy\n",
      "Protein 4L3K embedded and saved to /zhome/c9/0/203261/DBL046_PP_osaul/DBL046_PP_osaul/tmp/data/PPint_DB/ESM_C_embeddings/4L3K_B.npy\n"
     ]
    },
    {
     "name": "stderr",
     "output_type": "stream",
     "text": [
      "Embedding targets:  52%|████████████████████████████████▎                             | 236/453 [00:57<00:38,  5.58it/s]"
     ]
    },
    {
     "name": "stdout",
     "output_type": "stream",
     "text": [
      "Protein 7DN4 embedded and saved to /zhome/c9/0/203261/DBL046_PP_osaul/DBL046_PP_osaul/tmp/data/PPint_DB/ESM_C_embeddings/7DN4_A.npy\n",
      "Protein 7DN4 embedded and saved to /zhome/c9/0/203261/DBL046_PP_osaul/DBL046_PP_osaul/tmp/data/PPint_DB/ESM_C_embeddings/7DN4_B.npy\n"
     ]
    },
    {
     "name": "stderr",
     "output_type": "stream",
     "text": [
      "Embedding targets:  52%|████████████████████████████████▍                             | 237/453 [00:57<00:42,  5.03it/s]"
     ]
    },
    {
     "name": "stdout",
     "output_type": "stream",
     "text": [
      "Protein 1PP2 embedded and saved to /zhome/c9/0/203261/DBL046_PP_osaul/DBL046_PP_osaul/tmp/data/PPint_DB/ESM_C_embeddings/1PP2_A.npy\n",
      "Protein 1PP2 embedded and saved to /zhome/c9/0/203261/DBL046_PP_osaul/DBL046_PP_osaul/tmp/data/PPint_DB/ESM_C_embeddings/1PP2_B.npy\n"
     ]
    },
    {
     "name": "stderr",
     "output_type": "stream",
     "text": [
      "Embedding targets:  53%|████████████████████████████████▌                             | 238/453 [00:57<00:43,  4.98it/s]"
     ]
    },
    {
     "name": "stdout",
     "output_type": "stream",
     "text": [
      "Protein 5N0L embedded and saved to /zhome/c9/0/203261/DBL046_PP_osaul/DBL046_PP_osaul/tmp/data/PPint_DB/ESM_C_embeddings/5N0L_A.npy\n",
      "Protein 5N0L embedded and saved to /zhome/c9/0/203261/DBL046_PP_osaul/DBL046_PP_osaul/tmp/data/PPint_DB/ESM_C_embeddings/5N0L_B.npy\n"
     ]
    },
    {
     "name": "stderr",
     "output_type": "stream",
     "text": [
      "Embedding targets:  53%|████████████████████████████████▋                             | 239/453 [00:58<00:42,  5.01it/s]"
     ]
    },
    {
     "name": "stdout",
     "output_type": "stream",
     "text": [
      "Protein 2VFA embedded and saved to /zhome/c9/0/203261/DBL046_PP_osaul/DBL046_PP_osaul/tmp/data/PPint_DB/ESM_C_embeddings/2VFA_A.npy\n",
      "Protein 2VFA embedded and saved to /zhome/c9/0/203261/DBL046_PP_osaul/DBL046_PP_osaul/tmp/data/PPint_DB/ESM_C_embeddings/2VFA_B.npy\n",
      "Protein 1POV embedded and saved to /zhome/c9/0/203261/DBL046_PP_osaul/DBL046_PP_osaul/tmp/data/PPint_DB/ESM_C_embeddings/1POV_A.npy\n"
     ]
    },
    {
     "name": "stderr",
     "output_type": "stream",
     "text": [
      "Embedding targets:  53%|████████████████████████████████▊                             | 240/453 [00:58<00:41,  5.19it/s]"
     ]
    },
    {
     "name": "stdout",
     "output_type": "stream",
     "text": [
      "Protein 1POV embedded and saved to /zhome/c9/0/203261/DBL046_PP_osaul/DBL046_PP_osaul/tmp/data/PPint_DB/ESM_C_embeddings/1POV_B.npy\n",
      "Protein 3EBB embedded and saved to /zhome/c9/0/203261/DBL046_PP_osaul/DBL046_PP_osaul/tmp/data/PPint_DB/ESM_C_embeddings/3EBB_A.npy\n"
     ]
    },
    {
     "name": "stderr",
     "output_type": "stream",
     "text": [
      "Embedding targets:  53%|████████████████████████████████▉                             | 241/453 [00:58<00:42,  4.96it/s]"
     ]
    },
    {
     "name": "stdout",
     "output_type": "stream",
     "text": [
      "Protein 3EBB embedded and saved to /zhome/c9/0/203261/DBL046_PP_osaul/DBL046_PP_osaul/tmp/data/PPint_DB/ESM_C_embeddings/3EBB_B.npy\n",
      "Protein 3QWU embedded and saved to /zhome/c9/0/203261/DBL046_PP_osaul/DBL046_PP_osaul/tmp/data/PPint_DB/ESM_C_embeddings/3QWU_A.npy\n"
     ]
    },
    {
     "name": "stderr",
     "output_type": "stream",
     "text": [
      "Embedding targets:  54%|█████████████████████████████████▎                            | 243/453 [00:58<00:41,  5.00it/s]"
     ]
    },
    {
     "name": "stdout",
     "output_type": "stream",
     "text": [
      "Protein 3QWU embedded and saved to /zhome/c9/0/203261/DBL046_PP_osaul/DBL046_PP_osaul/tmp/data/PPint_DB/ESM_C_embeddings/3QWU_B.npy\n",
      "Protein 6OFP embedded and saved to /zhome/c9/0/203261/DBL046_PP_osaul/DBL046_PP_osaul/tmp/data/PPint_DB/ESM_C_embeddings/6OFP_A.npy\n",
      "Protein 6OFP embedded and saved to /zhome/c9/0/203261/DBL046_PP_osaul/DBL046_PP_osaul/tmp/data/PPint_DB/ESM_C_embeddings/6OFP_B.npy\n"
     ]
    },
    {
     "name": "stderr",
     "output_type": "stream",
     "text": [
      "Embedding targets:  54%|█████████████████████████████████▍                            | 244/453 [00:59<00:45,  4.62it/s]"
     ]
    },
    {
     "name": "stdout",
     "output_type": "stream",
     "text": [
      "Protein 4KQN embedded and saved to /zhome/c9/0/203261/DBL046_PP_osaul/DBL046_PP_osaul/tmp/data/PPint_DB/ESM_C_embeddings/4KQN_A.npy\n",
      "Protein 4KQN embedded and saved to /zhome/c9/0/203261/DBL046_PP_osaul/DBL046_PP_osaul/tmp/data/PPint_DB/ESM_C_embeddings/4KQN_B.npy\n"
     ]
    },
    {
     "name": "stderr",
     "output_type": "stream",
     "text": [
      "Embedding targets:  54%|█████████████████████████████████▌                            | 245/453 [00:59<00:42,  4.87it/s]"
     ]
    },
    {
     "name": "stdout",
     "output_type": "stream",
     "text": [
      "Protein 1JMK embedded and saved to /zhome/c9/0/203261/DBL046_PP_osaul/DBL046_PP_osaul/tmp/data/PPint_DB/ESM_C_embeddings/1JMK_A.npy\n",
      "Protein 1JMK embedded and saved to /zhome/c9/0/203261/DBL046_PP_osaul/DBL046_PP_osaul/tmp/data/PPint_DB/ESM_C_embeddings/1JMK_B.npy\n",
      "Protein 3MLC embedded and saved to /zhome/c9/0/203261/DBL046_PP_osaul/DBL046_PP_osaul/tmp/data/PPint_DB/ESM_C_embeddings/3MLC_A.npy\n"
     ]
    },
    {
     "name": "stderr",
     "output_type": "stream",
     "text": [
      "Embedding targets:  55%|█████████████████████████████████▊                            | 247/453 [00:59<00:40,  5.10it/s]"
     ]
    },
    {
     "name": "stdout",
     "output_type": "stream",
     "text": [
      "Protein 3MLC embedded and saved to /zhome/c9/0/203261/DBL046_PP_osaul/DBL046_PP_osaul/tmp/data/PPint_DB/ESM_C_embeddings/3MLC_B.npy\n",
      "Protein 5JYQ embedded and saved to /zhome/c9/0/203261/DBL046_PP_osaul/DBL046_PP_osaul/tmp/data/PPint_DB/ESM_C_embeddings/5JYQ_A.npy\n",
      "Protein 5JYQ embedded and saved to /zhome/c9/0/203261/DBL046_PP_osaul/DBL046_PP_osaul/tmp/data/PPint_DB/ESM_C_embeddings/5JYQ_B.npy\n"
     ]
    },
    {
     "name": "stderr",
     "output_type": "stream",
     "text": [
      "Embedding targets:  55%|█████████████████████████████████▉                            | 248/453 [00:59<00:39,  5.16it/s]"
     ]
    },
    {
     "name": "stdout",
     "output_type": "stream",
     "text": [
      "Protein 5MGR embedded and saved to /zhome/c9/0/203261/DBL046_PP_osaul/DBL046_PP_osaul/tmp/data/PPint_DB/ESM_C_embeddings/5MGR_A.npy\n",
      "Protein 5MGR embedded and saved to /zhome/c9/0/203261/DBL046_PP_osaul/DBL046_PP_osaul/tmp/data/PPint_DB/ESM_C_embeddings/5MGR_B.npy\n"
     ]
    },
    {
     "name": "stderr",
     "output_type": "stream",
     "text": [
      "Embedding targets:  55%|██████████████████████████████████                            | 249/453 [01:00<00:39,  5.15it/s]"
     ]
    },
    {
     "name": "stdout",
     "output_type": "stream",
     "text": [
      "Protein 2O3B embedded and saved to /zhome/c9/0/203261/DBL046_PP_osaul/DBL046_PP_osaul/tmp/data/PPint_DB/ESM_C_embeddings/2O3B_A.npy\n",
      "Protein 2O3B embedded and saved to /zhome/c9/0/203261/DBL046_PP_osaul/DBL046_PP_osaul/tmp/data/PPint_DB/ESM_C_embeddings/2O3B_B.npy\n",
      "Protein 3PR7 embedded and saved to /zhome/c9/0/203261/DBL046_PP_osaul/DBL046_PP_osaul/tmp/data/PPint_DB/ESM_C_embeddings/3PR7_A.npy\n"
     ]
    },
    {
     "name": "stderr",
     "output_type": "stream",
     "text": [
      "Embedding targets:  55%|██████████████████████████████████▏                           | 250/453 [01:00<00:43,  4.72it/s]"
     ]
    },
    {
     "name": "stdout",
     "output_type": "stream",
     "text": [
      "Protein 3PR7 embedded and saved to /zhome/c9/0/203261/DBL046_PP_osaul/DBL046_PP_osaul/tmp/data/PPint_DB/ESM_C_embeddings/3PR7_B.npy\n",
      "Protein 7TLR embedded and saved to /zhome/c9/0/203261/DBL046_PP_osaul/DBL046_PP_osaul/tmp/data/PPint_DB/ESM_C_embeddings/7TLR_A.npy\n"
     ]
    },
    {
     "name": "stderr",
     "output_type": "stream",
     "text": [
      "Embedding targets:  55%|██████████████████████████████████▎                           | 251/453 [01:00<00:50,  4.00it/s]"
     ]
    },
    {
     "name": "stdout",
     "output_type": "stream",
     "text": [
      "Protein 7TLR embedded and saved to /zhome/c9/0/203261/DBL046_PP_osaul/DBL046_PP_osaul/tmp/data/PPint_DB/ESM_C_embeddings/7TLR_B.npy\n",
      "Protein 6L1N embedded and saved to /zhome/c9/0/203261/DBL046_PP_osaul/DBL046_PP_osaul/tmp/data/PPint_DB/ESM_C_embeddings/6L1N_A.npy\n"
     ]
    },
    {
     "name": "stderr",
     "output_type": "stream",
     "text": [
      "Embedding targets:  56%|██████████████████████████████████▍                           | 252/453 [01:00<00:52,  3.83it/s]"
     ]
    },
    {
     "name": "stdout",
     "output_type": "stream",
     "text": [
      "Protein 6L1N embedded and saved to /zhome/c9/0/203261/DBL046_PP_osaul/DBL046_PP_osaul/tmp/data/PPint_DB/ESM_C_embeddings/6L1N_B.npy\n",
      "Protein 4MHE embedded and saved to /zhome/c9/0/203261/DBL046_PP_osaul/DBL046_PP_osaul/tmp/data/PPint_DB/ESM_C_embeddings/4MHE_A.npy\n"
     ]
    },
    {
     "name": "stderr",
     "output_type": "stream",
     "text": [
      "Embedding targets:  56%|██████████████████████████████████▋                           | 253/453 [01:01<00:49,  4.08it/s]"
     ]
    },
    {
     "name": "stdout",
     "output_type": "stream",
     "text": [
      "Protein 4MHE embedded and saved to /zhome/c9/0/203261/DBL046_PP_osaul/DBL046_PP_osaul/tmp/data/PPint_DB/ESM_C_embeddings/4MHE_B.npy\n",
      "Protein 3HA4 embedded and saved to /zhome/c9/0/203261/DBL046_PP_osaul/DBL046_PP_osaul/tmp/data/PPint_DB/ESM_C_embeddings/3HA4_A.npy\n"
     ]
    },
    {
     "name": "stderr",
     "output_type": "stream",
     "text": [
      "Embedding targets:  56%|██████████████████████████████████▊                           | 254/453 [01:01<00:47,  4.23it/s]"
     ]
    },
    {
     "name": "stdout",
     "output_type": "stream",
     "text": [
      "Protein 3HA4 embedded and saved to /zhome/c9/0/203261/DBL046_PP_osaul/DBL046_PP_osaul/tmp/data/PPint_DB/ESM_C_embeddings/3HA4_B.npy\n",
      "Protein 5BVP embedded and saved to /zhome/c9/0/203261/DBL046_PP_osaul/DBL046_PP_osaul/tmp/data/PPint_DB/ESM_C_embeddings/5BVP_A.npy\n"
     ]
    },
    {
     "name": "stderr",
     "output_type": "stream",
     "text": [
      "Embedding targets:  57%|███████████████████████████████████                           | 256/453 [01:01<00:42,  4.60it/s]"
     ]
    },
    {
     "name": "stdout",
     "output_type": "stream",
     "text": [
      "Protein 5BVP embedded and saved to /zhome/c9/0/203261/DBL046_PP_osaul/DBL046_PP_osaul/tmp/data/PPint_DB/ESM_C_embeddings/5BVP_B.npy\n",
      "Protein 1WPU embedded and saved to /zhome/c9/0/203261/DBL046_PP_osaul/DBL046_PP_osaul/tmp/data/PPint_DB/ESM_C_embeddings/1WPU_A.npy\n",
      "Protein 1WPU embedded and saved to /zhome/c9/0/203261/DBL046_PP_osaul/DBL046_PP_osaul/tmp/data/PPint_DB/ESM_C_embeddings/1WPU_B.npy\n"
     ]
    },
    {
     "name": "stderr",
     "output_type": "stream",
     "text": [
      "Embedding targets:  57%|███████████████████████████████████▏                          | 257/453 [01:01<00:42,  4.58it/s]"
     ]
    },
    {
     "name": "stdout",
     "output_type": "stream",
     "text": [
      "Protein 7CNS embedded and saved to /zhome/c9/0/203261/DBL046_PP_osaul/DBL046_PP_osaul/tmp/data/PPint_DB/ESM_C_embeddings/7CNS_A.npy\n",
      "Protein 7CNS embedded and saved to /zhome/c9/0/203261/DBL046_PP_osaul/DBL046_PP_osaul/tmp/data/PPint_DB/ESM_C_embeddings/7CNS_B.npy\n"
     ]
    },
    {
     "name": "stderr",
     "output_type": "stream",
     "text": [
      "Embedding targets:  57%|███████████████████████████████████▎                          | 258/453 [01:02<00:45,  4.27it/s]"
     ]
    },
    {
     "name": "stdout",
     "output_type": "stream",
     "text": [
      "Protein 8B1F embedded and saved to /zhome/c9/0/203261/DBL046_PP_osaul/DBL046_PP_osaul/tmp/data/PPint_DB/ESM_C_embeddings/8B1F_A.npy\n",
      "Protein 8B1F embedded and saved to /zhome/c9/0/203261/DBL046_PP_osaul/DBL046_PP_osaul/tmp/data/PPint_DB/ESM_C_embeddings/8B1F_B.npy\n"
     ]
    },
    {
     "name": "stderr",
     "output_type": "stream",
     "text": [
      "Embedding targets:  57%|███████████████████████████████████▍                          | 259/453 [01:02<00:49,  3.93it/s]"
     ]
    },
    {
     "name": "stdout",
     "output_type": "stream",
     "text": [
      "Protein 5LC0 embedded and saved to /zhome/c9/0/203261/DBL046_PP_osaul/DBL046_PP_osaul/tmp/data/PPint_DB/ESM_C_embeddings/5LC0_A.npy\n",
      "Protein 5LC0 embedded and saved to /zhome/c9/0/203261/DBL046_PP_osaul/DBL046_PP_osaul/tmp/data/PPint_DB/ESM_C_embeddings/5LC0_B.npy\n",
      "Protein 4K1F embedded and saved to /zhome/c9/0/203261/DBL046_PP_osaul/DBL046_PP_osaul/tmp/data/PPint_DB/ESM_C_embeddings/4K1F_A.npy\n"
     ]
    },
    {
     "name": "stderr",
     "output_type": "stream",
     "text": [
      "Embedding targets:  57%|███████████████████████████████████▌                          | 260/453 [01:02<00:54,  3.56it/s]"
     ]
    },
    {
     "name": "stdout",
     "output_type": "stream",
     "text": [
      "Protein 4K1F embedded and saved to /zhome/c9/0/203261/DBL046_PP_osaul/DBL046_PP_osaul/tmp/data/PPint_DB/ESM_C_embeddings/4K1F_B.npy\n",
      "Protein 1PNV embedded and saved to /zhome/c9/0/203261/DBL046_PP_osaul/DBL046_PP_osaul/tmp/data/PPint_DB/ESM_C_embeddings/1PNV_A.npy\n"
     ]
    },
    {
     "name": "stderr",
     "output_type": "stream",
     "text": [
      "Embedding targets:  58%|███████████████████████████████████▋                          | 261/453 [01:03<01:04,  2.95it/s]"
     ]
    },
    {
     "name": "stdout",
     "output_type": "stream",
     "text": [
      "Protein 1PNV embedded and saved to /zhome/c9/0/203261/DBL046_PP_osaul/DBL046_PP_osaul/tmp/data/PPint_DB/ESM_C_embeddings/1PNV_B.npy\n",
      "Protein 7TO8 embedded and saved to /zhome/c9/0/203261/DBL046_PP_osaul/DBL046_PP_osaul/tmp/data/PPint_DB/ESM_C_embeddings/7TO8_A.npy\n"
     ]
    },
    {
     "name": "stderr",
     "output_type": "stream",
     "text": [
      "Embedding targets:  58%|███████████████████████████████████▊                          | 262/453 [01:03<01:02,  3.08it/s]"
     ]
    },
    {
     "name": "stdout",
     "output_type": "stream",
     "text": [
      "Protein 7TO8 embedded and saved to /zhome/c9/0/203261/DBL046_PP_osaul/DBL046_PP_osaul/tmp/data/PPint_DB/ESM_C_embeddings/7TO8_B.npy\n",
      "Protein 5U63 embedded and saved to /zhome/c9/0/203261/DBL046_PP_osaul/DBL046_PP_osaul/tmp/data/PPint_DB/ESM_C_embeddings/5U63_A.npy\n"
     ]
    },
    {
     "name": "stderr",
     "output_type": "stream",
     "text": [
      "Embedding targets:  58%|████████████████████████████████████▏                         | 264/453 [01:04<00:49,  3.81it/s]"
     ]
    },
    {
     "name": "stdout",
     "output_type": "stream",
     "text": [
      "Protein 5U63 embedded and saved to /zhome/c9/0/203261/DBL046_PP_osaul/DBL046_PP_osaul/tmp/data/PPint_DB/ESM_C_embeddings/5U63_B.npy\n",
      "Protein 1KKC embedded and saved to /zhome/c9/0/203261/DBL046_PP_osaul/DBL046_PP_osaul/tmp/data/PPint_DB/ESM_C_embeddings/1KKC_A.npy\n",
      "Protein 1KKC embedded and saved to /zhome/c9/0/203261/DBL046_PP_osaul/DBL046_PP_osaul/tmp/data/PPint_DB/ESM_C_embeddings/1KKC_B.npy\n"
     ]
    },
    {
     "name": "stderr",
     "output_type": "stream",
     "text": [
      "Embedding targets:  58%|████████████████████████████████████▎                         | 265/453 [01:04<00:43,  4.36it/s]"
     ]
    },
    {
     "name": "stdout",
     "output_type": "stream",
     "text": [
      "Protein 1GMW embedded and saved to /zhome/c9/0/203261/DBL046_PP_osaul/DBL046_PP_osaul/tmp/data/PPint_DB/ESM_C_embeddings/1GMW_A.npy\n",
      "Protein 1GMW embedded and saved to /zhome/c9/0/203261/DBL046_PP_osaul/DBL046_PP_osaul/tmp/data/PPint_DB/ESM_C_embeddings/1GMW_B.npy\n",
      "Protein 8WBQ embedded and saved to /zhome/c9/0/203261/DBL046_PP_osaul/DBL046_PP_osaul/tmp/data/PPint_DB/ESM_C_embeddings/8WBQ_A.npy\n"
     ]
    },
    {
     "name": "stderr",
     "output_type": "stream",
     "text": [
      "Embedding targets:  59%|████████████████████████████████████▌                         | 267/453 [01:04<00:38,  4.87it/s]"
     ]
    },
    {
     "name": "stdout",
     "output_type": "stream",
     "text": [
      "Protein 8WBQ embedded and saved to /zhome/c9/0/203261/DBL046_PP_osaul/DBL046_PP_osaul/tmp/data/PPint_DB/ESM_C_embeddings/8WBQ_B.npy\n",
      "Protein 8AD2 embedded and saved to /zhome/c9/0/203261/DBL046_PP_osaul/DBL046_PP_osaul/tmp/data/PPint_DB/ESM_C_embeddings/8AD2_A.npy\n",
      "Protein 8AD2 embedded and saved to /zhome/c9/0/203261/DBL046_PP_osaul/DBL046_PP_osaul/tmp/data/PPint_DB/ESM_C_embeddings/8AD2_B.npy\n"
     ]
    },
    {
     "name": "stderr",
     "output_type": "stream",
     "text": [
      "Embedding targets:  59%|████████████████████████████████████▋                         | 268/453 [01:04<00:44,  4.20it/s]"
     ]
    },
    {
     "name": "stdout",
     "output_type": "stream",
     "text": [
      "Protein 8USO embedded and saved to /zhome/c9/0/203261/DBL046_PP_osaul/DBL046_PP_osaul/tmp/data/PPint_DB/ESM_C_embeddings/8USO_A.npy\n",
      "Protein 8USO embedded and saved to /zhome/c9/0/203261/DBL046_PP_osaul/DBL046_PP_osaul/tmp/data/PPint_DB/ESM_C_embeddings/8USO_B.npy\n"
     ]
    },
    {
     "name": "stderr",
     "output_type": "stream",
     "text": [
      "Embedding targets:  59%|████████████████████████████████████▊                         | 269/453 [01:05<00:39,  4.69it/s]"
     ]
    },
    {
     "name": "stdout",
     "output_type": "stream",
     "text": [
      "Protein 7QBO embedded and saved to /zhome/c9/0/203261/DBL046_PP_osaul/DBL046_PP_osaul/tmp/data/PPint_DB/ESM_C_embeddings/7QBO_A.npy\n",
      "Protein 7QBO embedded and saved to /zhome/c9/0/203261/DBL046_PP_osaul/DBL046_PP_osaul/tmp/data/PPint_DB/ESM_C_embeddings/7QBO_B.npy\n"
     ]
    },
    {
     "name": "stderr",
     "output_type": "stream",
     "text": [
      "Embedding targets:  60%|████████████████████████████████████▉                         | 270/453 [01:05<00:40,  4.50it/s]"
     ]
    },
    {
     "name": "stdout",
     "output_type": "stream",
     "text": [
      "Protein 4PW1 embedded and saved to /zhome/c9/0/203261/DBL046_PP_osaul/DBL046_PP_osaul/tmp/data/PPint_DB/ESM_C_embeddings/4PW1_A.npy\n",
      "Protein 4PW1 embedded and saved to /zhome/c9/0/203261/DBL046_PP_osaul/DBL046_PP_osaul/tmp/data/PPint_DB/ESM_C_embeddings/4PW1_B.npy\n"
     ]
    },
    {
     "name": "stderr",
     "output_type": "stream",
     "text": [
      "Embedding targets:  60%|█████████████████████████████████████                         | 271/453 [01:05<00:40,  4.55it/s]"
     ]
    },
    {
     "name": "stdout",
     "output_type": "stream",
     "text": [
      "Protein 1NF4 embedded and saved to /zhome/c9/0/203261/DBL046_PP_osaul/DBL046_PP_osaul/tmp/data/PPint_DB/ESM_C_embeddings/1NF4_A.npy\n",
      "Protein 1NF4 embedded and saved to /zhome/c9/0/203261/DBL046_PP_osaul/DBL046_PP_osaul/tmp/data/PPint_DB/ESM_C_embeddings/1NF4_B.npy\n",
      "Protein 3MMC embedded and saved to /zhome/c9/0/203261/DBL046_PP_osaul/DBL046_PP_osaul/tmp/data/PPint_DB/ESM_C_embeddings/3MMC_A.npy\n"
     ]
    },
    {
     "name": "stderr",
     "output_type": "stream",
     "text": [
      "Embedding targets:  60%|█████████████████████████████████████▎                        | 273/453 [01:05<00:37,  4.79it/s]"
     ]
    },
    {
     "name": "stdout",
     "output_type": "stream",
     "text": [
      "Protein 3MMC embedded and saved to /zhome/c9/0/203261/DBL046_PP_osaul/DBL046_PP_osaul/tmp/data/PPint_DB/ESM_C_embeddings/3MMC_B.npy\n",
      "Protein 4F0Z embedded and saved to /zhome/c9/0/203261/DBL046_PP_osaul/DBL046_PP_osaul/tmp/data/PPint_DB/ESM_C_embeddings/4F0Z_A.npy\n",
      "Protein 4F0Z embedded and saved to /zhome/c9/0/203261/DBL046_PP_osaul/DBL046_PP_osaul/tmp/data/PPint_DB/ESM_C_embeddings/4F0Z_B.npy\n"
     ]
    },
    {
     "name": "stderr",
     "output_type": "stream",
     "text": [
      "Embedding targets:  60%|█████████████████████████████████████▌                        | 274/453 [01:06<00:38,  4.68it/s]"
     ]
    },
    {
     "name": "stdout",
     "output_type": "stream",
     "text": [
      "Protein 3P0U embedded and saved to /zhome/c9/0/203261/DBL046_PP_osaul/DBL046_PP_osaul/tmp/data/PPint_DB/ESM_C_embeddings/3P0U_A.npy\n",
      "Protein 3P0U embedded and saved to /zhome/c9/0/203261/DBL046_PP_osaul/DBL046_PP_osaul/tmp/data/PPint_DB/ESM_C_embeddings/3P0U_B.npy\n"
     ]
    },
    {
     "name": "stderr",
     "output_type": "stream",
     "text": [
      "Embedding targets:  61%|█████████████████████████████████████▋                        | 275/453 [01:06<00:39,  4.49it/s]"
     ]
    },
    {
     "name": "stdout",
     "output_type": "stream",
     "text": [
      "Protein 4WZH embedded and saved to /zhome/c9/0/203261/DBL046_PP_osaul/DBL046_PP_osaul/tmp/data/PPint_DB/ESM_C_embeddings/4WZH_A.npy\n",
      "Protein 4WZH embedded and saved to /zhome/c9/0/203261/DBL046_PP_osaul/DBL046_PP_osaul/tmp/data/PPint_DB/ESM_C_embeddings/4WZH_B.npy\n"
     ]
    },
    {
     "name": "stderr",
     "output_type": "stream",
     "text": [
      "Embedding targets:  61%|█████████████████████████████████████▊                        | 276/453 [01:06<00:44,  3.96it/s]"
     ]
    },
    {
     "name": "stdout",
     "output_type": "stream",
     "text": [
      "Protein 2POZ embedded and saved to /zhome/c9/0/203261/DBL046_PP_osaul/DBL046_PP_osaul/tmp/data/PPint_DB/ESM_C_embeddings/2POZ_A.npy\n",
      "Protein 2POZ embedded and saved to /zhome/c9/0/203261/DBL046_PP_osaul/DBL046_PP_osaul/tmp/data/PPint_DB/ESM_C_embeddings/2POZ_B.npy\n"
     ]
    },
    {
     "name": "stderr",
     "output_type": "stream",
     "text": [
      "Embedding targets:  61%|█████████████████████████████████████▉                        | 277/453 [01:06<00:39,  4.46it/s]"
     ]
    },
    {
     "name": "stdout",
     "output_type": "stream",
     "text": [
      "Protein 3D4R embedded and saved to /zhome/c9/0/203261/DBL046_PP_osaul/DBL046_PP_osaul/tmp/data/PPint_DB/ESM_C_embeddings/3D4R_A.npy\n",
      "Protein 3D4R embedded and saved to /zhome/c9/0/203261/DBL046_PP_osaul/DBL046_PP_osaul/tmp/data/PPint_DB/ESM_C_embeddings/3D4R_B.npy\n",
      "Protein 1NUN embedded and saved to /zhome/c9/0/203261/DBL046_PP_osaul/DBL046_PP_osaul/tmp/data/PPint_DB/ESM_C_embeddings/1NUN_A.npy\n"
     ]
    },
    {
     "name": "stderr",
     "output_type": "stream",
     "text": [
      "Embedding targets:  61%|██████████████████████████████████████                        | 278/453 [01:07<00:37,  4.65it/s]"
     ]
    },
    {
     "name": "stdout",
     "output_type": "stream",
     "text": [
      "Protein 1NUN embedded and saved to /zhome/c9/0/203261/DBL046_PP_osaul/DBL046_PP_osaul/tmp/data/PPint_DB/ESM_C_embeddings/1NUN_B.npy\n",
      "Protein 4R67 embedded and saved to /zhome/c9/0/203261/DBL046_PP_osaul/DBL046_PP_osaul/tmp/data/PPint_DB/ESM_C_embeddings/4R67_A.npy\n"
     ]
    },
    {
     "name": "stderr",
     "output_type": "stream",
     "text": [
      "Embedding targets:  62%|██████████████████████████████████████▎                       | 280/453 [01:07<00:35,  4.90it/s]"
     ]
    },
    {
     "name": "stdout",
     "output_type": "stream",
     "text": [
      "Protein 4R67 embedded and saved to /zhome/c9/0/203261/DBL046_PP_osaul/DBL046_PP_osaul/tmp/data/PPint_DB/ESM_C_embeddings/4R67_B.npy\n",
      "Protein 9D6J embedded and saved to /zhome/c9/0/203261/DBL046_PP_osaul/DBL046_PP_osaul/tmp/data/PPint_DB/ESM_C_embeddings/9D6J_A.npy\n",
      "Protein 9D6J embedded and saved to /zhome/c9/0/203261/DBL046_PP_osaul/DBL046_PP_osaul/tmp/data/PPint_DB/ESM_C_embeddings/9D6J_B.npy\n"
     ]
    },
    {
     "name": "stderr",
     "output_type": "stream",
     "text": [
      "Embedding targets:  62%|██████████████████████████████████████▍                       | 281/453 [01:07<00:34,  5.00it/s]"
     ]
    },
    {
     "name": "stdout",
     "output_type": "stream",
     "text": [
      "Protein 5WW5 embedded and saved to /zhome/c9/0/203261/DBL046_PP_osaul/DBL046_PP_osaul/tmp/data/PPint_DB/ESM_C_embeddings/5WW5_A.npy\n",
      "Protein 5WW5 embedded and saved to /zhome/c9/0/203261/DBL046_PP_osaul/DBL046_PP_osaul/tmp/data/PPint_DB/ESM_C_embeddings/5WW5_B.npy\n",
      "Protein 7SBA embedded and saved to /zhome/c9/0/203261/DBL046_PP_osaul/DBL046_PP_osaul/tmp/data/PPint_DB/ESM_C_embeddings/7SBA_A.npy\n",
      "Protein 7SBA embedded and saved to /zhome/c9/0/203261/DBL046_PP_osaul/DBL046_PP_osaul/tmp/data/PPint_DB/ESM_C_embeddings/7SBA_B.npy\n"
     ]
    },
    {
     "name": "stderr",
     "output_type": "stream",
     "text": [
      "Embedding targets:  62%|██████████████████████████████████████▌                       | 282/453 [01:08<00:44,  3.80it/s]"
     ]
    },
    {
     "name": "stdout",
     "output_type": "stream",
     "text": [
      "Protein 7SBA embedded and saved to /zhome/c9/0/203261/DBL046_PP_osaul/DBL046_PP_osaul/tmp/data/PPint_DB/ESM_C_embeddings/7SBA_C.npy\n",
      "Protein 7SBA embedded and saved to /zhome/c9/0/203261/DBL046_PP_osaul/DBL046_PP_osaul/tmp/data/PPint_DB/ESM_C_embeddings/7SBA_D.npy\n",
      "Protein 2QHR embedded and saved to /zhome/c9/0/203261/DBL046_PP_osaul/DBL046_PP_osaul/tmp/data/PPint_DB/ESM_C_embeddings/2QHR_A.npy\n"
     ]
    },
    {
     "name": "stderr",
     "output_type": "stream",
     "text": [
      "Embedding targets:  62%|██████████████████████████████████████▋                       | 283/453 [01:08<00:40,  4.17it/s]"
     ]
    },
    {
     "name": "stdout",
     "output_type": "stream",
     "text": [
      "Protein 2QHR embedded and saved to /zhome/c9/0/203261/DBL046_PP_osaul/DBL046_PP_osaul/tmp/data/PPint_DB/ESM_C_embeddings/2QHR_B.npy\n",
      "Protein 1HLE embedded and saved to /zhome/c9/0/203261/DBL046_PP_osaul/DBL046_PP_osaul/tmp/data/PPint_DB/ESM_C_embeddings/1HLE_A.npy\n"
     ]
    },
    {
     "name": "stderr",
     "output_type": "stream",
     "text": [
      "Embedding targets:  63%|███████████████████████████████████████                       | 285/453 [01:08<00:34,  4.93it/s]"
     ]
    },
    {
     "name": "stdout",
     "output_type": "stream",
     "text": [
      "Protein 1HLE embedded and saved to /zhome/c9/0/203261/DBL046_PP_osaul/DBL046_PP_osaul/tmp/data/PPint_DB/ESM_C_embeddings/1HLE_B.npy\n",
      "Protein 7WJT embedded and saved to /zhome/c9/0/203261/DBL046_PP_osaul/DBL046_PP_osaul/tmp/data/PPint_DB/ESM_C_embeddings/7WJT_A.npy\n",
      "Protein 7WJT embedded and saved to /zhome/c9/0/203261/DBL046_PP_osaul/DBL046_PP_osaul/tmp/data/PPint_DB/ESM_C_embeddings/7WJT_B.npy\n"
     ]
    },
    {
     "name": "stderr",
     "output_type": "stream",
     "text": [
      "Embedding targets:  63%|███████████████████████████████████████▏                      | 286/453 [01:08<00:34,  4.79it/s]"
     ]
    },
    {
     "name": "stdout",
     "output_type": "stream",
     "text": [
      "Protein 3LY1 embedded and saved to /zhome/c9/0/203261/DBL046_PP_osaul/DBL046_PP_osaul/tmp/data/PPint_DB/ESM_C_embeddings/3LY1_A.npy\n",
      "Protein 3LY1 embedded and saved to /zhome/c9/0/203261/DBL046_PP_osaul/DBL046_PP_osaul/tmp/data/PPint_DB/ESM_C_embeddings/3LY1_B.npy\n"
     ]
    },
    {
     "name": "stderr",
     "output_type": "stream",
     "text": [
      "Embedding targets:  63%|███████████████████████████████████████▎                      | 287/453 [01:09<00:35,  4.63it/s]"
     ]
    },
    {
     "name": "stdout",
     "output_type": "stream",
     "text": [
      "Protein 5Z5K embedded and saved to /zhome/c9/0/203261/DBL046_PP_osaul/DBL046_PP_osaul/tmp/data/PPint_DB/ESM_C_embeddings/5Z5K_A.npy\n",
      "Protein 5Z5K embedded and saved to /zhome/c9/0/203261/DBL046_PP_osaul/DBL046_PP_osaul/tmp/data/PPint_DB/ESM_C_embeddings/5Z5K_B.npy\n",
      "Protein 3KEX embedded and saved to /zhome/c9/0/203261/DBL046_PP_osaul/DBL046_PP_osaul/tmp/data/PPint_DB/ESM_C_embeddings/3KEX_A.npy\n"
     ]
    },
    {
     "name": "stderr",
     "output_type": "stream",
     "text": [
      "Embedding targets:  64%|███████████████████████████████████████▍                      | 288/453 [01:09<00:42,  3.84it/s]"
     ]
    },
    {
     "name": "stdout",
     "output_type": "stream",
     "text": [
      "Protein 3KEX embedded and saved to /zhome/c9/0/203261/DBL046_PP_osaul/DBL046_PP_osaul/tmp/data/PPint_DB/ESM_C_embeddings/3KEX_B.npy\n",
      "Protein 3E10 embedded and saved to /zhome/c9/0/203261/DBL046_PP_osaul/DBL046_PP_osaul/tmp/data/PPint_DB/ESM_C_embeddings/3E10_A.npy\n"
     ]
    },
    {
     "name": "stderr",
     "output_type": "stream",
     "text": [
      "Embedding targets:  64%|███████████████████████████████████████▌                      | 289/453 [01:09<00:42,  3.81it/s]"
     ]
    },
    {
     "name": "stdout",
     "output_type": "stream",
     "text": [
      "Protein 3E10 embedded and saved to /zhome/c9/0/203261/DBL046_PP_osaul/DBL046_PP_osaul/tmp/data/PPint_DB/ESM_C_embeddings/3E10_B.npy\n",
      "Protein 6O7H embedded and saved to /zhome/c9/0/203261/DBL046_PP_osaul/DBL046_PP_osaul/tmp/data/PPint_DB/ESM_C_embeddings/6O7H_A.npy\n"
     ]
    },
    {
     "name": "stderr",
     "output_type": "stream",
     "text": [
      "Embedding targets:  64%|███████████████████████████████████████▋                      | 290/453 [01:09<00:40,  4.00it/s]"
     ]
    },
    {
     "name": "stdout",
     "output_type": "stream",
     "text": [
      "Protein 6O7H embedded and saved to /zhome/c9/0/203261/DBL046_PP_osaul/DBL046_PP_osaul/tmp/data/PPint_DB/ESM_C_embeddings/6O7H_B.npy\n"
     ]
    },
    {
     "name": "stderr",
     "output_type": "stream",
     "text": [
      "Embedding targets:  64%|███████████████████████████████████████▊                      | 291/453 [01:10<00:49,  3.27it/s]"
     ]
    },
    {
     "name": "stdout",
     "output_type": "stream",
     "text": [
      "Protein 2QJ8 embedded and saved to /zhome/c9/0/203261/DBL046_PP_osaul/DBL046_PP_osaul/tmp/data/PPint_DB/ESM_C_embeddings/2QJ8_A.npy\n",
      "Protein 2QJ8 embedded and saved to /zhome/c9/0/203261/DBL046_PP_osaul/DBL046_PP_osaul/tmp/data/PPint_DB/ESM_C_embeddings/2QJ8_B.npy\n"
     ]
    },
    {
     "name": "stderr",
     "output_type": "stream",
     "text": [
      "Embedding targets:  64%|███████████████████████████████████████▉                      | 292/453 [01:10<00:48,  3.33it/s]"
     ]
    },
    {
     "name": "stdout",
     "output_type": "stream",
     "text": [
      "Protein 6HHC embedded and saved to /zhome/c9/0/203261/DBL046_PP_osaul/DBL046_PP_osaul/tmp/data/PPint_DB/ESM_C_embeddings/6HHC_A.npy\n",
      "Protein 6HHC embedded and saved to /zhome/c9/0/203261/DBL046_PP_osaul/DBL046_PP_osaul/tmp/data/PPint_DB/ESM_C_embeddings/6HHC_B.npy\n"
     ]
    },
    {
     "name": "stderr",
     "output_type": "stream",
     "text": [
      "Embedding targets:  65%|████████████████████████████████████████                      | 293/453 [01:10<00:50,  3.15it/s]"
     ]
    },
    {
     "name": "stdout",
     "output_type": "stream",
     "text": [
      "Protein 3ITF embedded and saved to /zhome/c9/0/203261/DBL046_PP_osaul/DBL046_PP_osaul/tmp/data/PPint_DB/ESM_C_embeddings/3ITF_A.npy\n",
      "Protein 3ITF embedded and saved to /zhome/c9/0/203261/DBL046_PP_osaul/DBL046_PP_osaul/tmp/data/PPint_DB/ESM_C_embeddings/3ITF_B.npy\n"
     ]
    },
    {
     "name": "stderr",
     "output_type": "stream",
     "text": [
      "Embedding targets:  65%|████████████████████████████████████████▏                     | 294/453 [01:11<00:46,  3.39it/s]"
     ]
    },
    {
     "name": "stdout",
     "output_type": "stream",
     "text": [
      "Protein 8S86 embedded and saved to /zhome/c9/0/203261/DBL046_PP_osaul/DBL046_PP_osaul/tmp/data/PPint_DB/ESM_C_embeddings/8S86_A.npy\n",
      "Protein 8S86 embedded and saved to /zhome/c9/0/203261/DBL046_PP_osaul/DBL046_PP_osaul/tmp/data/PPint_DB/ESM_C_embeddings/8S86_B.npy\n",
      "Protein 7AL7 embedded and saved to /zhome/c9/0/203261/DBL046_PP_osaul/DBL046_PP_osaul/tmp/data/PPint_DB/ESM_C_embeddings/7AL7_A.npy\n"
     ]
    },
    {
     "name": "stderr",
     "output_type": "stream",
     "text": [
      "Embedding targets:  65%|████████████████████████████████████████▍                     | 295/453 [01:11<00:39,  4.04it/s]"
     ]
    },
    {
     "name": "stdout",
     "output_type": "stream",
     "text": [
      "Protein 7AL7 embedded and saved to /zhome/c9/0/203261/DBL046_PP_osaul/DBL046_PP_osaul/tmp/data/PPint_DB/ESM_C_embeddings/7AL7_B.npy\n",
      "Protein 8ZP7 embedded and saved to /zhome/c9/0/203261/DBL046_PP_osaul/DBL046_PP_osaul/tmp/data/PPint_DB/ESM_C_embeddings/8ZP7_A.npy\n",
      "Protein 8ZP7 embedded and saved to /zhome/c9/0/203261/DBL046_PP_osaul/DBL046_PP_osaul/tmp/data/PPint_DB/ESM_C_embeddings/8ZP7_B.npy\n",
      "Protein 8ZP7 embedded and saved to /zhome/c9/0/203261/DBL046_PP_osaul/DBL046_PP_osaul/tmp/data/PPint_DB/ESM_C_embeddings/8ZP7_C.npy\n",
      "Protein 8ZP7 embedded and saved to /zhome/c9/0/203261/DBL046_PP_osaul/DBL046_PP_osaul/tmp/data/PPint_DB/ESM_C_embeddings/8ZP7_D.npy\n"
     ]
    },
    {
     "name": "stderr",
     "output_type": "stream",
     "text": [
      "Embedding targets:  65%|████████████████████████████████████████▌                     | 296/453 [01:12<01:04,  2.42it/s]"
     ]
    },
    {
     "name": "stdout",
     "output_type": "stream",
     "text": [
      "Protein 8ZP7 embedded and saved to /zhome/c9/0/203261/DBL046_PP_osaul/DBL046_PP_osaul/tmp/data/PPint_DB/ESM_C_embeddings/8ZP7_E.npy\n",
      "Protein 8ZP7 embedded and saved to /zhome/c9/0/203261/DBL046_PP_osaul/DBL046_PP_osaul/tmp/data/PPint_DB/ESM_C_embeddings/8ZP7_F.npy\n"
     ]
    },
    {
     "name": "stderr",
     "output_type": "stream",
     "text": [
      "Embedding targets:  66%|████████████████████████████████████████▋                     | 297/453 [01:12<00:57,  2.72it/s]"
     ]
    },
    {
     "name": "stdout",
     "output_type": "stream",
     "text": [
      "Protein 2Z1M embedded and saved to /zhome/c9/0/203261/DBL046_PP_osaul/DBL046_PP_osaul/tmp/data/PPint_DB/ESM_C_embeddings/2Z1M_A.npy\n",
      "Protein 2Z1M embedded and saved to /zhome/c9/0/203261/DBL046_PP_osaul/DBL046_PP_osaul/tmp/data/PPint_DB/ESM_C_embeddings/2Z1M_B.npy\n",
      "Protein 5ZTC embedded and saved to /zhome/c9/0/203261/DBL046_PP_osaul/DBL046_PP_osaul/tmp/data/PPint_DB/ESM_C_embeddings/5ZTC_A.npy\n"
     ]
    },
    {
     "name": "stderr",
     "output_type": "stream",
     "text": [
      "Embedding targets:  66%|████████████████████████████████████████▊                     | 298/453 [01:12<00:48,  3.20it/s]"
     ]
    },
    {
     "name": "stdout",
     "output_type": "stream",
     "text": [
      "Protein 5ZTC embedded and saved to /zhome/c9/0/203261/DBL046_PP_osaul/DBL046_PP_osaul/tmp/data/PPint_DB/ESM_C_embeddings/5ZTC_B.npy\n",
      "Protein 8IYI embedded and saved to /zhome/c9/0/203261/DBL046_PP_osaul/DBL046_PP_osaul/tmp/data/PPint_DB/ESM_C_embeddings/8IYI_A.npy\n"
     ]
    },
    {
     "name": "stderr",
     "output_type": "stream",
     "text": [
      "Embedding targets:  66%|█████████████████████████████████████████                     | 300/453 [01:12<00:37,  4.04it/s]"
     ]
    },
    {
     "name": "stdout",
     "output_type": "stream",
     "text": [
      "Protein 8IYI embedded and saved to /zhome/c9/0/203261/DBL046_PP_osaul/DBL046_PP_osaul/tmp/data/PPint_DB/ESM_C_embeddings/8IYI_B.npy\n",
      "Protein 1YVO embedded and saved to /zhome/c9/0/203261/DBL046_PP_osaul/DBL046_PP_osaul/tmp/data/PPint_DB/ESM_C_embeddings/1YVO_A.npy\n",
      "Protein 1YVO embedded and saved to /zhome/c9/0/203261/DBL046_PP_osaul/DBL046_PP_osaul/tmp/data/PPint_DB/ESM_C_embeddings/1YVO_B.npy\n"
     ]
    },
    {
     "name": "stderr",
     "output_type": "stream",
     "text": [
      "Embedding targets:  66%|█████████████████████████████████████████▏                    | 301/453 [01:13<00:35,  4.25it/s]"
     ]
    },
    {
     "name": "stdout",
     "output_type": "stream",
     "text": [
      "Protein 8BC4 embedded and saved to /zhome/c9/0/203261/DBL046_PP_osaul/DBL046_PP_osaul/tmp/data/PPint_DB/ESM_C_embeddings/8BC4_A.npy\n",
      "Protein 8BC4 embedded and saved to /zhome/c9/0/203261/DBL046_PP_osaul/DBL046_PP_osaul/tmp/data/PPint_DB/ESM_C_embeddings/8BC4_B.npy\n"
     ]
    },
    {
     "name": "stderr",
     "output_type": "stream",
     "text": [
      "Embedding targets:  67%|█████████████████████████████████████████▎                    | 302/453 [01:13<00:34,  4.37it/s]"
     ]
    },
    {
     "name": "stdout",
     "output_type": "stream",
     "text": [
      "Protein 8CGV embedded and saved to /zhome/c9/0/203261/DBL046_PP_osaul/DBL046_PP_osaul/tmp/data/PPint_DB/ESM_C_embeddings/8CGV_A.npy\n",
      "Protein 8CGV embedded and saved to /zhome/c9/0/203261/DBL046_PP_osaul/DBL046_PP_osaul/tmp/data/PPint_DB/ESM_C_embeddings/8CGV_B.npy\n",
      "Protein 9FE6 embedded and saved to /zhome/c9/0/203261/DBL046_PP_osaul/DBL046_PP_osaul/tmp/data/PPint_DB/ESM_C_embeddings/9FE6_A.npy\n"
     ]
    },
    {
     "name": "stderr",
     "output_type": "stream",
     "text": [
      "Embedding targets:  67%|█████████████████████████████████████████▍                    | 303/453 [01:13<00:33,  4.46it/s]"
     ]
    },
    {
     "name": "stdout",
     "output_type": "stream",
     "text": [
      "Protein 9FE6 embedded and saved to /zhome/c9/0/203261/DBL046_PP_osaul/DBL046_PP_osaul/tmp/data/PPint_DB/ESM_C_embeddings/9FE6_B.npy\n",
      "Protein 3DTZ embedded and saved to /zhome/c9/0/203261/DBL046_PP_osaul/DBL046_PP_osaul/tmp/data/PPint_DB/ESM_C_embeddings/3DTZ_A.npy\n"
     ]
    },
    {
     "name": "stderr",
     "output_type": "stream",
     "text": [
      "Embedding targets:  67%|█████████████████████████████████████████▌                    | 304/453 [01:13<00:36,  4.11it/s]"
     ]
    },
    {
     "name": "stdout",
     "output_type": "stream",
     "text": [
      "Protein 3DTZ embedded and saved to /zhome/c9/0/203261/DBL046_PP_osaul/DBL046_PP_osaul/tmp/data/PPint_DB/ESM_C_embeddings/3DTZ_B.npy\n",
      "Protein 7KPB embedded and saved to /zhome/c9/0/203261/DBL046_PP_osaul/DBL046_PP_osaul/tmp/data/PPint_DB/ESM_C_embeddings/7KPB_A.npy\n",
      "Protein 7KPB embedded and saved to /zhome/c9/0/203261/DBL046_PP_osaul/DBL046_PP_osaul/tmp/data/PPint_DB/ESM_C_embeddings/7KPB_B.npy\n",
      "Protein 7KPB embedded and saved to /zhome/c9/0/203261/DBL046_PP_osaul/DBL046_PP_osaul/tmp/data/PPint_DB/ESM_C_embeddings/7KPB_C.npy\n"
     ]
    },
    {
     "name": "stderr",
     "output_type": "stream",
     "text": [
      "Embedding targets:  68%|█████████████████████████████████████████▉                    | 306/453 [01:14<00:38,  3.80it/s]"
     ]
    },
    {
     "name": "stdout",
     "output_type": "stream",
     "text": [
      "Protein 7KPB embedded and saved to /zhome/c9/0/203261/DBL046_PP_osaul/DBL046_PP_osaul/tmp/data/PPint_DB/ESM_C_embeddings/7KPB_D.npy\n",
      "Protein 2ATP embedded and saved to /zhome/c9/0/203261/DBL046_PP_osaul/DBL046_PP_osaul/tmp/data/PPint_DB/ESM_C_embeddings/2ATP_A.npy\n",
      "Protein 2ATP embedded and saved to /zhome/c9/0/203261/DBL046_PP_osaul/DBL046_PP_osaul/tmp/data/PPint_DB/ESM_C_embeddings/2ATP_B.npy\n"
     ]
    },
    {
     "name": "stderr",
     "output_type": "stream",
     "text": [
      "Embedding targets:  68%|██████████████████████████████████████████                    | 307/453 [01:14<00:35,  4.08it/s]"
     ]
    },
    {
     "name": "stdout",
     "output_type": "stream",
     "text": [
      "Protein 1Q8F embedded and saved to /zhome/c9/0/203261/DBL046_PP_osaul/DBL046_PP_osaul/tmp/data/PPint_DB/ESM_C_embeddings/1Q8F_A.npy\n",
      "Protein 1Q8F embedded and saved to /zhome/c9/0/203261/DBL046_PP_osaul/DBL046_PP_osaul/tmp/data/PPint_DB/ESM_C_embeddings/1Q8F_B.npy\n"
     ]
    },
    {
     "name": "stderr",
     "output_type": "stream",
     "text": [
      "Embedding targets:  68%|██████████████████████████████████████████▏                   | 308/453 [01:14<00:33,  4.29it/s]"
     ]
    },
    {
     "name": "stdout",
     "output_type": "stream",
     "text": [
      "Protein 2PNZ embedded and saved to /zhome/c9/0/203261/DBL046_PP_osaul/DBL046_PP_osaul/tmp/data/PPint_DB/ESM_C_embeddings/2PNZ_A.npy\n",
      "Protein 2PNZ embedded and saved to /zhome/c9/0/203261/DBL046_PP_osaul/DBL046_PP_osaul/tmp/data/PPint_DB/ESM_C_embeddings/2PNZ_B.npy\n",
      "Protein 2A72 embedded and saved to /zhome/c9/0/203261/DBL046_PP_osaul/DBL046_PP_osaul/tmp/data/PPint_DB/ESM_C_embeddings/2A72_A.npy\n"
     ]
    },
    {
     "name": "stderr",
     "output_type": "stream",
     "text": [
      "Embedding targets:  68%|██████████████████████████████████████████▎                   | 309/453 [01:15<00:29,  4.87it/s]"
     ]
    },
    {
     "name": "stdout",
     "output_type": "stream",
     "text": [
      "Protein 2A72 embedded and saved to /zhome/c9/0/203261/DBL046_PP_osaul/DBL046_PP_osaul/tmp/data/PPint_DB/ESM_C_embeddings/2A72_B.npy\n",
      "Protein 1VGM embedded and saved to /zhome/c9/0/203261/DBL046_PP_osaul/DBL046_PP_osaul/tmp/data/PPint_DB/ESM_C_embeddings/1VGM_A.npy\n"
     ]
    },
    {
     "name": "stderr",
     "output_type": "stream",
     "text": [
      "Embedding targets:  68%|██████████████████████████████████████████▍                   | 310/453 [01:15<00:31,  4.51it/s]"
     ]
    },
    {
     "name": "stdout",
     "output_type": "stream",
     "text": [
      "Protein 1VGM embedded and saved to /zhome/c9/0/203261/DBL046_PP_osaul/DBL046_PP_osaul/tmp/data/PPint_DB/ESM_C_embeddings/1VGM_B.npy\n",
      "Protein 4R77 embedded and saved to /zhome/c9/0/203261/DBL046_PP_osaul/DBL046_PP_osaul/tmp/data/PPint_DB/ESM_C_embeddings/4R77_A.npy\n"
     ]
    },
    {
     "name": "stderr",
     "output_type": "stream",
     "text": [
      "Embedding targets:  69%|██████████████████████████████████████████▌                   | 311/453 [01:15<00:32,  4.38it/s]"
     ]
    },
    {
     "name": "stdout",
     "output_type": "stream",
     "text": [
      "Protein 4R77 embedded and saved to /zhome/c9/0/203261/DBL046_PP_osaul/DBL046_PP_osaul/tmp/data/PPint_DB/ESM_C_embeddings/4R77_B.npy\n",
      "Protein 1X1O embedded and saved to /zhome/c9/0/203261/DBL046_PP_osaul/DBL046_PP_osaul/tmp/data/PPint_DB/ESM_C_embeddings/1X1O_A.npy\n"
     ]
    },
    {
     "name": "stderr",
     "output_type": "stream",
     "text": [
      "Embedding targets:  69%|██████████████████████████████████████████▊                   | 313/453 [01:15<00:30,  4.66it/s]"
     ]
    },
    {
     "name": "stdout",
     "output_type": "stream",
     "text": [
      "Protein 1X1O embedded and saved to /zhome/c9/0/203261/DBL046_PP_osaul/DBL046_PP_osaul/tmp/data/PPint_DB/ESM_C_embeddings/1X1O_B.npy\n",
      "Protein 8AVH embedded and saved to /zhome/c9/0/203261/DBL046_PP_osaul/DBL046_PP_osaul/tmp/data/PPint_DB/ESM_C_embeddings/8AVH_A.npy\n",
      "Protein 8AVH embedded and saved to /zhome/c9/0/203261/DBL046_PP_osaul/DBL046_PP_osaul/tmp/data/PPint_DB/ESM_C_embeddings/8AVH_B.npy\n"
     ]
    },
    {
     "name": "stderr",
     "output_type": "stream",
     "text": [
      "Embedding targets:  69%|██████████████████████████████████████████▉                   | 314/453 [01:16<00:26,  5.19it/s]"
     ]
    },
    {
     "name": "stdout",
     "output_type": "stream",
     "text": [
      "Protein 1QYN embedded and saved to /zhome/c9/0/203261/DBL046_PP_osaul/DBL046_PP_osaul/tmp/data/PPint_DB/ESM_C_embeddings/1QYN_A.npy\n",
      "Protein 1QYN embedded and saved to /zhome/c9/0/203261/DBL046_PP_osaul/DBL046_PP_osaul/tmp/data/PPint_DB/ESM_C_embeddings/1QYN_B.npy\n",
      "Protein 1ZC3 embedded and saved to /zhome/c9/0/203261/DBL046_PP_osaul/DBL046_PP_osaul/tmp/data/PPint_DB/ESM_C_embeddings/1ZC3_A.npy\n"
     ]
    },
    {
     "name": "stderr",
     "output_type": "stream",
     "text": [
      "Embedding targets:  70%|███████████████████████████████████████████                   | 315/453 [01:16<00:24,  5.59it/s]"
     ]
    },
    {
     "name": "stdout",
     "output_type": "stream",
     "text": [
      "Protein 1ZC3 embedded and saved to /zhome/c9/0/203261/DBL046_PP_osaul/DBL046_PP_osaul/tmp/data/PPint_DB/ESM_C_embeddings/1ZC3_B.npy\n",
      "Protein 2V43 embedded and saved to /zhome/c9/0/203261/DBL046_PP_osaul/DBL046_PP_osaul/tmp/data/PPint_DB/ESM_C_embeddings/2V43_A.npy\n"
     ]
    },
    {
     "name": "stderr",
     "output_type": "stream",
     "text": [
      "Embedding targets:  70%|███████████████████████████████████████████▏                  | 316/453 [01:16<00:26,  5.22it/s]"
     ]
    },
    {
     "name": "stdout",
     "output_type": "stream",
     "text": [
      "Protein 2V43 embedded and saved to /zhome/c9/0/203261/DBL046_PP_osaul/DBL046_PP_osaul/tmp/data/PPint_DB/ESM_C_embeddings/2V43_B.npy\n",
      "Protein 1C4Z embedded and saved to /zhome/c9/0/203261/DBL046_PP_osaul/DBL046_PP_osaul/tmp/data/PPint_DB/ESM_C_embeddings/1C4Z_A.npy\n"
     ]
    },
    {
     "name": "stderr",
     "output_type": "stream",
     "text": [
      "Embedding targets:  70%|███████████████████████████████████████████▌                  | 318/453 [01:16<00:25,  5.21it/s]"
     ]
    },
    {
     "name": "stdout",
     "output_type": "stream",
     "text": [
      "Protein 1C4Z embedded and saved to /zhome/c9/0/203261/DBL046_PP_osaul/DBL046_PP_osaul/tmp/data/PPint_DB/ESM_C_embeddings/1C4Z_B.npy\n",
      "Protein 7P65 embedded and saved to /zhome/c9/0/203261/DBL046_PP_osaul/DBL046_PP_osaul/tmp/data/PPint_DB/ESM_C_embeddings/7P65_A.npy\n",
      "Protein 7P65 embedded and saved to /zhome/c9/0/203261/DBL046_PP_osaul/DBL046_PP_osaul/tmp/data/PPint_DB/ESM_C_embeddings/7P65_B.npy\n"
     ]
    },
    {
     "name": "stderr",
     "output_type": "stream",
     "text": [
      "Embedding targets:  70%|███████████████████████████████████████████▋                  | 319/453 [01:17<00:24,  5.57it/s]"
     ]
    },
    {
     "name": "stdout",
     "output_type": "stream",
     "text": [
      "Protein 3NKE embedded and saved to /zhome/c9/0/203261/DBL046_PP_osaul/DBL046_PP_osaul/tmp/data/PPint_DB/ESM_C_embeddings/3NKE_A.npy\n",
      "Protein 3NKE embedded and saved to /zhome/c9/0/203261/DBL046_PP_osaul/DBL046_PP_osaul/tmp/data/PPint_DB/ESM_C_embeddings/3NKE_B.npy\n",
      "Protein 5KOI embedded and saved to /zhome/c9/0/203261/DBL046_PP_osaul/DBL046_PP_osaul/tmp/data/PPint_DB/ESM_C_embeddings/5KOI_A.npy\n"
     ]
    },
    {
     "name": "stderr",
     "output_type": "stream",
     "text": [
      "Embedding targets:  71%|███████████████████████████████████████████▊                  | 320/453 [01:17<00:29,  4.44it/s]"
     ]
    },
    {
     "name": "stdout",
     "output_type": "stream",
     "text": [
      "Protein 5KOI embedded and saved to /zhome/c9/0/203261/DBL046_PP_osaul/DBL046_PP_osaul/tmp/data/PPint_DB/ESM_C_embeddings/5KOI_B.npy\n",
      "Protein 4EWT embedded and saved to /zhome/c9/0/203261/DBL046_PP_osaul/DBL046_PP_osaul/tmp/data/PPint_DB/ESM_C_embeddings/4EWT_A.npy\n"
     ]
    },
    {
     "name": "stderr",
     "output_type": "stream",
     "text": [
      "Embedding targets:  71%|███████████████████████████████████████████▉                  | 321/453 [01:17<00:32,  4.04it/s]"
     ]
    },
    {
     "name": "stdout",
     "output_type": "stream",
     "text": [
      "Protein 4EWT embedded and saved to /zhome/c9/0/203261/DBL046_PP_osaul/DBL046_PP_osaul/tmp/data/PPint_DB/ESM_C_embeddings/4EWT_B.npy\n",
      "Protein 3TIX embedded and saved to /zhome/c9/0/203261/DBL046_PP_osaul/DBL046_PP_osaul/tmp/data/PPint_DB/ESM_C_embeddings/3TIX_A.npy\n"
     ]
    },
    {
     "name": "stderr",
     "output_type": "stream",
     "text": [
      "Embedding targets:  71%|████████████████████████████████████████████                  | 322/453 [01:17<00:32,  4.07it/s]"
     ]
    },
    {
     "name": "stdout",
     "output_type": "stream",
     "text": [
      "Protein 3TIX embedded and saved to /zhome/c9/0/203261/DBL046_PP_osaul/DBL046_PP_osaul/tmp/data/PPint_DB/ESM_C_embeddings/3TIX_B.npy\n",
      "Protein 4NOC embedded and saved to /zhome/c9/0/203261/DBL046_PP_osaul/DBL046_PP_osaul/tmp/data/PPint_DB/ESM_C_embeddings/4NOC_A.npy\n"
     ]
    },
    {
     "name": "stderr",
     "output_type": "stream",
     "text": [
      "Embedding targets:  72%|████████████████████████████████████████████▎                 | 324/453 [01:18<00:29,  4.35it/s]"
     ]
    },
    {
     "name": "stdout",
     "output_type": "stream",
     "text": [
      "Protein 4NOC embedded and saved to /zhome/c9/0/203261/DBL046_PP_osaul/DBL046_PP_osaul/tmp/data/PPint_DB/ESM_C_embeddings/4NOC_B.npy\n",
      "Protein 1U0S embedded and saved to /zhome/c9/0/203261/DBL046_PP_osaul/DBL046_PP_osaul/tmp/data/PPint_DB/ESM_C_embeddings/1U0S_A.npy\n",
      "Protein 1U0S embedded and saved to /zhome/c9/0/203261/DBL046_PP_osaul/DBL046_PP_osaul/tmp/data/PPint_DB/ESM_C_embeddings/1U0S_B.npy\n",
      "Protein 6YSI embedded and saved to /zhome/c9/0/203261/DBL046_PP_osaul/DBL046_PP_osaul/tmp/data/PPint_DB/ESM_C_embeddings/6YSI_A.npy\n",
      "Protein 6YSI embedded and saved to /zhome/c9/0/203261/DBL046_PP_osaul/DBL046_PP_osaul/tmp/data/PPint_DB/ESM_C_embeddings/6YSI_B.npy\n",
      "Protein 6YSI embedded and saved to /zhome/c9/0/203261/DBL046_PP_osaul/DBL046_PP_osaul/tmp/data/PPint_DB/ESM_C_embeddings/6YSI_C.npy\n",
      "Protein 6YSI embedded and saved to /zhome/c9/0/203261/DBL046_PP_osaul/DBL046_PP_osaul/tmp/data/PPint_DB/ESM_C_embeddings/6YSI_D.npy\n",
      "Protein 6YSI embedded and saved to /zhome/c9/0/203261/DBL046_PP_osaul/DBL046_PP_osaul/tmp/data/PPint_DB/ESM_C_embeddings/6YSI_E.npy\n",
      "Protein 6YSI embedded and saved to /zhome/c9/0/203261/DBL046_PP_osaul/DBL046_PP_osaul/tmp/data/PPint_DB/ESM_C_embeddings/6YSI_F.npy\n"
     ]
    },
    {
     "name": "stderr",
     "output_type": "stream",
     "text": [
      "Embedding targets:  72%|████████████████████████████████████████████▍                 | 325/453 [01:18<00:46,  2.75it/s]"
     ]
    },
    {
     "name": "stdout",
     "output_type": "stream",
     "text": [
      "Protein 6YSI embedded and saved to /zhome/c9/0/203261/DBL046_PP_osaul/DBL046_PP_osaul/tmp/data/PPint_DB/ESM_C_embeddings/6YSI_G.npy\n",
      "Protein 6YSI embedded and saved to /zhome/c9/0/203261/DBL046_PP_osaul/DBL046_PP_osaul/tmp/data/PPint_DB/ESM_C_embeddings/6YSI_H.npy\n"
     ]
    },
    {
     "name": "stderr",
     "output_type": "stream",
     "text": [
      "Embedding targets:  72%|████████████████████████████████████████████▌                 | 326/453 [01:19<00:43,  2.94it/s]"
     ]
    },
    {
     "name": "stdout",
     "output_type": "stream",
     "text": [
      "Protein 6FCG embedded and saved to /zhome/c9/0/203261/DBL046_PP_osaul/DBL046_PP_osaul/tmp/data/PPint_DB/ESM_C_embeddings/6FCG_A.npy\n",
      "Protein 6FCG embedded and saved to /zhome/c9/0/203261/DBL046_PP_osaul/DBL046_PP_osaul/tmp/data/PPint_DB/ESM_C_embeddings/6FCG_B.npy\n"
     ]
    },
    {
     "name": "stderr",
     "output_type": "stream",
     "text": [
      "Embedding targets:  72%|████████████████████████████████████████████▊                 | 327/453 [01:19<00:41,  3.06it/s]"
     ]
    },
    {
     "name": "stdout",
     "output_type": "stream",
     "text": [
      "Protein 7OG3 embedded and saved to /zhome/c9/0/203261/DBL046_PP_osaul/DBL046_PP_osaul/tmp/data/PPint_DB/ESM_C_embeddings/7OG3_A.npy\n",
      "Protein 7OG3 embedded and saved to /zhome/c9/0/203261/DBL046_PP_osaul/DBL046_PP_osaul/tmp/data/PPint_DB/ESM_C_embeddings/7OG3_B.npy\n"
     ]
    },
    {
     "name": "stderr",
     "output_type": "stream",
     "text": [
      "Embedding targets:  72%|████████████████████████████████████████████▉                 | 328/453 [01:19<00:38,  3.28it/s]"
     ]
    },
    {
     "name": "stdout",
     "output_type": "stream",
     "text": [
      "Protein 7OEY embedded and saved to /zhome/c9/0/203261/DBL046_PP_osaul/DBL046_PP_osaul/tmp/data/PPint_DB/ESM_C_embeddings/7OEY_A.npy\n",
      "Protein 7OEY embedded and saved to /zhome/c9/0/203261/DBL046_PP_osaul/DBL046_PP_osaul/tmp/data/PPint_DB/ESM_C_embeddings/7OEY_B.npy\n",
      "Protein 8TYY embedded and saved to /zhome/c9/0/203261/DBL046_PP_osaul/DBL046_PP_osaul/tmp/data/PPint_DB/ESM_C_embeddings/8TYY_A.npy\n"
     ]
    },
    {
     "name": "stderr",
     "output_type": "stream",
     "text": [
      "Embedding targets:  73%|█████████████████████████████████████████████                 | 329/453 [01:19<00:32,  3.82it/s]"
     ]
    },
    {
     "name": "stdout",
     "output_type": "stream",
     "text": [
      "Protein 8TYY embedded and saved to /zhome/c9/0/203261/DBL046_PP_osaul/DBL046_PP_osaul/tmp/data/PPint_DB/ESM_C_embeddings/8TYY_B.npy\n",
      "Protein 3SJU embedded and saved to /zhome/c9/0/203261/DBL046_PP_osaul/DBL046_PP_osaul/tmp/data/PPint_DB/ESM_C_embeddings/3SJU_A.npy\n"
     ]
    },
    {
     "name": "stderr",
     "output_type": "stream",
     "text": [
      "Embedding targets:  73%|█████████████████████████████████████████████▏                | 330/453 [01:20<00:30,  3.97it/s]"
     ]
    },
    {
     "name": "stdout",
     "output_type": "stream",
     "text": [
      "Protein 3SJU embedded and saved to /zhome/c9/0/203261/DBL046_PP_osaul/DBL046_PP_osaul/tmp/data/PPint_DB/ESM_C_embeddings/3SJU_B.npy\n"
     ]
    },
    {
     "name": "stderr",
     "output_type": "stream",
     "text": [
      "Embedding targets:  73%|█████████████████████████████████████████████▎                | 331/453 [01:20<00:35,  3.44it/s]"
     ]
    },
    {
     "name": "stdout",
     "output_type": "stream",
     "text": [
      "Protein 5QR0 embedded and saved to /zhome/c9/0/203261/DBL046_PP_osaul/DBL046_PP_osaul/tmp/data/PPint_DB/ESM_C_embeddings/5QR0_A.npy\n",
      "Protein 5QR0 embedded and saved to /zhome/c9/0/203261/DBL046_PP_osaul/DBL046_PP_osaul/tmp/data/PPint_DB/ESM_C_embeddings/5QR0_B.npy\n"
     ]
    },
    {
     "name": "stderr",
     "output_type": "stream",
     "text": [
      "Embedding targets:  73%|█████████████████████████████████████████████▍                | 332/453 [01:20<00:30,  3.96it/s]"
     ]
    },
    {
     "name": "stdout",
     "output_type": "stream",
     "text": [
      "Protein 7ARS embedded and saved to /zhome/c9/0/203261/DBL046_PP_osaul/DBL046_PP_osaul/tmp/data/PPint_DB/ESM_C_embeddings/7ARS_A.npy\n",
      "Protein 7ARS embedded and saved to /zhome/c9/0/203261/DBL046_PP_osaul/DBL046_PP_osaul/tmp/data/PPint_DB/ESM_C_embeddings/7ARS_B.npy\n",
      "Protein 1ULU embedded and saved to /zhome/c9/0/203261/DBL046_PP_osaul/DBL046_PP_osaul/tmp/data/PPint_DB/ESM_C_embeddings/1ULU_A.npy\n"
     ]
    },
    {
     "name": "stderr",
     "output_type": "stream",
     "text": [
      "Embedding targets:  74%|█████████████████████████████████████████████▋                | 334/453 [01:21<00:27,  4.26it/s]"
     ]
    },
    {
     "name": "stdout",
     "output_type": "stream",
     "text": [
      "Protein 1ULU embedded and saved to /zhome/c9/0/203261/DBL046_PP_osaul/DBL046_PP_osaul/tmp/data/PPint_DB/ESM_C_embeddings/1ULU_B.npy\n",
      "Protein 4B5Q embedded and saved to /zhome/c9/0/203261/DBL046_PP_osaul/DBL046_PP_osaul/tmp/data/PPint_DB/ESM_C_embeddings/4B5Q_A.npy\n",
      "Protein 4B5Q embedded and saved to /zhome/c9/0/203261/DBL046_PP_osaul/DBL046_PP_osaul/tmp/data/PPint_DB/ESM_C_embeddings/4B5Q_B.npy\n"
     ]
    },
    {
     "name": "stderr",
     "output_type": "stream",
     "text": [
      "Embedding targets:  74%|█████████████████████████████████████████████▊                | 335/453 [01:21<00:27,  4.24it/s]"
     ]
    },
    {
     "name": "stdout",
     "output_type": "stream",
     "text": [
      "Protein 1H1C embedded and saved to /zhome/c9/0/203261/DBL046_PP_osaul/DBL046_PP_osaul/tmp/data/PPint_DB/ESM_C_embeddings/1H1C_A.npy\n",
      "Protein 1H1C embedded and saved to /zhome/c9/0/203261/DBL046_PP_osaul/DBL046_PP_osaul/tmp/data/PPint_DB/ESM_C_embeddings/1H1C_B.npy\n"
     ]
    },
    {
     "name": "stderr",
     "output_type": "stream",
     "text": [
      "Embedding targets:  74%|█████████████████████████████████████████████▉                | 336/453 [01:21<00:29,  4.03it/s]"
     ]
    },
    {
     "name": "stdout",
     "output_type": "stream",
     "text": [
      "Protein 5K3O embedded and saved to /zhome/c9/0/203261/DBL046_PP_osaul/DBL046_PP_osaul/tmp/data/PPint_DB/ESM_C_embeddings/5K3O_A.npy\n",
      "Protein 5K3O embedded and saved to /zhome/c9/0/203261/DBL046_PP_osaul/DBL046_PP_osaul/tmp/data/PPint_DB/ESM_C_embeddings/5K3O_B.npy\n"
     ]
    },
    {
     "name": "stderr",
     "output_type": "stream",
     "text": [
      "Embedding targets:  74%|██████████████████████████████████████████████                | 337/453 [01:21<00:28,  4.08it/s]"
     ]
    },
    {
     "name": "stdout",
     "output_type": "stream",
     "text": [
      "Protein 7EZF embedded and saved to /zhome/c9/0/203261/DBL046_PP_osaul/DBL046_PP_osaul/tmp/data/PPint_DB/ESM_C_embeddings/7EZF_A.npy\n",
      "Protein 7EZF embedded and saved to /zhome/c9/0/203261/DBL046_PP_osaul/DBL046_PP_osaul/tmp/data/PPint_DB/ESM_C_embeddings/7EZF_B.npy\n"
     ]
    },
    {
     "name": "stderr",
     "output_type": "stream",
     "text": [
      "Embedding targets:  75%|██████████████████████████████████████████████▎               | 338/453 [01:22<00:26,  4.40it/s]"
     ]
    },
    {
     "name": "stdout",
     "output_type": "stream",
     "text": [
      "Protein 7ZWF embedded and saved to /zhome/c9/0/203261/DBL046_PP_osaul/DBL046_PP_osaul/tmp/data/PPint_DB/ESM_C_embeddings/7ZWF_A.npy\n",
      "Protein 7ZWF embedded and saved to /zhome/c9/0/203261/DBL046_PP_osaul/DBL046_PP_osaul/tmp/data/PPint_DB/ESM_C_embeddings/7ZWF_B.npy\n",
      "Protein 5FQ1 embedded and saved to /zhome/c9/0/203261/DBL046_PP_osaul/DBL046_PP_osaul/tmp/data/PPint_DB/ESM_C_embeddings/5FQ1_A.npy\n"
     ]
    },
    {
     "name": "stderr",
     "output_type": "stream",
     "text": [
      "Embedding targets:  75%|██████████████████████████████████████████████▍               | 339/453 [01:22<00:22,  4.96it/s]"
     ]
    },
    {
     "name": "stdout",
     "output_type": "stream",
     "text": [
      "Protein 5FQ1 embedded and saved to /zhome/c9/0/203261/DBL046_PP_osaul/DBL046_PP_osaul/tmp/data/PPint_DB/ESM_C_embeddings/5FQ1_B.npy\n",
      "Protein 6I2M embedded and saved to /zhome/c9/0/203261/DBL046_PP_osaul/DBL046_PP_osaul/tmp/data/PPint_DB/ESM_C_embeddings/6I2M_A.npy\n"
     ]
    },
    {
     "name": "stderr",
     "output_type": "stream",
     "text": [
      "Embedding targets:  75%|██████████████████████████████████████████████▋               | 341/453 [01:22<00:22,  5.00it/s]"
     ]
    },
    {
     "name": "stdout",
     "output_type": "stream",
     "text": [
      "Protein 6I2M embedded and saved to /zhome/c9/0/203261/DBL046_PP_osaul/DBL046_PP_osaul/tmp/data/PPint_DB/ESM_C_embeddings/6I2M_B.npy\n",
      "Protein 4WFF embedded and saved to /zhome/c9/0/203261/DBL046_PP_osaul/DBL046_PP_osaul/tmp/data/PPint_DB/ESM_C_embeddings/4WFF_A.npy\n",
      "Protein 4WFF embedded and saved to /zhome/c9/0/203261/DBL046_PP_osaul/DBL046_PP_osaul/tmp/data/PPint_DB/ESM_C_embeddings/4WFF_B.npy\n"
     ]
    },
    {
     "name": "stderr",
     "output_type": "stream",
     "text": [
      "Embedding targets:  75%|██████████████████████████████████████████████▊               | 342/453 [01:22<00:22,  4.85it/s]"
     ]
    },
    {
     "name": "stdout",
     "output_type": "stream",
     "text": [
      "Protein 7VS8 embedded and saved to /zhome/c9/0/203261/DBL046_PP_osaul/DBL046_PP_osaul/tmp/data/PPint_DB/ESM_C_embeddings/7VS8_A.npy\n",
      "Protein 7VS8 embedded and saved to /zhome/c9/0/203261/DBL046_PP_osaul/DBL046_PP_osaul/tmp/data/PPint_DB/ESM_C_embeddings/7VS8_B.npy\n"
     ]
    },
    {
     "name": "stderr",
     "output_type": "stream",
     "text": [
      "Embedding targets:  76%|██████████████████████████████████████████████▉               | 343/453 [01:23<00:22,  4.94it/s]"
     ]
    },
    {
     "name": "stdout",
     "output_type": "stream",
     "text": [
      "Protein 4RK1 embedded and saved to /zhome/c9/0/203261/DBL046_PP_osaul/DBL046_PP_osaul/tmp/data/PPint_DB/ESM_C_embeddings/4RK1_A.npy\n",
      "Protein 4RK1 embedded and saved to /zhome/c9/0/203261/DBL046_PP_osaul/DBL046_PP_osaul/tmp/data/PPint_DB/ESM_C_embeddings/4RK1_B.npy\n",
      "Protein 1XMI embedded and saved to /zhome/c9/0/203261/DBL046_PP_osaul/DBL046_PP_osaul/tmp/data/PPint_DB/ESM_C_embeddings/1XMI_A.npy\n"
     ]
    },
    {
     "name": "stderr",
     "output_type": "stream",
     "text": [
      "Embedding targets:  76%|███████████████████████████████████████████████               | 344/453 [01:23<00:21,  5.08it/s]"
     ]
    },
    {
     "name": "stdout",
     "output_type": "stream",
     "text": [
      "Protein 1XMI embedded and saved to /zhome/c9/0/203261/DBL046_PP_osaul/DBL046_PP_osaul/tmp/data/PPint_DB/ESM_C_embeddings/1XMI_B.npy\n",
      "Protein 9C4G embedded and saved to /zhome/c9/0/203261/DBL046_PP_osaul/DBL046_PP_osaul/tmp/data/PPint_DB/ESM_C_embeddings/9C4G_A.npy\n",
      "Protein 9C4G embedded and saved to /zhome/c9/0/203261/DBL046_PP_osaul/DBL046_PP_osaul/tmp/data/PPint_DB/ESM_C_embeddings/9C4G_B.npy\n",
      "Protein 9C4G embedded and saved to /zhome/c9/0/203261/DBL046_PP_osaul/DBL046_PP_osaul/tmp/data/PPint_DB/ESM_C_embeddings/9C4G_C.npy\n",
      "Protein 9C4G embedded and saved to /zhome/c9/0/203261/DBL046_PP_osaul/DBL046_PP_osaul/tmp/data/PPint_DB/ESM_C_embeddings/9C4G_D.npy\n",
      "Protein 9C4G embedded and saved to /zhome/c9/0/203261/DBL046_PP_osaul/DBL046_PP_osaul/tmp/data/PPint_DB/ESM_C_embeddings/9C4G_E.npy\n",
      "Protein 9C4G embedded and saved to /zhome/c9/0/203261/DBL046_PP_osaul/DBL046_PP_osaul/tmp/data/PPint_DB/ESM_C_embeddings/9C4G_F.npy\n",
      "Protein 9C4G embedded and saved to /zhome/c9/0/203261/DBL046_PP_osaul/DBL046_PP_osaul/tmp/data/PPint_DB/ESM_C_embeddings/9C4G_G.npy\n"
     ]
    },
    {
     "name": "stderr",
     "output_type": "stream",
     "text": [
      "Embedding targets:  76%|███████████████████████████████████████████████▎              | 346/453 [01:24<00:32,  3.25it/s]"
     ]
    },
    {
     "name": "stdout",
     "output_type": "stream",
     "text": [
      "Protein 9C4G embedded and saved to /zhome/c9/0/203261/DBL046_PP_osaul/DBL046_PP_osaul/tmp/data/PPint_DB/ESM_C_embeddings/9C4G_H.npy\n",
      "Protein 3U2V embedded and saved to /zhome/c9/0/203261/DBL046_PP_osaul/DBL046_PP_osaul/tmp/data/PPint_DB/ESM_C_embeddings/3U2V_A.npy\n",
      "Protein 3U2V embedded and saved to /zhome/c9/0/203261/DBL046_PP_osaul/DBL046_PP_osaul/tmp/data/PPint_DB/ESM_C_embeddings/3U2V_B.npy\n"
     ]
    },
    {
     "name": "stderr",
     "output_type": "stream",
     "text": [
      "Embedding targets:  77%|███████████████████████████████████████████████▍              | 347/453 [01:24<00:28,  3.70it/s]"
     ]
    },
    {
     "name": "stdout",
     "output_type": "stream",
     "text": [
      "Protein 2P06 embedded and saved to /zhome/c9/0/203261/DBL046_PP_osaul/DBL046_PP_osaul/tmp/data/PPint_DB/ESM_C_embeddings/2P06_A.npy\n",
      "Protein 2P06 embedded and saved to /zhome/c9/0/203261/DBL046_PP_osaul/DBL046_PP_osaul/tmp/data/PPint_DB/ESM_C_embeddings/2P06_B.npy\n"
     ]
    },
    {
     "name": "stderr",
     "output_type": "stream",
     "text": [
      "Embedding targets:  77%|███████████████████████████████████████████████▋              | 348/453 [01:24<00:27,  3.81it/s]"
     ]
    },
    {
     "name": "stdout",
     "output_type": "stream",
     "text": [
      "Protein 8J2Y embedded and saved to /zhome/c9/0/203261/DBL046_PP_osaul/DBL046_PP_osaul/tmp/data/PPint_DB/ESM_C_embeddings/8J2Y_A.npy\n",
      "Protein 8J2Y embedded and saved to /zhome/c9/0/203261/DBL046_PP_osaul/DBL046_PP_osaul/tmp/data/PPint_DB/ESM_C_embeddings/8J2Y_B.npy\n"
     ]
    },
    {
     "name": "stderr",
     "output_type": "stream",
     "text": [
      "Embedding targets:  77%|███████████████████████████████████████████████▊              | 349/453 [01:24<00:29,  3.57it/s]"
     ]
    },
    {
     "name": "stdout",
     "output_type": "stream",
     "text": [
      "Protein 4JX2 embedded and saved to /zhome/c9/0/203261/DBL046_PP_osaul/DBL046_PP_osaul/tmp/data/PPint_DB/ESM_C_embeddings/4JX2_A.npy\n",
      "Protein 4JX2 embedded and saved to /zhome/c9/0/203261/DBL046_PP_osaul/DBL046_PP_osaul/tmp/data/PPint_DB/ESM_C_embeddings/4JX2_B.npy\n"
     ]
    },
    {
     "name": "stderr",
     "output_type": "stream",
     "text": [
      "Embedding targets:  77%|███████████████████████████████████████████████▉              | 350/453 [01:25<00:26,  3.91it/s]"
     ]
    },
    {
     "name": "stdout",
     "output_type": "stream",
     "text": [
      "Protein 1KD7 embedded and saved to /zhome/c9/0/203261/DBL046_PP_osaul/DBL046_PP_osaul/tmp/data/PPint_DB/ESM_C_embeddings/1KD7_A.npy\n",
      "Protein 1KD7 embedded and saved to /zhome/c9/0/203261/DBL046_PP_osaul/DBL046_PP_osaul/tmp/data/PPint_DB/ESM_C_embeddings/1KD7_B.npy\n"
     ]
    },
    {
     "name": "stderr",
     "output_type": "stream",
     "text": [
      "Embedding targets:  77%|████████████████████████████████████████████████              | 351/453 [01:25<00:24,  4.16it/s]"
     ]
    },
    {
     "name": "stdout",
     "output_type": "stream",
     "text": [
      "Protein 7XFX embedded and saved to /zhome/c9/0/203261/DBL046_PP_osaul/DBL046_PP_osaul/tmp/data/PPint_DB/ESM_C_embeddings/7XFX_A.npy\n",
      "Protein 7XFX embedded and saved to /zhome/c9/0/203261/DBL046_PP_osaul/DBL046_PP_osaul/tmp/data/PPint_DB/ESM_C_embeddings/7XFX_B.npy\n",
      "Protein 6BI8 embedded and saved to /zhome/c9/0/203261/DBL046_PP_osaul/DBL046_PP_osaul/tmp/data/PPint_DB/ESM_C_embeddings/6BI8_A.npy\n"
     ]
    },
    {
     "name": "stderr",
     "output_type": "stream",
     "text": [
      "Embedding targets:  78%|████████████████████████████████████████████████▏             | 352/453 [01:25<00:23,  4.39it/s]"
     ]
    },
    {
     "name": "stdout",
     "output_type": "stream",
     "text": [
      "Protein 6BI8 embedded and saved to /zhome/c9/0/203261/DBL046_PP_osaul/DBL046_PP_osaul/tmp/data/PPint_DB/ESM_C_embeddings/6BI8_B.npy\n",
      "Protein 6PFN embedded and saved to /zhome/c9/0/203261/DBL046_PP_osaul/DBL046_PP_osaul/tmp/data/PPint_DB/ESM_C_embeddings/6PFN_A.npy\n"
     ]
    },
    {
     "name": "stderr",
     "output_type": "stream",
     "text": [
      "Embedding targets:  78%|████████████████████████████████████████████████▎             | 353/453 [01:25<00:23,  4.22it/s]"
     ]
    },
    {
     "name": "stdout",
     "output_type": "stream",
     "text": [
      "Protein 6PFN embedded and saved to /zhome/c9/0/203261/DBL046_PP_osaul/DBL046_PP_osaul/tmp/data/PPint_DB/ESM_C_embeddings/6PFN_B.npy\n",
      "Protein 2Q4T embedded and saved to /zhome/c9/0/203261/DBL046_PP_osaul/DBL046_PP_osaul/tmp/data/PPint_DB/ESM_C_embeddings/2Q4T_A.npy\n"
     ]
    },
    {
     "name": "stderr",
     "output_type": "stream",
     "text": [
      "Embedding targets:  78%|████████████████████████████████████████████████▌             | 355/453 [01:26<00:21,  4.62it/s]"
     ]
    },
    {
     "name": "stdout",
     "output_type": "stream",
     "text": [
      "Protein 2Q4T embedded and saved to /zhome/c9/0/203261/DBL046_PP_osaul/DBL046_PP_osaul/tmp/data/PPint_DB/ESM_C_embeddings/2Q4T_B.npy\n",
      "Protein 8K4Q embedded and saved to /zhome/c9/0/203261/DBL046_PP_osaul/DBL046_PP_osaul/tmp/data/PPint_DB/ESM_C_embeddings/8K4Q_A.npy\n",
      "Protein 8K4Q embedded and saved to /zhome/c9/0/203261/DBL046_PP_osaul/DBL046_PP_osaul/tmp/data/PPint_DB/ESM_C_embeddings/8K4Q_B.npy\n"
     ]
    },
    {
     "name": "stderr",
     "output_type": "stream",
     "text": [
      "Embedding targets:  79%|████████████████████████████████████████████████▋             | 356/453 [01:26<00:20,  4.65it/s]"
     ]
    },
    {
     "name": "stdout",
     "output_type": "stream",
     "text": [
      "Protein 8T9Q embedded and saved to /zhome/c9/0/203261/DBL046_PP_osaul/DBL046_PP_osaul/tmp/data/PPint_DB/ESM_C_embeddings/8T9Q_A.npy\n",
      "Protein 8T9Q embedded and saved to /zhome/c9/0/203261/DBL046_PP_osaul/DBL046_PP_osaul/tmp/data/PPint_DB/ESM_C_embeddings/8T9Q_B.npy\n"
     ]
    },
    {
     "name": "stderr",
     "output_type": "stream",
     "text": [
      "Embedding targets:  79%|████████████████████████████████████████████████▊             | 357/453 [01:26<00:19,  4.91it/s]"
     ]
    },
    {
     "name": "stdout",
     "output_type": "stream",
     "text": [
      "Protein 6WXM embedded and saved to /zhome/c9/0/203261/DBL046_PP_osaul/DBL046_PP_osaul/tmp/data/PPint_DB/ESM_C_embeddings/6WXM_A.npy\n",
      "Protein 6WXM embedded and saved to /zhome/c9/0/203261/DBL046_PP_osaul/DBL046_PP_osaul/tmp/data/PPint_DB/ESM_C_embeddings/6WXM_B.npy\n",
      "Protein 1DU5 embedded and saved to /zhome/c9/0/203261/DBL046_PP_osaul/DBL046_PP_osaul/tmp/data/PPint_DB/ESM_C_embeddings/1DU5_A.npy\n"
     ]
    },
    {
     "name": "stderr",
     "output_type": "stream",
     "text": [
      "Embedding targets:  79%|█████████████████████████████████████████████████▏            | 359/453 [01:26<00:17,  5.23it/s]"
     ]
    },
    {
     "name": "stdout",
     "output_type": "stream",
     "text": [
      "Protein 1DU5 embedded and saved to /zhome/c9/0/203261/DBL046_PP_osaul/DBL046_PP_osaul/tmp/data/PPint_DB/ESM_C_embeddings/1DU5_B.npy\n",
      "Protein 2QW6 embedded and saved to /zhome/c9/0/203261/DBL046_PP_osaul/DBL046_PP_osaul/tmp/data/PPint_DB/ESM_C_embeddings/2QW6_A.npy\n",
      "Protein 2QW6 embedded and saved to /zhome/c9/0/203261/DBL046_PP_osaul/DBL046_PP_osaul/tmp/data/PPint_DB/ESM_C_embeddings/2QW6_B.npy\n"
     ]
    },
    {
     "name": "stderr",
     "output_type": "stream",
     "text": [
      "Embedding targets:  79%|█████████████████████████████████████████████████▎            | 360/453 [01:27<00:19,  4.68it/s]"
     ]
    },
    {
     "name": "stdout",
     "output_type": "stream",
     "text": [
      "Protein 4EI0 embedded and saved to /zhome/c9/0/203261/DBL046_PP_osaul/DBL046_PP_osaul/tmp/data/PPint_DB/ESM_C_embeddings/4EI0_A.npy\n",
      "Protein 4EI0 embedded and saved to /zhome/c9/0/203261/DBL046_PP_osaul/DBL046_PP_osaul/tmp/data/PPint_DB/ESM_C_embeddings/4EI0_B.npy\n"
     ]
    },
    {
     "name": "stderr",
     "output_type": "stream",
     "text": [
      "Embedding targets:  80%|█████████████████████████████████████████████████▍            | 361/453 [01:27<00:18,  4.88it/s]"
     ]
    },
    {
     "name": "stdout",
     "output_type": "stream",
     "text": [
      "Protein 2VI5 embedded and saved to /zhome/c9/0/203261/DBL046_PP_osaul/DBL046_PP_osaul/tmp/data/PPint_DB/ESM_C_embeddings/2VI5_A.npy\n",
      "Protein 2VI5 embedded and saved to /zhome/c9/0/203261/DBL046_PP_osaul/DBL046_PP_osaul/tmp/data/PPint_DB/ESM_C_embeddings/2VI5_B.npy\n"
     ]
    },
    {
     "name": "stderr",
     "output_type": "stream",
     "text": [
      "Embedding targets:  80%|█████████████████████████████████████████████████▌            | 362/453 [01:27<00:20,  4.39it/s]"
     ]
    },
    {
     "name": "stdout",
     "output_type": "stream",
     "text": [
      "Protein 6H4E embedded and saved to /zhome/c9/0/203261/DBL046_PP_osaul/DBL046_PP_osaul/tmp/data/PPint_DB/ESM_C_embeddings/6H4E_A.npy\n",
      "Protein 6H4E embedded and saved to /zhome/c9/0/203261/DBL046_PP_osaul/DBL046_PP_osaul/tmp/data/PPint_DB/ESM_C_embeddings/6H4E_B.npy\n",
      "Protein 7ODY embedded and saved to /zhome/c9/0/203261/DBL046_PP_osaul/DBL046_PP_osaul/tmp/data/PPint_DB/ESM_C_embeddings/7ODY_A.npy\n"
     ]
    },
    {
     "name": "stderr",
     "output_type": "stream",
     "text": [
      "Embedding targets:  80%|█████████████████████████████████████████████████▊            | 364/453 [01:27<00:16,  5.40it/s]"
     ]
    },
    {
     "name": "stdout",
     "output_type": "stream",
     "text": [
      "Protein 7ODY embedded and saved to /zhome/c9/0/203261/DBL046_PP_osaul/DBL046_PP_osaul/tmp/data/PPint_DB/ESM_C_embeddings/7ODY_B.npy\n",
      "Protein 3OPC embedded and saved to /zhome/c9/0/203261/DBL046_PP_osaul/DBL046_PP_osaul/tmp/data/PPint_DB/ESM_C_embeddings/3OPC_A.npy\n",
      "Protein 3OPC embedded and saved to /zhome/c9/0/203261/DBL046_PP_osaul/DBL046_PP_osaul/tmp/data/PPint_DB/ESM_C_embeddings/3OPC_B.npy\n"
     ]
    },
    {
     "name": "stderr",
     "output_type": "stream",
     "text": [
      "Embedding targets:  81%|█████████████████████████████████████████████████▉            | 365/453 [01:28<00:20,  4.32it/s]"
     ]
    },
    {
     "name": "stdout",
     "output_type": "stream",
     "text": [
      "Protein 1XLI embedded and saved to /zhome/c9/0/203261/DBL046_PP_osaul/DBL046_PP_osaul/tmp/data/PPint_DB/ESM_C_embeddings/1XLI_A.npy\n",
      "Protein 1XLI embedded and saved to /zhome/c9/0/203261/DBL046_PP_osaul/DBL046_PP_osaul/tmp/data/PPint_DB/ESM_C_embeddings/1XLI_B.npy\n"
     ]
    },
    {
     "name": "stderr",
     "output_type": "stream",
     "text": [
      "Embedding targets:  81%|██████████████████████████████████████████████████            | 366/453 [01:28<00:22,  3.93it/s]"
     ]
    },
    {
     "name": "stdout",
     "output_type": "stream",
     "text": [
      "Protein 7V1Z embedded and saved to /zhome/c9/0/203261/DBL046_PP_osaul/DBL046_PP_osaul/tmp/data/PPint_DB/ESM_C_embeddings/7V1Z_A.npy\n",
      "Protein 7V1Z embedded and saved to /zhome/c9/0/203261/DBL046_PP_osaul/DBL046_PP_osaul/tmp/data/PPint_DB/ESM_C_embeddings/7V1Z_B.npy\n"
     ]
    },
    {
     "name": "stderr",
     "output_type": "stream",
     "text": [
      "Embedding targets:  81%|██████████████████████████████████████████████████▏           | 367/453 [01:28<00:20,  4.10it/s]"
     ]
    },
    {
     "name": "stdout",
     "output_type": "stream",
     "text": [
      "Protein 9C5G embedded and saved to /zhome/c9/0/203261/DBL046_PP_osaul/DBL046_PP_osaul/tmp/data/PPint_DB/ESM_C_embeddings/9C5G_A.npy\n",
      "Protein 9C5G embedded and saved to /zhome/c9/0/203261/DBL046_PP_osaul/DBL046_PP_osaul/tmp/data/PPint_DB/ESM_C_embeddings/9C5G_B.npy\n"
     ]
    },
    {
     "name": "stderr",
     "output_type": "stream",
     "text": [
      "Embedding targets:  81%|██████████████████████████████████████████████████▎           | 368/453 [01:29<00:21,  4.00it/s]"
     ]
    },
    {
     "name": "stdout",
     "output_type": "stream",
     "text": [
      "Protein 2YY7 embedded and saved to /zhome/c9/0/203261/DBL046_PP_osaul/DBL046_PP_osaul/tmp/data/PPint_DB/ESM_C_embeddings/2YY7_A.npy\n",
      "Protein 2YY7 embedded and saved to /zhome/c9/0/203261/DBL046_PP_osaul/DBL046_PP_osaul/tmp/data/PPint_DB/ESM_C_embeddings/2YY7_B.npy\n",
      "Protein 7V30 embedded and saved to /zhome/c9/0/203261/DBL046_PP_osaul/DBL046_PP_osaul/tmp/data/PPint_DB/ESM_C_embeddings/7V30_A.npy\n",
      "Protein 7V30 embedded and saved to /zhome/c9/0/203261/DBL046_PP_osaul/DBL046_PP_osaul/tmp/data/PPint_DB/ESM_C_embeddings/7V30_B.npy\n"
     ]
    },
    {
     "name": "stderr",
     "output_type": "stream",
     "text": [
      "Embedding targets:  81%|██████████████████████████████████████████████████▌           | 369/453 [01:29<00:27,  3.09it/s]"
     ]
    },
    {
     "name": "stdout",
     "output_type": "stream",
     "text": [
      "Protein 7V30 embedded and saved to /zhome/c9/0/203261/DBL046_PP_osaul/DBL046_PP_osaul/tmp/data/PPint_DB/ESM_C_embeddings/7V30_C.npy\n",
      "Protein 7V30 embedded and saved to /zhome/c9/0/203261/DBL046_PP_osaul/DBL046_PP_osaul/tmp/data/PPint_DB/ESM_C_embeddings/7V30_D.npy\n"
     ]
    },
    {
     "name": "stderr",
     "output_type": "stream",
     "text": [
      "Embedding targets:  82%|██████████████████████████████████████████████████▋           | 370/453 [01:29<00:26,  3.16it/s]"
     ]
    },
    {
     "name": "stdout",
     "output_type": "stream",
     "text": [
      "Protein 1TH7 embedded and saved to /zhome/c9/0/203261/DBL046_PP_osaul/DBL046_PP_osaul/tmp/data/PPint_DB/ESM_C_embeddings/1TH7_A.npy\n",
      "Protein 1TH7 embedded and saved to /zhome/c9/0/203261/DBL046_PP_osaul/DBL046_PP_osaul/tmp/data/PPint_DB/ESM_C_embeddings/1TH7_B.npy\n",
      "Protein 7VPR embedded and saved to /zhome/c9/0/203261/DBL046_PP_osaul/DBL046_PP_osaul/tmp/data/PPint_DB/ESM_C_embeddings/7VPR_A.npy\n"
     ]
    },
    {
     "name": "stderr",
     "output_type": "stream",
     "text": [
      "Embedding targets:  82%|██████████████████████████████████████████████████▊           | 371/453 [01:30<00:28,  2.85it/s]"
     ]
    },
    {
     "name": "stdout",
     "output_type": "stream",
     "text": [
      "Protein 7VPR embedded and saved to /zhome/c9/0/203261/DBL046_PP_osaul/DBL046_PP_osaul/tmp/data/PPint_DB/ESM_C_embeddings/7VPR_B.npy\n",
      "Protein 7QNQ embedded and saved to /zhome/c9/0/203261/DBL046_PP_osaul/DBL046_PP_osaul/tmp/data/PPint_DB/ESM_C_embeddings/7QNQ_A.npy\n"
     ]
    },
    {
     "name": "stderr",
     "output_type": "stream",
     "text": [
      "Embedding targets:  82%|██████████████████████████████████████████████████▉           | 372/453 [01:30<00:28,  2.81it/s]"
     ]
    },
    {
     "name": "stdout",
     "output_type": "stream",
     "text": [
      "Protein 7QNQ embedded and saved to /zhome/c9/0/203261/DBL046_PP_osaul/DBL046_PP_osaul/tmp/data/PPint_DB/ESM_C_embeddings/7QNQ_B.npy\n"
     ]
    },
    {
     "name": "stderr",
     "output_type": "stream",
     "text": [
      "Embedding targets:  82%|███████████████████████████████████████████████████           | 373/453 [01:31<00:28,  2.84it/s]"
     ]
    },
    {
     "name": "stdout",
     "output_type": "stream",
     "text": [
      "Protein 1IVC embedded and saved to /zhome/c9/0/203261/DBL046_PP_osaul/DBL046_PP_osaul/tmp/data/PPint_DB/ESM_C_embeddings/1IVC_A.npy\n",
      "Protein 1IVC embedded and saved to /zhome/c9/0/203261/DBL046_PP_osaul/DBL046_PP_osaul/tmp/data/PPint_DB/ESM_C_embeddings/1IVC_B.npy\n",
      "Protein 7BEE embedded and saved to /zhome/c9/0/203261/DBL046_PP_osaul/DBL046_PP_osaul/tmp/data/PPint_DB/ESM_C_embeddings/7BEE_A.npy\n"
     ]
    },
    {
     "name": "stderr",
     "output_type": "stream",
     "text": [
      "Embedding targets:  83%|███████████████████████████████████████████████████▏          | 374/453 [01:31<00:22,  3.52it/s]"
     ]
    },
    {
     "name": "stdout",
     "output_type": "stream",
     "text": [
      "Protein 7BEE embedded and saved to /zhome/c9/0/203261/DBL046_PP_osaul/DBL046_PP_osaul/tmp/data/PPint_DB/ESM_C_embeddings/7BEE_B.npy\n",
      "Protein 8ZHQ embedded and saved to /zhome/c9/0/203261/DBL046_PP_osaul/DBL046_PP_osaul/tmp/data/PPint_DB/ESM_C_embeddings/8ZHQ_A.npy\n",
      "Protein 8ZHQ embedded and saved to /zhome/c9/0/203261/DBL046_PP_osaul/DBL046_PP_osaul/tmp/data/PPint_DB/ESM_C_embeddings/8ZHQ_B.npy\n",
      "Protein 8ZHQ embedded and saved to /zhome/c9/0/203261/DBL046_PP_osaul/DBL046_PP_osaul/tmp/data/PPint_DB/ESM_C_embeddings/8ZHQ_C.npy\n"
     ]
    },
    {
     "name": "stderr",
     "output_type": "stream",
     "text": [
      "Embedding targets:  83%|███████████████████████████████████████████████████▎          | 375/453 [01:31<00:29,  2.69it/s]"
     ]
    },
    {
     "name": "stdout",
     "output_type": "stream",
     "text": [
      "Protein 8ZHQ embedded and saved to /zhome/c9/0/203261/DBL046_PP_osaul/DBL046_PP_osaul/tmp/data/PPint_DB/ESM_C_embeddings/8ZHQ_D.npy\n",
      "Protein 6PAL embedded and saved to /zhome/c9/0/203261/DBL046_PP_osaul/DBL046_PP_osaul/tmp/data/PPint_DB/ESM_C_embeddings/6PAL_A.npy\n"
     ]
    },
    {
     "name": "stderr",
     "output_type": "stream",
     "text": [
      "Embedding targets:  83%|███████████████████████████████████████████████████▌          | 377/453 [01:32<00:22,  3.41it/s]"
     ]
    },
    {
     "name": "stdout",
     "output_type": "stream",
     "text": [
      "Protein 6PAL embedded and saved to /zhome/c9/0/203261/DBL046_PP_osaul/DBL046_PP_osaul/tmp/data/PPint_DB/ESM_C_embeddings/6PAL_B.npy\n",
      "Protein 3NPI embedded and saved to /zhome/c9/0/203261/DBL046_PP_osaul/DBL046_PP_osaul/tmp/data/PPint_DB/ESM_C_embeddings/3NPI_A.npy\n",
      "Protein 3NPI embedded and saved to /zhome/c9/0/203261/DBL046_PP_osaul/DBL046_PP_osaul/tmp/data/PPint_DB/ESM_C_embeddings/3NPI_B.npy\n"
     ]
    },
    {
     "name": "stderr",
     "output_type": "stream",
     "text": [
      "Embedding targets:  83%|███████████████████████████████████████████████████▋          | 378/453 [01:32<00:20,  3.63it/s]"
     ]
    },
    {
     "name": "stdout",
     "output_type": "stream",
     "text": [
      "Protein 5ECO embedded and saved to /zhome/c9/0/203261/DBL046_PP_osaul/DBL046_PP_osaul/tmp/data/PPint_DB/ESM_C_embeddings/5ECO_A.npy\n",
      "Protein 5ECO embedded and saved to /zhome/c9/0/203261/DBL046_PP_osaul/DBL046_PP_osaul/tmp/data/PPint_DB/ESM_C_embeddings/5ECO_B.npy\n"
     ]
    },
    {
     "name": "stderr",
     "output_type": "stream",
     "text": [
      "Embedding targets:  84%|███████████████████████████████████████████████████▊          | 379/453 [01:32<00:18,  3.98it/s]"
     ]
    },
    {
     "name": "stdout",
     "output_type": "stream",
     "text": [
      "Protein 6CH2 embedded and saved to /zhome/c9/0/203261/DBL046_PP_osaul/DBL046_PP_osaul/tmp/data/PPint_DB/ESM_C_embeddings/6CH2_A.npy\n",
      "Protein 6CH2 embedded and saved to /zhome/c9/0/203261/DBL046_PP_osaul/DBL046_PP_osaul/tmp/data/PPint_DB/ESM_C_embeddings/6CH2_B.npy\n",
      "Protein 2Q3V embedded and saved to /zhome/c9/0/203261/DBL046_PP_osaul/DBL046_PP_osaul/tmp/data/PPint_DB/ESM_C_embeddings/2Q3V_A.npy\n"
     ]
    },
    {
     "name": "stderr",
     "output_type": "stream",
     "text": [
      "Embedding targets:  84%|████████████████████████████████████████████████████▏         | 381/453 [01:32<00:14,  4.89it/s]"
     ]
    },
    {
     "name": "stdout",
     "output_type": "stream",
     "text": [
      "Protein 2Q3V embedded and saved to /zhome/c9/0/203261/DBL046_PP_osaul/DBL046_PP_osaul/tmp/data/PPint_DB/ESM_C_embeddings/2Q3V_B.npy\n",
      "Protein 4QYO embedded and saved to /zhome/c9/0/203261/DBL046_PP_osaul/DBL046_PP_osaul/tmp/data/PPint_DB/ESM_C_embeddings/4QYO_A.npy\n",
      "Protein 4QYO embedded and saved to /zhome/c9/0/203261/DBL046_PP_osaul/DBL046_PP_osaul/tmp/data/PPint_DB/ESM_C_embeddings/4QYO_B.npy\n"
     ]
    },
    {
     "name": "stderr",
     "output_type": "stream",
     "text": [
      "Embedding targets:  84%|████████████████████████████████████████████████████▎         | 382/453 [01:33<00:15,  4.54it/s]"
     ]
    },
    {
     "name": "stdout",
     "output_type": "stream",
     "text": [
      "Protein 2EGI embedded and saved to /zhome/c9/0/203261/DBL046_PP_osaul/DBL046_PP_osaul/tmp/data/PPint_DB/ESM_C_embeddings/2EGI_A.npy\n",
      "Protein 2EGI embedded and saved to /zhome/c9/0/203261/DBL046_PP_osaul/DBL046_PP_osaul/tmp/data/PPint_DB/ESM_C_embeddings/2EGI_B.npy\n",
      "Protein 4EN2 embedded and saved to /zhome/c9/0/203261/DBL046_PP_osaul/DBL046_PP_osaul/tmp/data/PPint_DB/ESM_C_embeddings/4EN2_A.npy\n"
     ]
    },
    {
     "name": "stderr",
     "output_type": "stream",
     "text": [
      "Embedding targets:  85%|████████████████████████████████████████████████████▌         | 384/453 [01:33<00:13,  5.27it/s]"
     ]
    },
    {
     "name": "stdout",
     "output_type": "stream",
     "text": [
      "Protein 4EN2 embedded and saved to /zhome/c9/0/203261/DBL046_PP_osaul/DBL046_PP_osaul/tmp/data/PPint_DB/ESM_C_embeddings/4EN2_B.npy\n",
      "Protein 6L98 embedded and saved to /zhome/c9/0/203261/DBL046_PP_osaul/DBL046_PP_osaul/tmp/data/PPint_DB/ESM_C_embeddings/6L98_A.npy\n",
      "Protein 6L98 embedded and saved to /zhome/c9/0/203261/DBL046_PP_osaul/DBL046_PP_osaul/tmp/data/PPint_DB/ESM_C_embeddings/6L98_B.npy\n"
     ]
    },
    {
     "name": "stderr",
     "output_type": "stream",
     "text": [
      "Embedding targets:  85%|████████████████████████████████████████████████████▋         | 385/453 [01:33<00:12,  5.48it/s]"
     ]
    },
    {
     "name": "stdout",
     "output_type": "stream",
     "text": [
      "Protein 2FS5 embedded and saved to /zhome/c9/0/203261/DBL046_PP_osaul/DBL046_PP_osaul/tmp/data/PPint_DB/ESM_C_embeddings/2FS5_A.npy\n",
      "Protein 2FS5 embedded and saved to /zhome/c9/0/203261/DBL046_PP_osaul/DBL046_PP_osaul/tmp/data/PPint_DB/ESM_C_embeddings/2FS5_B.npy\n",
      "Protein 5WOS embedded and saved to /zhome/c9/0/203261/DBL046_PP_osaul/DBL046_PP_osaul/tmp/data/PPint_DB/ESM_C_embeddings/5WOS_A.npy\n"
     ]
    },
    {
     "name": "stderr",
     "output_type": "stream",
     "text": [
      "Embedding targets:  85%|████████████████████████████████████████████████████▊         | 386/453 [01:33<00:11,  5.86it/s]"
     ]
    },
    {
     "name": "stdout",
     "output_type": "stream",
     "text": [
      "Protein 5WOS embedded and saved to /zhome/c9/0/203261/DBL046_PP_osaul/DBL046_PP_osaul/tmp/data/PPint_DB/ESM_C_embeddings/5WOS_B.npy\n",
      "Protein 6S48 embedded and saved to /zhome/c9/0/203261/DBL046_PP_osaul/DBL046_PP_osaul/tmp/data/PPint_DB/ESM_C_embeddings/6S48_A.npy\n"
     ]
    },
    {
     "name": "stderr",
     "output_type": "stream",
     "text": [
      "Embedding targets:  85%|████████████████████████████████████████████████████▉         | 387/453 [01:34<00:14,  4.60it/s]"
     ]
    },
    {
     "name": "stdout",
     "output_type": "stream",
     "text": [
      "Protein 6S48 embedded and saved to /zhome/c9/0/203261/DBL046_PP_osaul/DBL046_PP_osaul/tmp/data/PPint_DB/ESM_C_embeddings/6S48_B.npy\n",
      "Protein 7SXM embedded and saved to /zhome/c9/0/203261/DBL046_PP_osaul/DBL046_PP_osaul/tmp/data/PPint_DB/ESM_C_embeddings/7SXM_A.npy\n"
     ]
    },
    {
     "name": "stderr",
     "output_type": "stream",
     "text": [
      "Embedding targets:  86%|█████████████████████████████████████████████████████▏        | 389/453 [01:34<00:13,  4.81it/s]"
     ]
    },
    {
     "name": "stdout",
     "output_type": "stream",
     "text": [
      "Protein 7SXM embedded and saved to /zhome/c9/0/203261/DBL046_PP_osaul/DBL046_PP_osaul/tmp/data/PPint_DB/ESM_C_embeddings/7SXM_B.npy\n",
      "Protein 4YWN embedded and saved to /zhome/c9/0/203261/DBL046_PP_osaul/DBL046_PP_osaul/tmp/data/PPint_DB/ESM_C_embeddings/4YWN_A.npy\n",
      "Protein 4YWN embedded and saved to /zhome/c9/0/203261/DBL046_PP_osaul/DBL046_PP_osaul/tmp/data/PPint_DB/ESM_C_embeddings/4YWN_B.npy\n"
     ]
    },
    {
     "name": "stderr",
     "output_type": "stream",
     "text": [
      "Embedding targets:  86%|█████████████████████████████████████████████████████▌        | 391/453 [01:34<00:10,  6.02it/s]"
     ]
    },
    {
     "name": "stdout",
     "output_type": "stream",
     "text": [
      "Protein 6QFD embedded and saved to /zhome/c9/0/203261/DBL046_PP_osaul/DBL046_PP_osaul/tmp/data/PPint_DB/ESM_C_embeddings/6QFD_A.npy\n",
      "Protein 6QFD embedded and saved to /zhome/c9/0/203261/DBL046_PP_osaul/DBL046_PP_osaul/tmp/data/PPint_DB/ESM_C_embeddings/6QFD_B.npy\n",
      "Protein 2P64 embedded and saved to /zhome/c9/0/203261/DBL046_PP_osaul/DBL046_PP_osaul/tmp/data/PPint_DB/ESM_C_embeddings/2P64_A.npy\n",
      "Protein 2P64 embedded and saved to /zhome/c9/0/203261/DBL046_PP_osaul/DBL046_PP_osaul/tmp/data/PPint_DB/ESM_C_embeddings/2P64_B.npy\n"
     ]
    },
    {
     "name": "stderr",
     "output_type": "stream",
     "text": [
      "Embedding targets:  87%|█████████████████████████████████████████████████████▋        | 392/453 [01:35<00:11,  5.50it/s]"
     ]
    },
    {
     "name": "stdout",
     "output_type": "stream",
     "text": [
      "Protein 6NKD embedded and saved to /zhome/c9/0/203261/DBL046_PP_osaul/DBL046_PP_osaul/tmp/data/PPint_DB/ESM_C_embeddings/6NKD_A.npy\n",
      "Protein 6NKD embedded and saved to /zhome/c9/0/203261/DBL046_PP_osaul/DBL046_PP_osaul/tmp/data/PPint_DB/ESM_C_embeddings/6NKD_B.npy\n",
      "Protein 3PZA embedded and saved to /zhome/c9/0/203261/DBL046_PP_osaul/DBL046_PP_osaul/tmp/data/PPint_DB/ESM_C_embeddings/3PZA_A.npy\n"
     ]
    },
    {
     "name": "stderr",
     "output_type": "stream",
     "text": [
      "Embedding targets:  87%|█████████████████████████████████████████████████████▊        | 393/453 [01:35<00:10,  5.54it/s]"
     ]
    },
    {
     "name": "stdout",
     "output_type": "stream",
     "text": [
      "Protein 3PZA embedded and saved to /zhome/c9/0/203261/DBL046_PP_osaul/DBL046_PP_osaul/tmp/data/PPint_DB/ESM_C_embeddings/3PZA_B.npy\n",
      "Protein 1TO5 embedded and saved to /zhome/c9/0/203261/DBL046_PP_osaul/DBL046_PP_osaul/tmp/data/PPint_DB/ESM_C_embeddings/1TO5_A.npy\n"
     ]
    },
    {
     "name": "stderr",
     "output_type": "stream",
     "text": [
      "Embedding targets:  87%|█████████████████████████████████████████████████████▉        | 394/453 [01:35<00:12,  4.87it/s]"
     ]
    },
    {
     "name": "stdout",
     "output_type": "stream",
     "text": [
      "Protein 1TO5 embedded and saved to /zhome/c9/0/203261/DBL046_PP_osaul/DBL046_PP_osaul/tmp/data/PPint_DB/ESM_C_embeddings/1TO5_B.npy\n"
     ]
    },
    {
     "name": "stderr",
     "output_type": "stream",
     "text": [
      "Embedding targets:  87%|██████████████████████████████████████████████████████        | 395/453 [01:35<00:13,  4.23it/s]"
     ]
    },
    {
     "name": "stdout",
     "output_type": "stream",
     "text": [
      "Protein 5CZD embedded and saved to /zhome/c9/0/203261/DBL046_PP_osaul/DBL046_PP_osaul/tmp/data/PPint_DB/ESM_C_embeddings/5CZD_A.npy\n",
      "Protein 5CZD embedded and saved to /zhome/c9/0/203261/DBL046_PP_osaul/DBL046_PP_osaul/tmp/data/PPint_DB/ESM_C_embeddings/5CZD_B.npy\n"
     ]
    },
    {
     "name": "stderr",
     "output_type": "stream",
     "text": [
      "Embedding targets:  87%|██████████████████████████████████████████████████████▏       | 396/453 [01:36<00:13,  4.10it/s]"
     ]
    },
    {
     "name": "stdout",
     "output_type": "stream",
     "text": [
      "Protein 4U0R embedded and saved to /zhome/c9/0/203261/DBL046_PP_osaul/DBL046_PP_osaul/tmp/data/PPint_DB/ESM_C_embeddings/4U0R_A.npy\n",
      "Protein 4U0R embedded and saved to /zhome/c9/0/203261/DBL046_PP_osaul/DBL046_PP_osaul/tmp/data/PPint_DB/ESM_C_embeddings/4U0R_B.npy\n"
     ]
    },
    {
     "name": "stderr",
     "output_type": "stream",
     "text": [
      "Embedding targets:  88%|██████████████████████████████████████████████████████▎       | 397/453 [01:36<00:14,  3.81it/s]"
     ]
    },
    {
     "name": "stdout",
     "output_type": "stream",
     "text": [
      "Protein 1NOB embedded and saved to /zhome/c9/0/203261/DBL046_PP_osaul/DBL046_PP_osaul/tmp/data/PPint_DB/ESM_C_embeddings/1NOB_A.npy\n",
      "Protein 1NOB embedded and saved to /zhome/c9/0/203261/DBL046_PP_osaul/DBL046_PP_osaul/tmp/data/PPint_DB/ESM_C_embeddings/1NOB_B.npy\n"
     ]
    },
    {
     "name": "stderr",
     "output_type": "stream",
     "text": [
      "Embedding targets:  88%|██████████████████████████████████████████████████████▍       | 398/453 [01:36<00:14,  3.84it/s]"
     ]
    },
    {
     "name": "stdout",
     "output_type": "stream",
     "text": [
      "Protein 1IQA embedded and saved to /zhome/c9/0/203261/DBL046_PP_osaul/DBL046_PP_osaul/tmp/data/PPint_DB/ESM_C_embeddings/1IQA_A.npy\n",
      "Protein 1IQA embedded and saved to /zhome/c9/0/203261/DBL046_PP_osaul/DBL046_PP_osaul/tmp/data/PPint_DB/ESM_C_embeddings/1IQA_B.npy\n",
      "Protein 4CW9 embedded and saved to /zhome/c9/0/203261/DBL046_PP_osaul/DBL046_PP_osaul/tmp/data/PPint_DB/ESM_C_embeddings/4CW9_A.npy\n"
     ]
    },
    {
     "name": "stderr",
     "output_type": "stream",
     "text": [
      "Embedding targets:  88%|██████████████████████████████████████████████████████▌       | 399/453 [01:36<00:13,  4.14it/s]"
     ]
    },
    {
     "name": "stdout",
     "output_type": "stream",
     "text": [
      "Protein 4CW9 embedded and saved to /zhome/c9/0/203261/DBL046_PP_osaul/DBL046_PP_osaul/tmp/data/PPint_DB/ESM_C_embeddings/4CW9_B.npy\n",
      "Protein 5FUY embedded and saved to /zhome/c9/0/203261/DBL046_PP_osaul/DBL046_PP_osaul/tmp/data/PPint_DB/ESM_C_embeddings/5FUY_A.npy\n"
     ]
    },
    {
     "name": "stderr",
     "output_type": "stream",
     "text": [
      "Embedding targets:  88%|██████████████████████████████████████████████████████▋       | 400/453 [01:37<00:15,  3.41it/s]"
     ]
    },
    {
     "name": "stdout",
     "output_type": "stream",
     "text": [
      "Protein 5FUY embedded and saved to /zhome/c9/0/203261/DBL046_PP_osaul/DBL046_PP_osaul/tmp/data/PPint_DB/ESM_C_embeddings/5FUY_B.npy\n"
     ]
    },
    {
     "name": "stderr",
     "output_type": "stream",
     "text": [
      "Embedding targets:  89%|██████████████████████████████████████████████████████▉       | 401/453 [01:37<00:17,  2.90it/s]"
     ]
    },
    {
     "name": "stdout",
     "output_type": "stream",
     "text": [
      "Protein 3JZ6 embedded and saved to /zhome/c9/0/203261/DBL046_PP_osaul/DBL046_PP_osaul/tmp/data/PPint_DB/ESM_C_embeddings/3JZ6_A.npy\n",
      "Protein 3JZ6 embedded and saved to /zhome/c9/0/203261/DBL046_PP_osaul/DBL046_PP_osaul/tmp/data/PPint_DB/ESM_C_embeddings/3JZ6_B.npy\n"
     ]
    },
    {
     "name": "stderr",
     "output_type": "stream",
     "text": [
      "Embedding targets:  89%|███████████████████████████████████████████████████████       | 402/453 [01:38<00:17,  2.95it/s]"
     ]
    },
    {
     "name": "stdout",
     "output_type": "stream",
     "text": [
      "Protein 2PUV embedded and saved to /zhome/c9/0/203261/DBL046_PP_osaul/DBL046_PP_osaul/tmp/data/PPint_DB/ESM_C_embeddings/2PUV_A.npy\n",
      "Protein 2PUV embedded and saved to /zhome/c9/0/203261/DBL046_PP_osaul/DBL046_PP_osaul/tmp/data/PPint_DB/ESM_C_embeddings/2PUV_B.npy\n"
     ]
    },
    {
     "name": "stderr",
     "output_type": "stream",
     "text": [
      "Embedding targets:  89%|███████████████████████████████████████████████████████▏      | 403/453 [01:38<00:16,  3.06it/s]"
     ]
    },
    {
     "name": "stdout",
     "output_type": "stream",
     "text": [
      "Protein 8JUS embedded and saved to /zhome/c9/0/203261/DBL046_PP_osaul/DBL046_PP_osaul/tmp/data/PPint_DB/ESM_C_embeddings/8JUS_A.npy\n",
      "Protein 8JUS embedded and saved to /zhome/c9/0/203261/DBL046_PP_osaul/DBL046_PP_osaul/tmp/data/PPint_DB/ESM_C_embeddings/8JUS_B.npy\n"
     ]
    },
    {
     "name": "stderr",
     "output_type": "stream",
     "text": [
      "Embedding targets:  89%|███████████████████████████████████████████████████████▎      | 404/453 [01:38<00:15,  3.17it/s]"
     ]
    },
    {
     "name": "stdout",
     "output_type": "stream",
     "text": [
      "Protein 7QIS embedded and saved to /zhome/c9/0/203261/DBL046_PP_osaul/DBL046_PP_osaul/tmp/data/PPint_DB/ESM_C_embeddings/7QIS_A.npy\n",
      "Protein 7QIS embedded and saved to /zhome/c9/0/203261/DBL046_PP_osaul/DBL046_PP_osaul/tmp/data/PPint_DB/ESM_C_embeddings/7QIS_B.npy\n"
     ]
    },
    {
     "name": "stderr",
     "output_type": "stream",
     "text": [
      "Embedding targets:  89%|███████████████████████████████████████████████████████▍      | 405/453 [01:38<00:13,  3.52it/s]"
     ]
    },
    {
     "name": "stdout",
     "output_type": "stream",
     "text": [
      "Protein 2ZKI embedded and saved to /zhome/c9/0/203261/DBL046_PP_osaul/DBL046_PP_osaul/tmp/data/PPint_DB/ESM_C_embeddings/2ZKI_A.npy\n",
      "Protein 2ZKI embedded and saved to /zhome/c9/0/203261/DBL046_PP_osaul/DBL046_PP_osaul/tmp/data/PPint_DB/ESM_C_embeddings/2ZKI_B.npy\n",
      "Protein 2QQ4 embedded and saved to /zhome/c9/0/203261/DBL046_PP_osaul/DBL046_PP_osaul/tmp/data/PPint_DB/ESM_C_embeddings/2QQ4_A.npy\n"
     ]
    },
    {
     "name": "stderr",
     "output_type": "stream",
     "text": [
      "Embedding targets:  90%|███████████████████████████████████████████████████████▌      | 406/453 [01:38<00:11,  4.11it/s]"
     ]
    },
    {
     "name": "stdout",
     "output_type": "stream",
     "text": [
      "Protein 2QQ4 embedded and saved to /zhome/c9/0/203261/DBL046_PP_osaul/DBL046_PP_osaul/tmp/data/PPint_DB/ESM_C_embeddings/2QQ4_B.npy\n",
      "Protein 3B6U embedded and saved to /zhome/c9/0/203261/DBL046_PP_osaul/DBL046_PP_osaul/tmp/data/PPint_DB/ESM_C_embeddings/3B6U_A.npy\n"
     ]
    },
    {
     "name": "stderr",
     "output_type": "stream",
     "text": [
      "Embedding targets:  90%|███████████████████████████████████████████████████████▊      | 408/453 [01:39<00:09,  4.78it/s]"
     ]
    },
    {
     "name": "stdout",
     "output_type": "stream",
     "text": [
      "Protein 3B6U embedded and saved to /zhome/c9/0/203261/DBL046_PP_osaul/DBL046_PP_osaul/tmp/data/PPint_DB/ESM_C_embeddings/3B6U_B.npy\n",
      "Protein 6RQR embedded and saved to /zhome/c9/0/203261/DBL046_PP_osaul/DBL046_PP_osaul/tmp/data/PPint_DB/ESM_C_embeddings/6RQR_A.npy\n",
      "Protein 6RQR embedded and saved to /zhome/c9/0/203261/DBL046_PP_osaul/DBL046_PP_osaul/tmp/data/PPint_DB/ESM_C_embeddings/6RQR_B.npy\n"
     ]
    },
    {
     "name": "stderr",
     "output_type": "stream",
     "text": [
      "Embedding targets:  90%|███████████████████████████████████████████████████████▉      | 409/453 [01:39<00:09,  4.40it/s]"
     ]
    },
    {
     "name": "stdout",
     "output_type": "stream",
     "text": [
      "Protein 2IB7 embedded and saved to /zhome/c9/0/203261/DBL046_PP_osaul/DBL046_PP_osaul/tmp/data/PPint_DB/ESM_C_embeddings/2IB7_A.npy\n",
      "Protein 2IB7 embedded and saved to /zhome/c9/0/203261/DBL046_PP_osaul/DBL046_PP_osaul/tmp/data/PPint_DB/ESM_C_embeddings/2IB7_B.npy\n"
     ]
    },
    {
     "name": "stderr",
     "output_type": "stream",
     "text": [
      "Embedding targets:  91%|████████████████████████████████████████████████████████      | 410/453 [01:39<00:08,  4.99it/s]"
     ]
    },
    {
     "name": "stdout",
     "output_type": "stream",
     "text": [
      "Protein 8GUO embedded and saved to /zhome/c9/0/203261/DBL046_PP_osaul/DBL046_PP_osaul/tmp/data/PPint_DB/ESM_C_embeddings/8GUO_A.npy\n",
      "Protein 8GUO embedded and saved to /zhome/c9/0/203261/DBL046_PP_osaul/DBL046_PP_osaul/tmp/data/PPint_DB/ESM_C_embeddings/8GUO_B.npy\n"
     ]
    },
    {
     "name": "stderr",
     "output_type": "stream",
     "text": [
      "Embedding targets:  91%|████████████████████████████████████████████████████████▎     | 411/453 [01:40<00:09,  4.63it/s]"
     ]
    },
    {
     "name": "stdout",
     "output_type": "stream",
     "text": [
      "Protein 4K90 embedded and saved to /zhome/c9/0/203261/DBL046_PP_osaul/DBL046_PP_osaul/tmp/data/PPint_DB/ESM_C_embeddings/4K90_A.npy\n",
      "Protein 4K90 embedded and saved to /zhome/c9/0/203261/DBL046_PP_osaul/DBL046_PP_osaul/tmp/data/PPint_DB/ESM_C_embeddings/4K90_B.npy\n",
      "Protein 9EKF embedded and saved to /zhome/c9/0/203261/DBL046_PP_osaul/DBL046_PP_osaul/tmp/data/PPint_DB/ESM_C_embeddings/9EKF_A.npy\n"
     ]
    },
    {
     "name": "stderr",
     "output_type": "stream",
     "text": [
      "Embedding targets:  91%|████████████████████████████████████████████████████████▍     | 412/453 [01:40<00:07,  5.20it/s]"
     ]
    },
    {
     "name": "stdout",
     "output_type": "stream",
     "text": [
      "Protein 9EKF embedded and saved to /zhome/c9/0/203261/DBL046_PP_osaul/DBL046_PP_osaul/tmp/data/PPint_DB/ESM_C_embeddings/9EKF_B.npy\n",
      "Protein 1UKW embedded and saved to /zhome/c9/0/203261/DBL046_PP_osaul/DBL046_PP_osaul/tmp/data/PPint_DB/ESM_C_embeddings/1UKW_A.npy\n"
     ]
    },
    {
     "name": "stderr",
     "output_type": "stream",
     "text": [
      "Embedding targets:  91%|████████████████████████████████████████████████████████▋     | 414/453 [01:40<00:07,  5.34it/s]"
     ]
    },
    {
     "name": "stdout",
     "output_type": "stream",
     "text": [
      "Protein 1UKW embedded and saved to /zhome/c9/0/203261/DBL046_PP_osaul/DBL046_PP_osaul/tmp/data/PPint_DB/ESM_C_embeddings/1UKW_B.npy\n",
      "Protein 6OML embedded and saved to /zhome/c9/0/203261/DBL046_PP_osaul/DBL046_PP_osaul/tmp/data/PPint_DB/ESM_C_embeddings/6OML_A.npy\n",
      "Protein 6OML embedded and saved to /zhome/c9/0/203261/DBL046_PP_osaul/DBL046_PP_osaul/tmp/data/PPint_DB/ESM_C_embeddings/6OML_B.npy\n"
     ]
    },
    {
     "name": "stderr",
     "output_type": "stream",
     "text": [
      "Embedding targets:  92%|████████████████████████████████████████████████████████▊     | 415/453 [01:40<00:06,  5.78it/s]"
     ]
    },
    {
     "name": "stdout",
     "output_type": "stream",
     "text": [
      "Protein 8QQF embedded and saved to /zhome/c9/0/203261/DBL046_PP_osaul/DBL046_PP_osaul/tmp/data/PPint_DB/ESM_C_embeddings/8QQF_A.npy\n",
      "Protein 8QQF embedded and saved to /zhome/c9/0/203261/DBL046_PP_osaul/DBL046_PP_osaul/tmp/data/PPint_DB/ESM_C_embeddings/8QQF_B.npy\n",
      "Protein 3BU7 embedded and saved to /zhome/c9/0/203261/DBL046_PP_osaul/DBL046_PP_osaul/tmp/data/PPint_DB/ESM_C_embeddings/3BU7_A.npy\n"
     ]
    },
    {
     "name": "stderr",
     "output_type": "stream",
     "text": [
      "Embedding targets:  92%|█████████████████████████████████████████████████████████     | 417/453 [01:41<00:06,  5.37it/s]"
     ]
    },
    {
     "name": "stdout",
     "output_type": "stream",
     "text": [
      "Protein 3BU7 embedded and saved to /zhome/c9/0/203261/DBL046_PP_osaul/DBL046_PP_osaul/tmp/data/PPint_DB/ESM_C_embeddings/3BU7_B.npy\n",
      "Protein 8BZR embedded and saved to /zhome/c9/0/203261/DBL046_PP_osaul/DBL046_PP_osaul/tmp/data/PPint_DB/ESM_C_embeddings/8BZR_A.npy\n",
      "Protein 8BZR embedded and saved to /zhome/c9/0/203261/DBL046_PP_osaul/DBL046_PP_osaul/tmp/data/PPint_DB/ESM_C_embeddings/8BZR_B.npy\n",
      "Protein 8RGP embedded and saved to /zhome/c9/0/203261/DBL046_PP_osaul/DBL046_PP_osaul/tmp/data/PPint_DB/ESM_C_embeddings/8RGP_A.npy\n",
      "Protein 8RGP embedded and saved to /zhome/c9/0/203261/DBL046_PP_osaul/DBL046_PP_osaul/tmp/data/PPint_DB/ESM_C_embeddings/8RGP_B.npy\n",
      "Protein 8RGP embedded and saved to /zhome/c9/0/203261/DBL046_PP_osaul/DBL046_PP_osaul/tmp/data/PPint_DB/ESM_C_embeddings/8RGP_C.npy\n",
      "Protein 8RGP embedded and saved to /zhome/c9/0/203261/DBL046_PP_osaul/DBL046_PP_osaul/tmp/data/PPint_DB/ESM_C_embeddings/8RGP_D.npy\n",
      "Protein 8RGP embedded and saved to /zhome/c9/0/203261/DBL046_PP_osaul/DBL046_PP_osaul/tmp/data/PPint_DB/ESM_C_embeddings/8RGP_E.npy\n",
      "Protein 8RGP embedded and saved to /zhome/c9/0/203261/DBL046_PP_osaul/DBL046_PP_osaul/tmp/data/PPint_DB/ESM_C_embeddings/8RGP_F.npy\n"
     ]
    },
    {
     "name": "stderr",
     "output_type": "stream",
     "text": [
      "Embedding targets:  92%|█████████████████████████████████████████████████████████▏    | 418/453 [01:41<00:11,  3.14it/s]"
     ]
    },
    {
     "name": "stdout",
     "output_type": "stream",
     "text": [
      "Protein 8RGP embedded and saved to /zhome/c9/0/203261/DBL046_PP_osaul/DBL046_PP_osaul/tmp/data/PPint_DB/ESM_C_embeddings/8RGP_G.npy\n",
      "Protein 8RGP embedded and saved to /zhome/c9/0/203261/DBL046_PP_osaul/DBL046_PP_osaul/tmp/data/PPint_DB/ESM_C_embeddings/8RGP_H.npy\n"
     ]
    },
    {
     "name": "stderr",
     "output_type": "stream",
     "text": [
      "Embedding targets:  92%|█████████████████████████████████████████████████████████▎    | 419/453 [01:42<00:11,  2.97it/s]"
     ]
    },
    {
     "name": "stdout",
     "output_type": "stream",
     "text": [
      "Protein 5MLN embedded and saved to /zhome/c9/0/203261/DBL046_PP_osaul/DBL046_PP_osaul/tmp/data/PPint_DB/ESM_C_embeddings/5MLN_A.npy\n",
      "Protein 5MLN embedded and saved to /zhome/c9/0/203261/DBL046_PP_osaul/DBL046_PP_osaul/tmp/data/PPint_DB/ESM_C_embeddings/5MLN_B.npy\n",
      "Protein 6I5O embedded and saved to /zhome/c9/0/203261/DBL046_PP_osaul/DBL046_PP_osaul/tmp/data/PPint_DB/ESM_C_embeddings/6I5O_A.npy\n"
     ]
    },
    {
     "name": "stderr",
     "output_type": "stream",
     "text": [
      "Embedding targets:  93%|█████████████████████████████████████████████████████████▍    | 420/453 [01:42<00:11,  2.91it/s]"
     ]
    },
    {
     "name": "stdout",
     "output_type": "stream",
     "text": [
      "Protein 6I5O embedded and saved to /zhome/c9/0/203261/DBL046_PP_osaul/DBL046_PP_osaul/tmp/data/PPint_DB/ESM_C_embeddings/6I5O_B.npy\n",
      "Protein 3U5T embedded and saved to /zhome/c9/0/203261/DBL046_PP_osaul/DBL046_PP_osaul/tmp/data/PPint_DB/ESM_C_embeddings/3U5T_A.npy\n"
     ]
    },
    {
     "name": "stderr",
     "output_type": "stream",
     "text": [
      "Embedding targets:  93%|█████████████████████████████████████████████████████████▊    | 422/453 [01:42<00:08,  3.85it/s]"
     ]
    },
    {
     "name": "stdout",
     "output_type": "stream",
     "text": [
      "Protein 3U5T embedded and saved to /zhome/c9/0/203261/DBL046_PP_osaul/DBL046_PP_osaul/tmp/data/PPint_DB/ESM_C_embeddings/3U5T_B.npy\n",
      "Protein 6NJD embedded and saved to /zhome/c9/0/203261/DBL046_PP_osaul/DBL046_PP_osaul/tmp/data/PPint_DB/ESM_C_embeddings/6NJD_A.npy\n",
      "Protein 6NJD embedded and saved to /zhome/c9/0/203261/DBL046_PP_osaul/DBL046_PP_osaul/tmp/data/PPint_DB/ESM_C_embeddings/6NJD_B.npy\n"
     ]
    },
    {
     "name": "stderr",
     "output_type": "stream",
     "text": [
      "Embedding targets:  93%|█████████████████████████████████████████████████████████▉    | 423/453 [01:43<00:07,  3.98it/s]"
     ]
    },
    {
     "name": "stdout",
     "output_type": "stream",
     "text": [
      "Protein 6L88 embedded and saved to /zhome/c9/0/203261/DBL046_PP_osaul/DBL046_PP_osaul/tmp/data/PPint_DB/ESM_C_embeddings/6L88_A.npy\n",
      "Protein 6L88 embedded and saved to /zhome/c9/0/203261/DBL046_PP_osaul/DBL046_PP_osaul/tmp/data/PPint_DB/ESM_C_embeddings/6L88_B.npy\n",
      "Protein 8WHM embedded and saved to /zhome/c9/0/203261/DBL046_PP_osaul/DBL046_PP_osaul/tmp/data/PPint_DB/ESM_C_embeddings/8WHM_A.npy\n"
     ]
    },
    {
     "name": "stderr",
     "output_type": "stream",
     "text": [
      "Embedding targets:  94%|██████████████████████████████████████████████████████████    | 424/453 [01:43<00:06,  4.56it/s]"
     ]
    },
    {
     "name": "stdout",
     "output_type": "stream",
     "text": [
      "Protein 8WHM embedded and saved to /zhome/c9/0/203261/DBL046_PP_osaul/DBL046_PP_osaul/tmp/data/PPint_DB/ESM_C_embeddings/8WHM_B.npy\n",
      "Protein 1KC5 embedded and saved to /zhome/c9/0/203261/DBL046_PP_osaul/DBL046_PP_osaul/tmp/data/PPint_DB/ESM_C_embeddings/1KC5_A.npy\n"
     ]
    },
    {
     "name": "stderr",
     "output_type": "stream",
     "text": [
      "Embedding targets:  94%|██████████████████████████████████████████████████████████▏   | 425/453 [01:43<00:06,  4.31it/s]"
     ]
    },
    {
     "name": "stdout",
     "output_type": "stream",
     "text": [
      "Protein 1KC5 embedded and saved to /zhome/c9/0/203261/DBL046_PP_osaul/DBL046_PP_osaul/tmp/data/PPint_DB/ESM_C_embeddings/1KC5_B.npy\n",
      "Protein 6T65 embedded and saved to /zhome/c9/0/203261/DBL046_PP_osaul/DBL046_PP_osaul/tmp/data/PPint_DB/ESM_C_embeddings/6T65_A.npy\n"
     ]
    },
    {
     "name": "stderr",
     "output_type": "stream",
     "text": [
      "Embedding targets:  94%|██████████████████████████████████████████████████████████▎   | 426/453 [01:43<00:06,  3.96it/s]"
     ]
    },
    {
     "name": "stdout",
     "output_type": "stream",
     "text": [
      "Protein 6T65 embedded and saved to /zhome/c9/0/203261/DBL046_PP_osaul/DBL046_PP_osaul/tmp/data/PPint_DB/ESM_C_embeddings/6T65_B.npy\n",
      "Protein 4RSW embedded and saved to /zhome/c9/0/203261/DBL046_PP_osaul/DBL046_PP_osaul/tmp/data/PPint_DB/ESM_C_embeddings/4RSW_A.npy\n"
     ]
    },
    {
     "name": "stderr",
     "output_type": "stream",
     "text": [
      "Embedding targets:  94%|██████████████████████████████████████████████████████████▍   | 427/453 [01:44<00:06,  3.91it/s]"
     ]
    },
    {
     "name": "stdout",
     "output_type": "stream",
     "text": [
      "Protein 4RSW embedded and saved to /zhome/c9/0/203261/DBL046_PP_osaul/DBL046_PP_osaul/tmp/data/PPint_DB/ESM_C_embeddings/4RSW_B.npy\n",
      "Protein 3R6Y embedded and saved to /zhome/c9/0/203261/DBL046_PP_osaul/DBL046_PP_osaul/tmp/data/PPint_DB/ESM_C_embeddings/3R6Y_A.npy\n"
     ]
    },
    {
     "name": "stderr",
     "output_type": "stream",
     "text": [
      "Embedding targets:  94%|██████████████████████████████████████████████████████████▌   | 428/453 [01:44<00:06,  3.73it/s]"
     ]
    },
    {
     "name": "stdout",
     "output_type": "stream",
     "text": [
      "Protein 3R6Y embedded and saved to /zhome/c9/0/203261/DBL046_PP_osaul/DBL046_PP_osaul/tmp/data/PPint_DB/ESM_C_embeddings/3R6Y_B.npy\n",
      "Protein 6BS4 embedded and saved to /zhome/c9/0/203261/DBL046_PP_osaul/DBL046_PP_osaul/tmp/data/PPint_DB/ESM_C_embeddings/6BS4_A.npy\n"
     ]
    },
    {
     "name": "stderr",
     "output_type": "stream",
     "text": [
      "Embedding targets:  95%|██████████████████████████████████████████████████████████▋   | 429/453 [01:44<00:07,  3.02it/s]"
     ]
    },
    {
     "name": "stdout",
     "output_type": "stream",
     "text": [
      "Protein 6BS4 embedded and saved to /zhome/c9/0/203261/DBL046_PP_osaul/DBL046_PP_osaul/tmp/data/PPint_DB/ESM_C_embeddings/6BS4_B.npy\n"
     ]
    },
    {
     "name": "stderr",
     "output_type": "stream",
     "text": [
      "Embedding targets:  95%|██████████████████████████████████████████████████████████▊   | 430/453 [01:45<00:07,  3.11it/s]"
     ]
    },
    {
     "name": "stdout",
     "output_type": "stream",
     "text": [
      "Protein 3HUL embedded and saved to /zhome/c9/0/203261/DBL046_PP_osaul/DBL046_PP_osaul/tmp/data/PPint_DB/ESM_C_embeddings/3HUL_A.npy\n",
      "Protein 3HUL embedded and saved to /zhome/c9/0/203261/DBL046_PP_osaul/DBL046_PP_osaul/tmp/data/PPint_DB/ESM_C_embeddings/3HUL_B.npy\n",
      "Protein 8WUC embedded and saved to /zhome/c9/0/203261/DBL046_PP_osaul/DBL046_PP_osaul/tmp/data/PPint_DB/ESM_C_embeddings/8WUC_A.npy\n"
     ]
    },
    {
     "name": "stderr",
     "output_type": "stream",
     "text": [
      "Embedding targets:  95%|██████████████████████████████████████████████████████████▉   | 431/453 [01:45<00:06,  3.50it/s]"
     ]
    },
    {
     "name": "stdout",
     "output_type": "stream",
     "text": [
      "Protein 8WUC embedded and saved to /zhome/c9/0/203261/DBL046_PP_osaul/DBL046_PP_osaul/tmp/data/PPint_DB/ESM_C_embeddings/8WUC_B.npy\n",
      "Protein 9JFJ embedded and saved to /zhome/c9/0/203261/DBL046_PP_osaul/DBL046_PP_osaul/tmp/data/PPint_DB/ESM_C_embeddings/9JFJ_A.npy\n"
     ]
    },
    {
     "name": "stderr",
     "output_type": "stream",
     "text": [
      "Embedding targets:  95%|███████████████████████████████████████████████████████████▏  | 432/453 [01:45<00:05,  3.52it/s]"
     ]
    },
    {
     "name": "stdout",
     "output_type": "stream",
     "text": [
      "Protein 9JFJ embedded and saved to /zhome/c9/0/203261/DBL046_PP_osaul/DBL046_PP_osaul/tmp/data/PPint_DB/ESM_C_embeddings/9JFJ_B.npy\n",
      "Protein 3PFO embedded and saved to /zhome/c9/0/203261/DBL046_PP_osaul/DBL046_PP_osaul/tmp/data/PPint_DB/ESM_C_embeddings/3PFO_A.npy\n"
     ]
    },
    {
     "name": "stderr",
     "output_type": "stream",
     "text": [
      "Embedding targets:  96%|███████████████████████████████████████████████████████████▎  | 433/453 [01:45<00:06,  3.09it/s]"
     ]
    },
    {
     "name": "stdout",
     "output_type": "stream",
     "text": [
      "Protein 3PFO embedded and saved to /zhome/c9/0/203261/DBL046_PP_osaul/DBL046_PP_osaul/tmp/data/PPint_DB/ESM_C_embeddings/3PFO_B.npy\n",
      "Protein 1TQQ embedded and saved to /zhome/c9/0/203261/DBL046_PP_osaul/DBL046_PP_osaul/tmp/data/PPint_DB/ESM_C_embeddings/1TQQ_A.npy\n"
     ]
    },
    {
     "name": "stderr",
     "output_type": "stream",
     "text": [
      "Embedding targets:  96%|███████████████████████████████████████████████████████████▌  | 435/453 [01:46<00:04,  3.62it/s]"
     ]
    },
    {
     "name": "stdout",
     "output_type": "stream",
     "text": [
      "Protein 1TQQ embedded and saved to /zhome/c9/0/203261/DBL046_PP_osaul/DBL046_PP_osaul/tmp/data/PPint_DB/ESM_C_embeddings/1TQQ_B.npy\n",
      "Protein 3W9D embedded and saved to /zhome/c9/0/203261/DBL046_PP_osaul/DBL046_PP_osaul/tmp/data/PPint_DB/ESM_C_embeddings/3W9D_A.npy\n",
      "Protein 3W9D embedded and saved to /zhome/c9/0/203261/DBL046_PP_osaul/DBL046_PP_osaul/tmp/data/PPint_DB/ESM_C_embeddings/3W9D_B.npy\n"
     ]
    },
    {
     "name": "stderr",
     "output_type": "stream",
     "text": [
      "Embedding targets:  96%|███████████████████████████████████████████████████████████▋  | 436/453 [01:46<00:04,  4.01it/s]"
     ]
    },
    {
     "name": "stdout",
     "output_type": "stream",
     "text": [
      "Protein 2HX1 embedded and saved to /zhome/c9/0/203261/DBL046_PP_osaul/DBL046_PP_osaul/tmp/data/PPint_DB/ESM_C_embeddings/2HX1_A.npy\n",
      "Protein 2HX1 embedded and saved to /zhome/c9/0/203261/DBL046_PP_osaul/DBL046_PP_osaul/tmp/data/PPint_DB/ESM_C_embeddings/2HX1_B.npy\n"
     ]
    },
    {
     "name": "stderr",
     "output_type": "stream",
     "text": [
      "Embedding targets:  96%|███████████████████████████████████████████████████████████▊  | 437/453 [01:46<00:04,  3.78it/s]"
     ]
    },
    {
     "name": "stdout",
     "output_type": "stream",
     "text": [
      "Protein 3D2P embedded and saved to /zhome/c9/0/203261/DBL046_PP_osaul/DBL046_PP_osaul/tmp/data/PPint_DB/ESM_C_embeddings/3D2P_A.npy\n",
      "Protein 3D2P embedded and saved to /zhome/c9/0/203261/DBL046_PP_osaul/DBL046_PP_osaul/tmp/data/PPint_DB/ESM_C_embeddings/3D2P_B.npy\n"
     ]
    },
    {
     "name": "stderr",
     "output_type": "stream",
     "text": [
      "Embedding targets:  97%|███████████████████████████████████████████████████████████▉  | 438/453 [01:47<00:03,  4.08it/s]"
     ]
    },
    {
     "name": "stdout",
     "output_type": "stream",
     "text": [
      "Protein 2PK2 embedded and saved to /zhome/c9/0/203261/DBL046_PP_osaul/DBL046_PP_osaul/tmp/data/PPint_DB/ESM_C_embeddings/2PK2_A.npy\n",
      "Protein 2PK2 embedded and saved to /zhome/c9/0/203261/DBL046_PP_osaul/DBL046_PP_osaul/tmp/data/PPint_DB/ESM_C_embeddings/2PK2_B.npy\n",
      "Protein 6N6B embedded and saved to /zhome/c9/0/203261/DBL046_PP_osaul/DBL046_PP_osaul/tmp/data/PPint_DB/ESM_C_embeddings/6N6B_A.npy\n",
      "Protein 6N6B embedded and saved to /zhome/c9/0/203261/DBL046_PP_osaul/DBL046_PP_osaul/tmp/data/PPint_DB/ESM_C_embeddings/6N6B_B.npy\n",
      "Protein 6N6B embedded and saved to /zhome/c9/0/203261/DBL046_PP_osaul/DBL046_PP_osaul/tmp/data/PPint_DB/ESM_C_embeddings/6N6B_C.npy\n"
     ]
    },
    {
     "name": "stderr",
     "output_type": "stream",
     "text": [
      "Embedding targets:  97%|████████████████████████████████████████████████████████████  | 439/453 [01:47<00:04,  3.17it/s]"
     ]
    },
    {
     "name": "stdout",
     "output_type": "stream",
     "text": [
      "Protein 6N6B embedded and saved to /zhome/c9/0/203261/DBL046_PP_osaul/DBL046_PP_osaul/tmp/data/PPint_DB/ESM_C_embeddings/6N6B_D.npy\n",
      "Protein 1NSL embedded and saved to /zhome/c9/0/203261/DBL046_PP_osaul/DBL046_PP_osaul/tmp/data/PPint_DB/ESM_C_embeddings/1NSL_A.npy\n"
     ]
    },
    {
     "name": "stderr",
     "output_type": "stream",
     "text": [
      "Embedding targets:  97%|████████████████████████████████████████████████████████████▏ | 440/453 [01:47<00:04,  3.08it/s]"
     ]
    },
    {
     "name": "stdout",
     "output_type": "stream",
     "text": [
      "Protein 1NSL embedded and saved to /zhome/c9/0/203261/DBL046_PP_osaul/DBL046_PP_osaul/tmp/data/PPint_DB/ESM_C_embeddings/1NSL_B.npy\n",
      "Protein 1X6M embedded and saved to /zhome/c9/0/203261/DBL046_PP_osaul/DBL046_PP_osaul/tmp/data/PPint_DB/ESM_C_embeddings/1X6M_A.npy\n"
     ]
    },
    {
     "name": "stderr",
     "output_type": "stream",
     "text": [
      "Embedding targets:  98%|████████████████████████████████████████████████████████████▍ | 442/453 [01:48<00:02,  3.90it/s]"
     ]
    },
    {
     "name": "stdout",
     "output_type": "stream",
     "text": [
      "Protein 1X6M embedded and saved to /zhome/c9/0/203261/DBL046_PP_osaul/DBL046_PP_osaul/tmp/data/PPint_DB/ESM_C_embeddings/1X6M_B.npy\n",
      "Protein 3FBF embedded and saved to /zhome/c9/0/203261/DBL046_PP_osaul/DBL046_PP_osaul/tmp/data/PPint_DB/ESM_C_embeddings/3FBF_A.npy\n",
      "Protein 3FBF embedded and saved to /zhome/c9/0/203261/DBL046_PP_osaul/DBL046_PP_osaul/tmp/data/PPint_DB/ESM_C_embeddings/3FBF_B.npy\n"
     ]
    },
    {
     "name": "stderr",
     "output_type": "stream",
     "text": [
      "Embedding targets:  98%|████████████████████████████████████████████████████████████▋ | 443/453 [01:48<00:02,  4.36it/s]"
     ]
    },
    {
     "name": "stdout",
     "output_type": "stream",
     "text": [
      "Protein 2XGY embedded and saved to /zhome/c9/0/203261/DBL046_PP_osaul/DBL046_PP_osaul/tmp/data/PPint_DB/ESM_C_embeddings/2XGY_A.npy\n",
      "Protein 2XGY embedded and saved to /zhome/c9/0/203261/DBL046_PP_osaul/DBL046_PP_osaul/tmp/data/PPint_DB/ESM_C_embeddings/2XGY_B.npy\n",
      "Protein 1C12 embedded and saved to /zhome/c9/0/203261/DBL046_PP_osaul/DBL046_PP_osaul/tmp/data/PPint_DB/ESM_C_embeddings/1C12_A.npy\n"
     ]
    },
    {
     "name": "stderr",
     "output_type": "stream",
     "text": [
      "Embedding targets:  98%|████████████████████████████████████████████████████████████▊ | 444/453 [01:48<00:02,  4.45it/s]"
     ]
    },
    {
     "name": "stdout",
     "output_type": "stream",
     "text": [
      "Protein 1C12 embedded and saved to /zhome/c9/0/203261/DBL046_PP_osaul/DBL046_PP_osaul/tmp/data/PPint_DB/ESM_C_embeddings/1C12_B.npy\n",
      "Protein 5NGV embedded and saved to /zhome/c9/0/203261/DBL046_PP_osaul/DBL046_PP_osaul/tmp/data/PPint_DB/ESM_C_embeddings/5NGV_A.npy\n",
      "Protein 5NGV embedded and saved to /zhome/c9/0/203261/DBL046_PP_osaul/DBL046_PP_osaul/tmp/data/PPint_DB/ESM_C_embeddings/5NGV_B.npy\n"
     ]
    },
    {
     "name": "stderr",
     "output_type": "stream",
     "text": [
      "Embedding targets:  98%|████████████████████████████████████████████████████████████▉ | 445/453 [01:49<00:02,  3.89it/s]"
     ]
    },
    {
     "name": "stdout",
     "output_type": "stream",
     "text": [
      "Protein 5NGV embedded and saved to /zhome/c9/0/203261/DBL046_PP_osaul/DBL046_PP_osaul/tmp/data/PPint_DB/ESM_C_embeddings/5NGV_C.npy\n",
      "Protein 5NGV embedded and saved to /zhome/c9/0/203261/DBL046_PP_osaul/DBL046_PP_osaul/tmp/data/PPint_DB/ESM_C_embeddings/5NGV_D.npy\n",
      "Protein 1JY3 embedded and saved to /zhome/c9/0/203261/DBL046_PP_osaul/DBL046_PP_osaul/tmp/data/PPint_DB/ESM_C_embeddings/1JY3_A.npy\n"
     ]
    },
    {
     "name": "stderr",
     "output_type": "stream",
     "text": [
      "Embedding targets:  99%|█████████████████████████████████████████████████████████████▏| 447/453 [01:49<00:01,  3.97it/s]"
     ]
    },
    {
     "name": "stdout",
     "output_type": "stream",
     "text": [
      "Protein 1JY3 embedded and saved to /zhome/c9/0/203261/DBL046_PP_osaul/DBL046_PP_osaul/tmp/data/PPint_DB/ESM_C_embeddings/1JY3_B.npy\n",
      "Protein 6U3W embedded and saved to /zhome/c9/0/203261/DBL046_PP_osaul/DBL046_PP_osaul/tmp/data/PPint_DB/ESM_C_embeddings/6U3W_A.npy\n",
      "Protein 6U3W embedded and saved to /zhome/c9/0/203261/DBL046_PP_osaul/DBL046_PP_osaul/tmp/data/PPint_DB/ESM_C_embeddings/6U3W_B.npy\n"
     ]
    },
    {
     "name": "stderr",
     "output_type": "stream",
     "text": [
      "Embedding targets:  99%|█████████████████████████████████████████████████████████████▎| 448/453 [01:49<00:01,  4.72it/s]"
     ]
    },
    {
     "name": "stdout",
     "output_type": "stream",
     "text": [
      "Protein 7MNK embedded and saved to /zhome/c9/0/203261/DBL046_PP_osaul/DBL046_PP_osaul/tmp/data/PPint_DB/ESM_C_embeddings/7MNK_A.npy\n",
      "Protein 7MNK embedded and saved to /zhome/c9/0/203261/DBL046_PP_osaul/DBL046_PP_osaul/tmp/data/PPint_DB/ESM_C_embeddings/7MNK_B.npy\n",
      "Protein 1C3X embedded and saved to /zhome/c9/0/203261/DBL046_PP_osaul/DBL046_PP_osaul/tmp/data/PPint_DB/ESM_C_embeddings/1C3X_A.npy\n"
     ]
    },
    {
     "name": "stderr",
     "output_type": "stream",
     "text": [
      "Embedding targets:  99%|█████████████████████████████████████████████████████████████▌| 450/453 [01:50<00:00,  4.85it/s]"
     ]
    },
    {
     "name": "stdout",
     "output_type": "stream",
     "text": [
      "Protein 1C3X embedded and saved to /zhome/c9/0/203261/DBL046_PP_osaul/DBL046_PP_osaul/tmp/data/PPint_DB/ESM_C_embeddings/1C3X_B.npy\n",
      "Protein 7RCK embedded and saved to /zhome/c9/0/203261/DBL046_PP_osaul/DBL046_PP_osaul/tmp/data/PPint_DB/ESM_C_embeddings/7RCK_A.npy\n",
      "Protein 7RCK embedded and saved to /zhome/c9/0/203261/DBL046_PP_osaul/DBL046_PP_osaul/tmp/data/PPint_DB/ESM_C_embeddings/7RCK_B.npy\n"
     ]
    },
    {
     "name": "stderr",
     "output_type": "stream",
     "text": [
      "Embedding targets: 100%|█████████████████████████████████████████████████████████████▋| 451/453 [01:50<00:00,  4.38it/s]"
     ]
    },
    {
     "name": "stdout",
     "output_type": "stream",
     "text": [
      "Protein 3BJS embedded and saved to /zhome/c9/0/203261/DBL046_PP_osaul/DBL046_PP_osaul/tmp/data/PPint_DB/ESM_C_embeddings/3BJS_A.npy\n",
      "Protein 3BJS embedded and saved to /zhome/c9/0/203261/DBL046_PP_osaul/DBL046_PP_osaul/tmp/data/PPint_DB/ESM_C_embeddings/3BJS_B.npy\n"
     ]
    },
    {
     "name": "stderr",
     "output_type": "stream",
     "text": [
      "Embedding targets: 100%|█████████████████████████████████████████████████████████████▊| 452/453 [01:50<00:00,  4.73it/s]"
     ]
    },
    {
     "name": "stdout",
     "output_type": "stream",
     "text": [
      "Protein 5TEK embedded and saved to /zhome/c9/0/203261/DBL046_PP_osaul/DBL046_PP_osaul/tmp/data/PPint_DB/ESM_C_embeddings/5TEK_A.npy\n",
      "Protein 5TEK embedded and saved to /zhome/c9/0/203261/DBL046_PP_osaul/DBL046_PP_osaul/tmp/data/PPint_DB/ESM_C_embeddings/5TEK_B.npy\n",
      "Protein 4L8W embedded and saved to /zhome/c9/0/203261/DBL046_PP_osaul/DBL046_PP_osaul/tmp/data/PPint_DB/ESM_C_embeddings/4L8W_A.npy\n"
     ]
    },
    {
     "name": "stderr",
     "output_type": "stream",
     "text": [
      "Embedding targets: 100%|██████████████████████████████████████████████████████████████| 453/453 [01:50<00:00,  4.09it/s]\n"
     ]
    },
    {
     "name": "stdout",
     "output_type": "stream",
     "text": [
      "Protein 4L8W embedded and saved to /zhome/c9/0/203261/DBL046_PP_osaul/DBL046_PP_osaul/tmp/data/PPint_DB/ESM_C_embeddings/4L8W_B.npy\n"
     ]
    }
   ],
   "source": [
    "# where to save\n",
    "path_to_output_embeddings = \"/zhome/c9/0/203261/DBL046_PP_osaul/DBL046_PP_osaul/tmp/data/PPint_DB/ESM_C_embeddings\"\n",
    "os.makedirs(path_to_output_embeddings, exist_ok=True)\n",
    "\n",
    "# helper: convert torch tensor to numpy\n",
    "def to_numpy(x):\n",
    "    try:\n",
    "        return x.detach().cpu().numpy()\n",
    "    except AttributeError:\n",
    "        return np.asarray(x)\n",
    "\n",
    "seq_num = [\"A\", \"B\", \"C\", \"D\", \"E\", \"F\", \"G\", \"H\"]\n",
    "for name, seqs in tqdm(interaction_Dict.items(), total=len(interaction_Dict.items()), desc=\"Embedding targets\"):\n",
    "     for idx, seq in enumerate(seqs[:8]):\n",
    "        emb = calculate_ESM_pr_res_embeddings(seq)\n",
    "        emb_np = to_numpy(emb)\n",
    "        out_path = os.path.join(path_to_output_embeddings, f\"{name}_{seq_num[idx]}.npy\")\n",
    "        np.save(out_path, emb_np)\n",
    "        print(f\"Protein {name} embedded and saved to {out_path}\")\n",
    "\n",
    "# Count files in the \n",
    "# path_to_output_embeddings = \"/zhome/c9/0/203261/DBL046_PP_osaul/DBL046_PP_osaul/tmp/data/meta_analysis/targets_embeddings\"\n",
    "if len(os.listdir(path_to_output_embeddings)) == len(interaction_Dict.keys()):\n",
    "    print(\"All sequences encoded!\")"
   ]
  }
 ],
 "metadata": {
  "kernelspec": {
   "display_name": "Python 3 (ipykernel)",
   "language": "python",
   "name": "python3"
  },
  "language_info": {
   "codemirror_mode": {
    "name": "ipython",
    "version": 3
   },
   "file_extension": ".py",
   "mimetype": "text/x-python",
   "name": "python",
   "nbconvert_exporter": "python",
   "pygments_lexer": "ipython3",
   "version": "3.10.13"
  }
 },
 "nbformat": 4,
 "nbformat_minor": 5
}
